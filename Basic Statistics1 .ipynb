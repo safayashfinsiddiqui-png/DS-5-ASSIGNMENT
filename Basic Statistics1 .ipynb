{
 "cells": [
  {
   "cell_type": "code",
   "execution_count": 1,
   "id": "21b2dc62-4aec-4bb8-b9c0-052784d1d816",
   "metadata": {},
   "outputs": [],
   "source": [
    "import pandas as pd \n",
    "import matplotlib.pyplot as plt"
   ]
  },
  {
   "cell_type": "code",
   "execution_count": 2,
   "id": "7913ec6a-9fc9-4f45-85a8-ce3a33b1a85a",
   "metadata": {
    "scrolled": true
   },
   "outputs": [
    {
     "data": {
      "text/plain": [
       "['ArrowDtype',\n",
       " 'BooleanDtype',\n",
       " 'Categorical',\n",
       " 'CategoricalDtype',\n",
       " 'CategoricalIndex',\n",
       " 'DataFrame',\n",
       " 'DateOffset',\n",
       " 'DatetimeIndex',\n",
       " 'DatetimeTZDtype',\n",
       " 'ExcelFile',\n",
       " 'ExcelWriter',\n",
       " 'Flags',\n",
       " 'Float32Dtype',\n",
       " 'Float64Dtype',\n",
       " 'Grouper',\n",
       " 'HDFStore',\n",
       " 'Index',\n",
       " 'IndexSlice',\n",
       " 'Int16Dtype',\n",
       " 'Int32Dtype',\n",
       " 'Int64Dtype',\n",
       " 'Int8Dtype',\n",
       " 'Interval',\n",
       " 'IntervalDtype',\n",
       " 'IntervalIndex',\n",
       " 'MultiIndex',\n",
       " 'NA',\n",
       " 'NaT',\n",
       " 'NamedAgg',\n",
       " 'Period',\n",
       " 'PeriodDtype',\n",
       " 'PeriodIndex',\n",
       " 'RangeIndex',\n",
       " 'Series',\n",
       " 'SparseDtype',\n",
       " 'StringDtype',\n",
       " 'Timedelta',\n",
       " 'TimedeltaIndex',\n",
       " 'Timestamp',\n",
       " 'UInt16Dtype',\n",
       " 'UInt32Dtype',\n",
       " 'UInt64Dtype',\n",
       " 'UInt8Dtype',\n",
       " '__all__',\n",
       " '__builtins__',\n",
       " '__cached__',\n",
       " '__doc__',\n",
       " '__docformat__',\n",
       " '__file__',\n",
       " '__git_version__',\n",
       " '__loader__',\n",
       " '__name__',\n",
       " '__package__',\n",
       " '__path__',\n",
       " '__spec__',\n",
       " '__version__',\n",
       " '_built_with_meson',\n",
       " '_config',\n",
       " '_is_numpy_dev',\n",
       " '_libs',\n",
       " '_pandas_datetime_CAPI',\n",
       " '_pandas_parser_CAPI',\n",
       " '_testing',\n",
       " '_typing',\n",
       " '_version_meson',\n",
       " 'annotations',\n",
       " 'api',\n",
       " 'array',\n",
       " 'arrays',\n",
       " 'bdate_range',\n",
       " 'compat',\n",
       " 'concat',\n",
       " 'core',\n",
       " 'crosstab',\n",
       " 'cut',\n",
       " 'date_range',\n",
       " 'describe_option',\n",
       " 'errors',\n",
       " 'eval',\n",
       " 'factorize',\n",
       " 'from_dummies',\n",
       " 'get_dummies',\n",
       " 'get_option',\n",
       " 'infer_freq',\n",
       " 'interval_range',\n",
       " 'io',\n",
       " 'isna',\n",
       " 'isnull',\n",
       " 'json_normalize',\n",
       " 'lreshape',\n",
       " 'melt',\n",
       " 'merge',\n",
       " 'merge_asof',\n",
       " 'merge_ordered',\n",
       " 'notna',\n",
       " 'notnull',\n",
       " 'offsets',\n",
       " 'option_context',\n",
       " 'options',\n",
       " 'pandas',\n",
       " 'period_range',\n",
       " 'pivot',\n",
       " 'pivot_table',\n",
       " 'plotting',\n",
       " 'qcut',\n",
       " 'read_clipboard',\n",
       " 'read_csv',\n",
       " 'read_excel',\n",
       " 'read_feather',\n",
       " 'read_fwf',\n",
       " 'read_gbq',\n",
       " 'read_hdf',\n",
       " 'read_html',\n",
       " 'read_json',\n",
       " 'read_orc',\n",
       " 'read_parquet',\n",
       " 'read_pickle',\n",
       " 'read_sas',\n",
       " 'read_spss',\n",
       " 'read_sql',\n",
       " 'read_sql_query',\n",
       " 'read_sql_table',\n",
       " 'read_stata',\n",
       " 'read_table',\n",
       " 'read_xml',\n",
       " 'reset_option',\n",
       " 'set_eng_float_format',\n",
       " 'set_option',\n",
       " 'show_versions',\n",
       " 'test',\n",
       " 'testing',\n",
       " 'timedelta_range',\n",
       " 'to_datetime',\n",
       " 'to_numeric',\n",
       " 'to_pickle',\n",
       " 'to_timedelta',\n",
       " 'tseries',\n",
       " 'unique',\n",
       " 'util',\n",
       " 'value_counts',\n",
       " 'wide_to_long']"
      ]
     },
     "execution_count": 2,
     "metadata": {},
     "output_type": "execute_result"
    }
   ],
   "source": [
    "dir(pd)"
   ]
  },
  {
   "cell_type": "code",
   "execution_count": 4,
   "id": "8ac6a134-15c3-449a-a405-2ef7f10f0aa1",
   "metadata": {},
   "outputs": [],
   "source": [
    "df=pd.read_csv(\"sales_data_with_discounts.csv\")"
   ]
  },
  {
   "cell_type": "code",
   "execution_count": 5,
   "id": "bb0ca060-ea1d-4b3e-8701-97a90806a839",
   "metadata": {},
   "outputs": [
    {
     "data": {
      "text/html": [
       "<div>\n",
       "<style scoped>\n",
       "    .dataframe tbody tr th:only-of-type {\n",
       "        vertical-align: middle;\n",
       "    }\n",
       "\n",
       "    .dataframe tbody tr th {\n",
       "        vertical-align: top;\n",
       "    }\n",
       "\n",
       "    .dataframe thead th {\n",
       "        text-align: right;\n",
       "    }\n",
       "</style>\n",
       "<table border=\"1\" class=\"dataframe\">\n",
       "  <thead>\n",
       "    <tr style=\"text-align: right;\">\n",
       "      <th></th>\n",
       "      <th>Date</th>\n",
       "      <th>Day</th>\n",
       "      <th>SKU</th>\n",
       "      <th>City</th>\n",
       "      <th>Volume</th>\n",
       "      <th>BU</th>\n",
       "      <th>Brand</th>\n",
       "      <th>Model</th>\n",
       "      <th>Avg Price</th>\n",
       "      <th>Total Sales Value</th>\n",
       "      <th>Discount Rate (%)</th>\n",
       "      <th>Discount Amount</th>\n",
       "      <th>Net Sales Value</th>\n",
       "    </tr>\n",
       "  </thead>\n",
       "  <tbody>\n",
       "    <tr>\n",
       "      <th>0</th>\n",
       "      <td>01-04-2021</td>\n",
       "      <td>Thursday</td>\n",
       "      <td>M01</td>\n",
       "      <td>C</td>\n",
       "      <td>15</td>\n",
       "      <td>Mobiles</td>\n",
       "      <td>RealU</td>\n",
       "      <td>RU-10</td>\n",
       "      <td>12100</td>\n",
       "      <td>181500</td>\n",
       "      <td>11.654820</td>\n",
       "      <td>21153.498820</td>\n",
       "      <td>160346.501180</td>\n",
       "    </tr>\n",
       "    <tr>\n",
       "      <th>1</th>\n",
       "      <td>01-04-2021</td>\n",
       "      <td>Thursday</td>\n",
       "      <td>M02</td>\n",
       "      <td>C</td>\n",
       "      <td>10</td>\n",
       "      <td>Mobiles</td>\n",
       "      <td>RealU</td>\n",
       "      <td>RU-9 Plus</td>\n",
       "      <td>10100</td>\n",
       "      <td>101000</td>\n",
       "      <td>11.560498</td>\n",
       "      <td>11676.102961</td>\n",
       "      <td>89323.897039</td>\n",
       "    </tr>\n",
       "    <tr>\n",
       "      <th>2</th>\n",
       "      <td>01-04-2021</td>\n",
       "      <td>Thursday</td>\n",
       "      <td>M03</td>\n",
       "      <td>C</td>\n",
       "      <td>7</td>\n",
       "      <td>Mobiles</td>\n",
       "      <td>YouM</td>\n",
       "      <td>YM-99</td>\n",
       "      <td>16100</td>\n",
       "      <td>112700</td>\n",
       "      <td>9.456886</td>\n",
       "      <td>10657.910157</td>\n",
       "      <td>102042.089843</td>\n",
       "    </tr>\n",
       "    <tr>\n",
       "      <th>3</th>\n",
       "      <td>01-04-2021</td>\n",
       "      <td>Thursday</td>\n",
       "      <td>M04</td>\n",
       "      <td>C</td>\n",
       "      <td>6</td>\n",
       "      <td>Mobiles</td>\n",
       "      <td>YouM</td>\n",
       "      <td>YM-99 Plus</td>\n",
       "      <td>20100</td>\n",
       "      <td>120600</td>\n",
       "      <td>6.935385</td>\n",
       "      <td>8364.074702</td>\n",
       "      <td>112235.925298</td>\n",
       "    </tr>\n",
       "    <tr>\n",
       "      <th>4</th>\n",
       "      <td>01-04-2021</td>\n",
       "      <td>Thursday</td>\n",
       "      <td>M05</td>\n",
       "      <td>C</td>\n",
       "      <td>3</td>\n",
       "      <td>Mobiles</td>\n",
       "      <td>YouM</td>\n",
       "      <td>YM-98</td>\n",
       "      <td>8100</td>\n",
       "      <td>24300</td>\n",
       "      <td>17.995663</td>\n",
       "      <td>4372.946230</td>\n",
       "      <td>19927.053770</td>\n",
       "    </tr>\n",
       "    <tr>\n",
       "      <th>...</th>\n",
       "      <td>...</td>\n",
       "      <td>...</td>\n",
       "      <td>...</td>\n",
       "      <td>...</td>\n",
       "      <td>...</td>\n",
       "      <td>...</td>\n",
       "      <td>...</td>\n",
       "      <td>...</td>\n",
       "      <td>...</td>\n",
       "      <td>...</td>\n",
       "      <td>...</td>\n",
       "      <td>...</td>\n",
       "      <td>...</td>\n",
       "    </tr>\n",
       "    <tr>\n",
       "      <th>445</th>\n",
       "      <td>15-04-2021</td>\n",
       "      <td>Thursday</td>\n",
       "      <td>L06</td>\n",
       "      <td>C</td>\n",
       "      <td>2</td>\n",
       "      <td>Lifestyle</td>\n",
       "      <td>Jeera</td>\n",
       "      <td>M-Casuals</td>\n",
       "      <td>1300</td>\n",
       "      <td>2600</td>\n",
       "      <td>15.475687</td>\n",
       "      <td>402.367873</td>\n",
       "      <td>2197.632127</td>\n",
       "    </tr>\n",
       "    <tr>\n",
       "      <th>446</th>\n",
       "      <td>15-04-2021</td>\n",
       "      <td>Thursday</td>\n",
       "      <td>L07</td>\n",
       "      <td>C</td>\n",
       "      <td>6</td>\n",
       "      <td>Lifestyle</td>\n",
       "      <td>Viva</td>\n",
       "      <td>W-Western</td>\n",
       "      <td>2600</td>\n",
       "      <td>15600</td>\n",
       "      <td>17.057027</td>\n",
       "      <td>2660.896242</td>\n",
       "      <td>12939.103758</td>\n",
       "    </tr>\n",
       "    <tr>\n",
       "      <th>447</th>\n",
       "      <td>15-04-2021</td>\n",
       "      <td>Thursday</td>\n",
       "      <td>L08</td>\n",
       "      <td>C</td>\n",
       "      <td>2</td>\n",
       "      <td>Lifestyle</td>\n",
       "      <td>Viva</td>\n",
       "      <td>W-Lounge</td>\n",
       "      <td>1600</td>\n",
       "      <td>3200</td>\n",
       "      <td>18.965550</td>\n",
       "      <td>606.897606</td>\n",
       "      <td>2593.102394</td>\n",
       "    </tr>\n",
       "    <tr>\n",
       "      <th>448</th>\n",
       "      <td>15-04-2021</td>\n",
       "      <td>Thursday</td>\n",
       "      <td>L09</td>\n",
       "      <td>C</td>\n",
       "      <td>3</td>\n",
       "      <td>Lifestyle</td>\n",
       "      <td>Jeera</td>\n",
       "      <td>M-Formals</td>\n",
       "      <td>1900</td>\n",
       "      <td>5700</td>\n",
       "      <td>16.793014</td>\n",
       "      <td>957.201826</td>\n",
       "      <td>4742.798174</td>\n",
       "    </tr>\n",
       "    <tr>\n",
       "      <th>449</th>\n",
       "      <td>15-04-2021</td>\n",
       "      <td>Thursday</td>\n",
       "      <td>L10</td>\n",
       "      <td>C</td>\n",
       "      <td>1</td>\n",
       "      <td>Lifestyle</td>\n",
       "      <td>Jeera</td>\n",
       "      <td>M-Shoes</td>\n",
       "      <td>3100</td>\n",
       "      <td>3100</td>\n",
       "      <td>15.333300</td>\n",
       "      <td>475.332295</td>\n",
       "      <td>2624.667705</td>\n",
       "    </tr>\n",
       "  </tbody>\n",
       "</table>\n",
       "<p>450 rows × 13 columns</p>\n",
       "</div>"
      ],
      "text/plain": [
       "           Date       Day  SKU City  Volume         BU  Brand       Model  \\\n",
       "0    01-04-2021  Thursday  M01    C      15    Mobiles  RealU       RU-10   \n",
       "1    01-04-2021  Thursday  M02    C      10    Mobiles  RealU   RU-9 Plus   \n",
       "2    01-04-2021  Thursday  M03    C       7    Mobiles   YouM       YM-99   \n",
       "3    01-04-2021  Thursday  M04    C       6    Mobiles   YouM  YM-99 Plus   \n",
       "4    01-04-2021  Thursday  M05    C       3    Mobiles   YouM      YM-98    \n",
       "..          ...       ...  ...  ...     ...        ...    ...         ...   \n",
       "445  15-04-2021  Thursday  L06    C       2  Lifestyle  Jeera   M-Casuals   \n",
       "446  15-04-2021  Thursday  L07    C       6  Lifestyle   Viva   W-Western   \n",
       "447  15-04-2021  Thursday  L08    C       2  Lifestyle   Viva    W-Lounge   \n",
       "448  15-04-2021  Thursday  L09    C       3  Lifestyle  Jeera   M-Formals   \n",
       "449  15-04-2021  Thursday  L10    C       1  Lifestyle  Jeera     M-Shoes   \n",
       "\n",
       "     Avg Price  Total Sales Value  Discount Rate (%)  Discount Amount  \\\n",
       "0        12100             181500          11.654820     21153.498820   \n",
       "1        10100             101000          11.560498     11676.102961   \n",
       "2        16100             112700           9.456886     10657.910157   \n",
       "3        20100             120600           6.935385      8364.074702   \n",
       "4         8100              24300          17.995663      4372.946230   \n",
       "..         ...                ...                ...              ...   \n",
       "445       1300               2600          15.475687       402.367873   \n",
       "446       2600              15600          17.057027      2660.896242   \n",
       "447       1600               3200          18.965550       606.897606   \n",
       "448       1900               5700          16.793014       957.201826   \n",
       "449       3100               3100          15.333300       475.332295   \n",
       "\n",
       "     Net Sales Value  \n",
       "0      160346.501180  \n",
       "1       89323.897039  \n",
       "2      102042.089843  \n",
       "3      112235.925298  \n",
       "4       19927.053770  \n",
       "..               ...  \n",
       "445      2197.632127  \n",
       "446     12939.103758  \n",
       "447      2593.102394  \n",
       "448      4742.798174  \n",
       "449      2624.667705  \n",
       "\n",
       "[450 rows x 13 columns]"
      ]
     },
     "execution_count": 5,
     "metadata": {},
     "output_type": "execute_result"
    }
   ],
   "source": [
    "df"
   ]
  },
  {
   "cell_type": "code",
   "execution_count": null,
   "id": "ea312f2f-b3dd-4ac1-94d3-5211cf4bfe56",
   "metadata": {},
   "outputs": [],
   "source": []
  },
  {
   "cell_type": "code",
   "execution_count": 6,
   "id": "1fcd321f-86de-467d-998f-70f37ed1f599",
   "metadata": {},
   "outputs": [
    {
     "data": {
      "text/plain": [
       "Index(['Date', 'Day', 'SKU', 'City', 'Volume', 'BU', 'Brand', 'Model',\n",
       "       'Avg Price', 'Total Sales Value', 'Discount Rate (%)',\n",
       "       'Discount Amount', 'Net Sales Value'],\n",
       "      dtype='object')"
      ]
     },
     "execution_count": 6,
     "metadata": {},
     "output_type": "execute_result"
    }
   ],
   "source": [
    "df.columns"
   ]
  },
  {
   "cell_type": "code",
   "execution_count": 7,
   "id": "de4e17ea-a8ed-4223-96ae-a2c55654366e",
   "metadata": {},
   "outputs": [
    {
     "data": {
      "text/plain": [
       "Date                  object\n",
       "Day                   object\n",
       "SKU                   object\n",
       "City                  object\n",
       "Volume                 int64\n",
       "BU                    object\n",
       "Brand                 object\n",
       "Model                 object\n",
       "Avg Price              int64\n",
       "Total Sales Value      int64\n",
       "Discount Rate (%)    float64\n",
       "Discount Amount      float64\n",
       "Net Sales Value      float64\n",
       "dtype: object"
      ]
     },
     "execution_count": 7,
     "metadata": {},
     "output_type": "execute_result"
    }
   ],
   "source": [
    "df.dtypes"
   ]
  },
  {
   "cell_type": "code",
   "execution_count": 8,
   "id": "fbb444b7-4fd6-4867-894f-fd62d94873f3",
   "metadata": {},
   "outputs": [
    {
     "data": {
      "text/html": [
       "<div>\n",
       "<style scoped>\n",
       "    .dataframe tbody tr th:only-of-type {\n",
       "        vertical-align: middle;\n",
       "    }\n",
       "\n",
       "    .dataframe tbody tr th {\n",
       "        vertical-align: top;\n",
       "    }\n",
       "\n",
       "    .dataframe thead th {\n",
       "        text-align: right;\n",
       "    }\n",
       "</style>\n",
       "<table border=\"1\" class=\"dataframe\">\n",
       "  <thead>\n",
       "    <tr style=\"text-align: right;\">\n",
       "      <th></th>\n",
       "      <th>Date</th>\n",
       "      <th>Day</th>\n",
       "      <th>SKU</th>\n",
       "      <th>City</th>\n",
       "      <th>Volume</th>\n",
       "      <th>BU</th>\n",
       "      <th>Brand</th>\n",
       "      <th>Model</th>\n",
       "      <th>Avg Price</th>\n",
       "      <th>Total Sales Value</th>\n",
       "      <th>Discount Rate (%)</th>\n",
       "      <th>Discount Amount</th>\n",
       "      <th>Net Sales Value</th>\n",
       "    </tr>\n",
       "  </thead>\n",
       "  <tbody>\n",
       "    <tr>\n",
       "      <th>0</th>\n",
       "      <td>01-04-2021</td>\n",
       "      <td>Thursday</td>\n",
       "      <td>M01</td>\n",
       "      <td>C</td>\n",
       "      <td>15</td>\n",
       "      <td>Mobiles</td>\n",
       "      <td>RealU</td>\n",
       "      <td>RU-10</td>\n",
       "      <td>12100</td>\n",
       "      <td>181500</td>\n",
       "      <td>11.654820</td>\n",
       "      <td>21153.498820</td>\n",
       "      <td>160346.501180</td>\n",
       "    </tr>\n",
       "    <tr>\n",
       "      <th>1</th>\n",
       "      <td>01-04-2021</td>\n",
       "      <td>Thursday</td>\n",
       "      <td>M02</td>\n",
       "      <td>C</td>\n",
       "      <td>10</td>\n",
       "      <td>Mobiles</td>\n",
       "      <td>RealU</td>\n",
       "      <td>RU-9 Plus</td>\n",
       "      <td>10100</td>\n",
       "      <td>101000</td>\n",
       "      <td>11.560498</td>\n",
       "      <td>11676.102961</td>\n",
       "      <td>89323.897039</td>\n",
       "    </tr>\n",
       "    <tr>\n",
       "      <th>2</th>\n",
       "      <td>01-04-2021</td>\n",
       "      <td>Thursday</td>\n",
       "      <td>M03</td>\n",
       "      <td>C</td>\n",
       "      <td>7</td>\n",
       "      <td>Mobiles</td>\n",
       "      <td>YouM</td>\n",
       "      <td>YM-99</td>\n",
       "      <td>16100</td>\n",
       "      <td>112700</td>\n",
       "      <td>9.456886</td>\n",
       "      <td>10657.910157</td>\n",
       "      <td>102042.089843</td>\n",
       "    </tr>\n",
       "    <tr>\n",
       "      <th>3</th>\n",
       "      <td>01-04-2021</td>\n",
       "      <td>Thursday</td>\n",
       "      <td>M04</td>\n",
       "      <td>C</td>\n",
       "      <td>6</td>\n",
       "      <td>Mobiles</td>\n",
       "      <td>YouM</td>\n",
       "      <td>YM-99 Plus</td>\n",
       "      <td>20100</td>\n",
       "      <td>120600</td>\n",
       "      <td>6.935385</td>\n",
       "      <td>8364.074702</td>\n",
       "      <td>112235.925298</td>\n",
       "    </tr>\n",
       "    <tr>\n",
       "      <th>4</th>\n",
       "      <td>01-04-2021</td>\n",
       "      <td>Thursday</td>\n",
       "      <td>M05</td>\n",
       "      <td>C</td>\n",
       "      <td>3</td>\n",
       "      <td>Mobiles</td>\n",
       "      <td>YouM</td>\n",
       "      <td>YM-98</td>\n",
       "      <td>8100</td>\n",
       "      <td>24300</td>\n",
       "      <td>17.995663</td>\n",
       "      <td>4372.946230</td>\n",
       "      <td>19927.053770</td>\n",
       "    </tr>\n",
       "  </tbody>\n",
       "</table>\n",
       "</div>"
      ],
      "text/plain": [
       "         Date       Day  SKU City  Volume       BU  Brand       Model  \\\n",
       "0  01-04-2021  Thursday  M01    C      15  Mobiles  RealU       RU-10   \n",
       "1  01-04-2021  Thursday  M02    C      10  Mobiles  RealU   RU-9 Plus   \n",
       "2  01-04-2021  Thursday  M03    C       7  Mobiles   YouM       YM-99   \n",
       "3  01-04-2021  Thursday  M04    C       6  Mobiles   YouM  YM-99 Plus   \n",
       "4  01-04-2021  Thursday  M05    C       3  Mobiles   YouM      YM-98    \n",
       "\n",
       "   Avg Price  Total Sales Value  Discount Rate (%)  Discount Amount  \\\n",
       "0      12100             181500          11.654820     21153.498820   \n",
       "1      10100             101000          11.560498     11676.102961   \n",
       "2      16100             112700           9.456886     10657.910157   \n",
       "3      20100             120600           6.935385      8364.074702   \n",
       "4       8100              24300          17.995663      4372.946230   \n",
       "\n",
       "   Net Sales Value  \n",
       "0    160346.501180  \n",
       "1     89323.897039  \n",
       "2    102042.089843  \n",
       "3    112235.925298  \n",
       "4     19927.053770  "
      ]
     },
     "execution_count": 8,
     "metadata": {},
     "output_type": "execute_result"
    }
   ],
   "source": [
    "df.head()"
   ]
  },
  {
   "cell_type": "code",
   "execution_count": null,
   "id": "61275c98-57db-42bd-9aec-ceb424515afa",
   "metadata": {},
   "outputs": [],
   "source": []
  },
  {
   "cell_type": "code",
   "execution_count": 9,
   "id": "6e5fd96b-2c95-4709-86ec-1171ca080686",
   "metadata": {},
   "outputs": [
    {
     "data": {
      "text/html": [
       "<div>\n",
       "<style scoped>\n",
       "    .dataframe tbody tr th:only-of-type {\n",
       "        vertical-align: middle;\n",
       "    }\n",
       "\n",
       "    .dataframe tbody tr th {\n",
       "        vertical-align: top;\n",
       "    }\n",
       "\n",
       "    .dataframe thead th {\n",
       "        text-align: right;\n",
       "    }\n",
       "</style>\n",
       "<table border=\"1\" class=\"dataframe\">\n",
       "  <thead>\n",
       "    <tr style=\"text-align: right;\">\n",
       "      <th></th>\n",
       "      <th>Date</th>\n",
       "      <th>Day</th>\n",
       "      <th>SKU</th>\n",
       "      <th>City</th>\n",
       "      <th>Volume</th>\n",
       "      <th>BU</th>\n",
       "      <th>Brand</th>\n",
       "      <th>Model</th>\n",
       "      <th>Avg Price</th>\n",
       "      <th>Total Sales Value</th>\n",
       "      <th>Discount Rate (%)</th>\n",
       "      <th>Discount Amount</th>\n",
       "      <th>Net Sales Value</th>\n",
       "    </tr>\n",
       "  </thead>\n",
       "  <tbody>\n",
       "    <tr>\n",
       "      <th>445</th>\n",
       "      <td>15-04-2021</td>\n",
       "      <td>Thursday</td>\n",
       "      <td>L06</td>\n",
       "      <td>C</td>\n",
       "      <td>2</td>\n",
       "      <td>Lifestyle</td>\n",
       "      <td>Jeera</td>\n",
       "      <td>M-Casuals</td>\n",
       "      <td>1300</td>\n",
       "      <td>2600</td>\n",
       "      <td>15.475687</td>\n",
       "      <td>402.367873</td>\n",
       "      <td>2197.632127</td>\n",
       "    </tr>\n",
       "    <tr>\n",
       "      <th>446</th>\n",
       "      <td>15-04-2021</td>\n",
       "      <td>Thursday</td>\n",
       "      <td>L07</td>\n",
       "      <td>C</td>\n",
       "      <td>6</td>\n",
       "      <td>Lifestyle</td>\n",
       "      <td>Viva</td>\n",
       "      <td>W-Western</td>\n",
       "      <td>2600</td>\n",
       "      <td>15600</td>\n",
       "      <td>17.057027</td>\n",
       "      <td>2660.896242</td>\n",
       "      <td>12939.103758</td>\n",
       "    </tr>\n",
       "    <tr>\n",
       "      <th>447</th>\n",
       "      <td>15-04-2021</td>\n",
       "      <td>Thursday</td>\n",
       "      <td>L08</td>\n",
       "      <td>C</td>\n",
       "      <td>2</td>\n",
       "      <td>Lifestyle</td>\n",
       "      <td>Viva</td>\n",
       "      <td>W-Lounge</td>\n",
       "      <td>1600</td>\n",
       "      <td>3200</td>\n",
       "      <td>18.965550</td>\n",
       "      <td>606.897606</td>\n",
       "      <td>2593.102394</td>\n",
       "    </tr>\n",
       "    <tr>\n",
       "      <th>448</th>\n",
       "      <td>15-04-2021</td>\n",
       "      <td>Thursday</td>\n",
       "      <td>L09</td>\n",
       "      <td>C</td>\n",
       "      <td>3</td>\n",
       "      <td>Lifestyle</td>\n",
       "      <td>Jeera</td>\n",
       "      <td>M-Formals</td>\n",
       "      <td>1900</td>\n",
       "      <td>5700</td>\n",
       "      <td>16.793014</td>\n",
       "      <td>957.201826</td>\n",
       "      <td>4742.798174</td>\n",
       "    </tr>\n",
       "    <tr>\n",
       "      <th>449</th>\n",
       "      <td>15-04-2021</td>\n",
       "      <td>Thursday</td>\n",
       "      <td>L10</td>\n",
       "      <td>C</td>\n",
       "      <td>1</td>\n",
       "      <td>Lifestyle</td>\n",
       "      <td>Jeera</td>\n",
       "      <td>M-Shoes</td>\n",
       "      <td>3100</td>\n",
       "      <td>3100</td>\n",
       "      <td>15.333300</td>\n",
       "      <td>475.332295</td>\n",
       "      <td>2624.667705</td>\n",
       "    </tr>\n",
       "  </tbody>\n",
       "</table>\n",
       "</div>"
      ],
      "text/plain": [
       "           Date       Day  SKU City  Volume         BU  Brand      Model  \\\n",
       "445  15-04-2021  Thursday  L06    C       2  Lifestyle  Jeera  M-Casuals   \n",
       "446  15-04-2021  Thursday  L07    C       6  Lifestyle   Viva  W-Western   \n",
       "447  15-04-2021  Thursday  L08    C       2  Lifestyle   Viva   W-Lounge   \n",
       "448  15-04-2021  Thursday  L09    C       3  Lifestyle  Jeera  M-Formals   \n",
       "449  15-04-2021  Thursday  L10    C       1  Lifestyle  Jeera    M-Shoes   \n",
       "\n",
       "     Avg Price  Total Sales Value  Discount Rate (%)  Discount Amount  \\\n",
       "445       1300               2600          15.475687       402.367873   \n",
       "446       2600              15600          17.057027      2660.896242   \n",
       "447       1600               3200          18.965550       606.897606   \n",
       "448       1900               5700          16.793014       957.201826   \n",
       "449       3100               3100          15.333300       475.332295   \n",
       "\n",
       "     Net Sales Value  \n",
       "445      2197.632127  \n",
       "446     12939.103758  \n",
       "447      2593.102394  \n",
       "448      4742.798174  \n",
       "449      2624.667705  "
      ]
     },
     "execution_count": 9,
     "metadata": {},
     "output_type": "execute_result"
    }
   ],
   "source": [
    "df.tail()"
   ]
  },
  {
   "cell_type": "code",
   "execution_count": null,
   "id": "45e6123d-4ea0-4466-ad62-91ed67ef7995",
   "metadata": {},
   "outputs": [],
   "source": []
  },
  {
   "cell_type": "code",
   "execution_count": 10,
   "id": "32d29bda-9eef-4da6-a75b-1ed0cb33cdb0",
   "metadata": {},
   "outputs": [
    {
     "name": "stdout",
     "output_type": "stream",
     "text": [
      "<class 'pandas.core.frame.DataFrame'>\n",
      "RangeIndex: 450 entries, 0 to 449\n",
      "Data columns (total 13 columns):\n",
      " #   Column             Non-Null Count  Dtype  \n",
      "---  ------             --------------  -----  \n",
      " 0   Date               450 non-null    object \n",
      " 1   Day                450 non-null    object \n",
      " 2   SKU                450 non-null    object \n",
      " 3   City               450 non-null    object \n",
      " 4   Volume             450 non-null    int64  \n",
      " 5   BU                 450 non-null    object \n",
      " 6   Brand              450 non-null    object \n",
      " 7   Model              450 non-null    object \n",
      " 8   Avg Price          450 non-null    int64  \n",
      " 9   Total Sales Value  450 non-null    int64  \n",
      " 10  Discount Rate (%)  450 non-null    float64\n",
      " 11  Discount Amount    450 non-null    float64\n",
      " 12  Net Sales Value    450 non-null    float64\n",
      "dtypes: float64(3), int64(3), object(7)\n",
      "memory usage: 45.8+ KB\n"
     ]
    }
   ],
   "source": [
    "df.info()"
   ]
  },
  {
   "cell_type": "code",
   "execution_count": null,
   "id": "83e9be16-4a24-405e-b05e-c2b1154987c9",
   "metadata": {},
   "outputs": [],
   "source": []
  },
  {
   "cell_type": "code",
   "execution_count": 10,
   "id": "de63e370-3d26-4223-bd3c-887e40a38ae2",
   "metadata": {},
   "outputs": [
    {
     "data": {
      "text/html": [
       "<div>\n",
       "<style scoped>\n",
       "    .dataframe tbody tr th:only-of-type {\n",
       "        vertical-align: middle;\n",
       "    }\n",
       "\n",
       "    .dataframe tbody tr th {\n",
       "        vertical-align: top;\n",
       "    }\n",
       "\n",
       "    .dataframe thead th {\n",
       "        text-align: right;\n",
       "    }\n",
       "</style>\n",
       "<table border=\"1\" class=\"dataframe\">\n",
       "  <thead>\n",
       "    <tr style=\"text-align: right;\">\n",
       "      <th></th>\n",
       "      <th>Volume</th>\n",
       "      <th>Avg Price</th>\n",
       "      <th>Total Sales Value</th>\n",
       "      <th>Discount Rate (%)</th>\n",
       "      <th>Discount Amount</th>\n",
       "      <th>Net Sales Value</th>\n",
       "    </tr>\n",
       "  </thead>\n",
       "  <tbody>\n",
       "    <tr>\n",
       "      <th>count</th>\n",
       "      <td>450.000000</td>\n",
       "      <td>450.000000</td>\n",
       "      <td>450.000000</td>\n",
       "      <td>450.000000</td>\n",
       "      <td>450.000000</td>\n",
       "      <td>450.000000</td>\n",
       "    </tr>\n",
       "    <tr>\n",
       "      <th>mean</th>\n",
       "      <td>5.066667</td>\n",
       "      <td>10453.433333</td>\n",
       "      <td>33812.835556</td>\n",
       "      <td>15.155242</td>\n",
       "      <td>3346.499424</td>\n",
       "      <td>30466.336131</td>\n",
       "    </tr>\n",
       "    <tr>\n",
       "      <th>std</th>\n",
       "      <td>4.231602</td>\n",
       "      <td>18079.904840</td>\n",
       "      <td>50535.074173</td>\n",
       "      <td>4.220602</td>\n",
       "      <td>4509.902963</td>\n",
       "      <td>46358.656624</td>\n",
       "    </tr>\n",
       "    <tr>\n",
       "      <th>min</th>\n",
       "      <td>1.000000</td>\n",
       "      <td>290.000000</td>\n",
       "      <td>400.000000</td>\n",
       "      <td>5.007822</td>\n",
       "      <td>69.177942</td>\n",
       "      <td>326.974801</td>\n",
       "    </tr>\n",
       "    <tr>\n",
       "      <th>25%</th>\n",
       "      <td>3.000000</td>\n",
       "      <td>465.000000</td>\n",
       "      <td>2700.000000</td>\n",
       "      <td>13.965063</td>\n",
       "      <td>460.459304</td>\n",
       "      <td>2202.208645</td>\n",
       "    </tr>\n",
       "    <tr>\n",
       "      <th>50%</th>\n",
       "      <td>4.000000</td>\n",
       "      <td>1450.000000</td>\n",
       "      <td>5700.000000</td>\n",
       "      <td>16.577766</td>\n",
       "      <td>988.933733</td>\n",
       "      <td>4677.788059</td>\n",
       "    </tr>\n",
       "    <tr>\n",
       "      <th>75%</th>\n",
       "      <td>6.000000</td>\n",
       "      <td>10100.000000</td>\n",
       "      <td>53200.000000</td>\n",
       "      <td>18.114718</td>\n",
       "      <td>5316.495427</td>\n",
       "      <td>47847.912852</td>\n",
       "    </tr>\n",
       "    <tr>\n",
       "      <th>max</th>\n",
       "      <td>31.000000</td>\n",
       "      <td>60100.000000</td>\n",
       "      <td>196400.000000</td>\n",
       "      <td>19.992407</td>\n",
       "      <td>25738.022194</td>\n",
       "      <td>179507.479049</td>\n",
       "    </tr>\n",
       "  </tbody>\n",
       "</table>\n",
       "</div>"
      ],
      "text/plain": [
       "           Volume     Avg Price  Total Sales Value  Discount Rate (%)  \\\n",
       "count  450.000000    450.000000         450.000000         450.000000   \n",
       "mean     5.066667  10453.433333       33812.835556          15.155242   \n",
       "std      4.231602  18079.904840       50535.074173           4.220602   \n",
       "min      1.000000    290.000000         400.000000           5.007822   \n",
       "25%      3.000000    465.000000        2700.000000          13.965063   \n",
       "50%      4.000000   1450.000000        5700.000000          16.577766   \n",
       "75%      6.000000  10100.000000       53200.000000          18.114718   \n",
       "max     31.000000  60100.000000      196400.000000          19.992407   \n",
       "\n",
       "       Discount Amount  Net Sales Value  \n",
       "count       450.000000       450.000000  \n",
       "mean       3346.499424     30466.336131  \n",
       "std        4509.902963     46358.656624  \n",
       "min          69.177942       326.974801  \n",
       "25%         460.459304      2202.208645  \n",
       "50%         988.933733      4677.788059  \n",
       "75%        5316.495427     47847.912852  \n",
       "max       25738.022194    179507.479049  "
      ]
     },
     "execution_count": 10,
     "metadata": {},
     "output_type": "execute_result"
    }
   ],
   "source": [
    "df.describe()"
   ]
  },
  {
   "cell_type": "code",
   "execution_count": 11,
   "id": "340e3fdb-6357-47d9-83f8-7dab5726da95",
   "metadata": {},
   "outputs": [],
   "source": [
    "# to performed descriptive analysis for numerical columns we we calculate Mean,Median,Mode and standard deviation operations."
   ]
  },
  {
   "cell_type": "code",
   "execution_count": 12,
   "id": "cfac4942-d89e-4ea2-a2af-463a023ea9f0",
   "metadata": {},
   "outputs": [
    {
     "name": "stdout",
     "output_type": "stream",
     "text": [
      "mean: Volume                   5.066667\n",
      "Avg Price            10453.433333\n",
      "Total Sales Value    33812.835556\n",
      "Discount Rate (%)       15.155242\n",
      "Discount Amount       3346.499424\n",
      "Net Sales Value      30466.336131\n",
      "dtype: float64\n"
     ]
    }
   ],
   "source": [
    "#mean\n",
    "print(\"mean:\",df.mean(numeric_only=True))"
   ]
  },
  {
   "cell_type": "code",
   "execution_count": null,
   "id": "77157b52-66f2-43f3-9d45-8a6750114c56",
   "metadata": {},
   "outputs": [],
   "source": []
  },
  {
   "cell_type": "code",
   "execution_count": 13,
   "id": "28acfdd4-ab88-449f-90c9-99bac75856d6",
   "metadata": {},
   "outputs": [
    {
     "name": "stdout",
     "output_type": "stream",
     "text": [
      "median: Volume                  4.000000\n",
      "Avg Price            1450.000000\n",
      "Total Sales Value    5700.000000\n",
      "Discount Rate (%)      16.577766\n",
      "Discount Amount       988.933733\n",
      "Net Sales Value      4677.788059\n",
      "dtype: float64\n"
     ]
    }
   ],
   "source": [
    "# median\n",
    "print(\"median:\",df.median(numeric_only=True))"
   ]
  },
  {
   "cell_type": "code",
   "execution_count": null,
   "id": "e4cbc370-2fb8-4af9-ac27-d3b45feb5646",
   "metadata": {},
   "outputs": [],
   "source": []
  },
  {
   "cell_type": "code",
   "execution_count": 14,
   "id": "59bfbcb6-3d51-4d2f-820b-f370bf5196f8",
   "metadata": {},
   "outputs": [
    {
     "name": "stdout",
     "output_type": "stream",
     "text": [
      "mode:      Volume  Avg Price  Total Sales Value  Discount Rate (%)  Discount Amount  \\\n",
      "0       3.0      400.0            24300.0           5.007822        69.177942   \n",
      "1       NaN      450.0                NaN           5.055218        73.025199   \n",
      "2       NaN      500.0                NaN           5.059801        93.649161   \n",
      "3       NaN     1300.0                NaN           5.072124        94.682735   \n",
      "4       NaN     8100.0                NaN           5.084108       102.705757   \n",
      "..      ...        ...                ...                ...              ...   \n",
      "445     NaN        NaN                NaN          19.940610     17900.983733   \n",
      "446     NaN        NaN                NaN          19.965340     21153.498820   \n",
      "447     NaN        NaN                NaN          19.976879     21496.675367   \n",
      "448     NaN        NaN                NaN          19.982257     25328.224204   \n",
      "449     NaN        NaN                NaN          19.992407     25738.022194   \n",
      "\n",
      "     Net Sales Value  \n",
      "0         326.974801  \n",
      "1         330.822058  \n",
      "2         466.350839  \n",
      "3         485.317265  \n",
      "4         496.607104  \n",
      "..               ...  \n",
      "445    162603.186379  \n",
      "446    163915.971000  \n",
      "447    163967.080070  \n",
      "448    166263.161348  \n",
      "449    179507.479049  \n",
      "\n",
      "[450 rows x 6 columns]\n"
     ]
    }
   ],
   "source": [
    "# mode\n",
    "print(\"mode:\",df.mode(numeric_only=True))"
   ]
  },
  {
   "cell_type": "code",
   "execution_count": null,
   "id": "4c59358f-3749-4d00-98a9-a36407781899",
   "metadata": {},
   "outputs": [],
   "source": []
  },
  {
   "cell_type": "code",
   "execution_count": 15,
   "id": "a804aa73-981a-4ff2-afbc-f1a09374ec78",
   "metadata": {},
   "outputs": [
    {
     "name": "stdout",
     "output_type": "stream",
     "text": [
      "std: Volume                   4.231602\n",
      "Avg Price            18079.904840\n",
      "Total Sales Value    50535.074173\n",
      "Discount Rate (%)        4.220602\n",
      "Discount Amount       4509.902963\n",
      "Net Sales Value      46358.656624\n",
      "dtype: float64\n"
     ]
    }
   ],
   "source": [
    "# std \n",
    "print(\"std:\",df.std(numeric_only=True))"
   ]
  },
  {
   "cell_type": "code",
   "execution_count": null,
   "id": "73bfe798-58b8-4662-bf24-35c00ce445d2",
   "metadata": {},
   "outputs": [],
   "source": []
  },
  {
   "cell_type": "code",
   "execution_count": 16,
   "id": "92c0243b-644b-4b16-b65f-bbf93ef72ae1",
   "metadata": {},
   "outputs": [
    {
     "data": {
      "text/plain": [
       "(450, 13)"
      ]
     },
     "execution_count": 16,
     "metadata": {},
     "output_type": "execute_result"
    }
   ],
   "source": [
    "df.shape"
   ]
  },
  {
   "cell_type": "code",
   "execution_count": 17,
   "id": "25fb429c-858c-4791-b969-b594f53c66be",
   "metadata": {},
   "outputs": [],
   "source": [
    "# DATA VISUALIZATION"
   ]
  },
  {
   "cell_type": "code",
   "execution_count": 18,
   "id": "bcc9db1e-fc10-4132-9aa4-88057339f7e4",
   "metadata": {},
   "outputs": [],
   "source": [
    "# To visualize the distribution and relationship of numerical and categorical variables in the datasets, We plot histograms, Boxplots and Bar charts:"
   ]
  },
  {
   "cell_type": "code",
   "execution_count": 19,
   "id": "4aeeefca-a050-4453-91a3-d46521753710",
   "metadata": {},
   "outputs": [
    {
     "data": {
      "text/plain": [
       "(array([213., 137.,  49.,  26.,  15.,   2.,   0.,   4.,   1.,   3.]),\n",
       " array([ 1.,  4.,  7., 10., 13., 16., 19., 22., 25., 28., 31.]),\n",
       " <BarContainer object of 10 artists>)"
      ]
     },
     "execution_count": 19,
     "metadata": {},
     "output_type": "execute_result"
    },
    {
     "data": {
      "image/png": "[encoded data removed]",
      "text/plain": [
       "<Figure size 640x480 with 1 Axes>"
      ]
     },
     "metadata": {},
     "output_type": "display_data"
    }
   ],
   "source": [
    "# histogram\n",
    "plt.hist(df['Volume'],edgecolor=\"yellow\")"
   ]
  },
  {
   "cell_type": "code",
   "execution_count": null,
   "id": "53960849-217f-47bc-b7a2-844d425ec5ae",
   "metadata": {},
   "outputs": [],
   "source": []
  },
  {
   "cell_type": "code",
   "execution_count": 20,
   "id": "35a414bd-1090-4bab-97a9-961a2360cbf7",
   "metadata": {},
   "outputs": [
    {
     "data": {
      "text/plain": [
       "(array([300.,  60.,  15.,  15.,   0.,   0.,   0.,   0.,  30.,  30.]),\n",
       " array([  290.,  6271., 12252., 18233., 24214., 30195., 36176., 42157.,\n",
       "        48138., 54119., 60100.]),\n",
       " <BarContainer object of 10 artists>)"
      ]
     },
     "execution_count": 20,
     "metadata": {},
     "output_type": "execute_result"
    },
    {
     "data": {
      "image/png": "[encoded data removed]",
      "text/plain": [
       "<Figure size 640x480 with 1 Axes>"
      ]
     },
     "metadata": {},
     "output_type": "display_data"
    }
   ],
   "source": [
    "plt.hist(df['Avg Price'],edgecolor=\"yellow\")"
   ]
  },
  {
   "cell_type": "code",
   "execution_count": null,
   "id": "fd448055-f8fe-4bff-9065-057e33fada53",
   "metadata": {},
   "outputs": [],
   "source": []
  },
  {
   "cell_type": "code",
   "execution_count": 21,
   "id": "0fbb161e-9545-4afd-8e3a-17b713c41180",
   "metadata": {},
   "outputs": [
    {
     "data": {
      "text/plain": [
       "(array([305.,  24.,  15.,  18.,  12.,  27.,  15.,  15.,  11.,   8.]),\n",
       " array([   400.,  20000.,  39600.,  59200.,  78800.,  98400., 118000.,\n",
       "        137600., 157200., 176800., 196400.]),\n",
       " <BarContainer object of 10 artists>)"
      ]
     },
     "execution_count": 21,
     "metadata": {},
     "output_type": "execute_result"
    },
    {
     "data": {
      "image/png": "[encoded data removed]",
      "text/plain": [
       "<Figure size 640x480 with 1 Axes>"
      ]
     },
     "metadata": {},
     "output_type": "display_data"
    }
   ],
   "source": [
    "plt.hist(df['Total Sales Value'],edgecolor=\"yellow\")"
   ]
  },
  {
   "cell_type": "code",
   "execution_count": null,
   "id": "bd5585bc-a37e-430c-9ed6-e95c2a7a750a",
   "metadata": {},
   "outputs": [],
   "source": []
  },
  {
   "cell_type": "code",
   "execution_count": 22,
   "id": "2befc33a-c383-4310-b11e-027d0a7967c1",
   "metadata": {},
   "outputs": [
    {
     "data": {
      "text/plain": [
       "(array([ 27.,  24.,  29.,  14.,  14.,   6.,  38.,  96., 115.,  87.]),\n",
       " array([ 5.00782219,  6.50628067,  8.00473916,  9.50319765, 11.00165613,\n",
       "        12.50011462, 13.9985731 , 15.49703159, 16.99549007, 18.49394856,\n",
       "        19.99240704]),\n",
       " <BarContainer object of 10 artists>)"
      ]
     },
     "execution_count": 22,
     "metadata": {},
     "output_type": "execute_result"
    },
    {
     "data": {
      "image/png": "[encoded data removed]",
      "text/plain": [
       "<Figure size 640x480 with 1 Axes>"
      ]
     },
     "metadata": {},
     "output_type": "display_data"
    }
   ],
   "source": [
    "plt.hist(df['Discount Rate (%)'],edgecolor=\"yellow\")"
   ]
  },
  {
   "cell_type": "code",
   "execution_count": null,
   "id": "632d4b2c-d5a7-4759-8967-9d4343cd1e04",
   "metadata": {},
   "outputs": [],
   "source": []
  },
  {
   "cell_type": "code",
   "execution_count": 23,
   "id": "61c5b76f-c3f4-402d-b263-860a04a90ce5",
   "metadata": {},
   "outputs": [
    {
     "data": {
      "text/plain": [
       "(array([299.,  37.,  42.,  29.,  22.,   8.,   9.,   0.,   2.,   2.]),\n",
       " array([   69.17794229,  2636.06236744,  5202.94679258,  7769.83121773,\n",
       "        10336.71564288, 12903.60006802, 15470.48449317, 18037.36891832,\n",
       "        20604.25334346, 23171.13776861, 25738.02219376]),\n",
       " <BarContainer object of 10 artists>)"
      ]
     },
     "execution_count": 23,
     "metadata": {},
     "output_type": "execute_result"
    },
    {
     "data": {
      "image/png": "[encoded data removed]",
      "text/plain": [
       "<Figure size 640x480 with 1 Axes>"
      ]
     },
     "metadata": {},
     "output_type": "display_data"
    }
   ],
   "source": [
    "plt.hist(df['Discount Amount'],edgecolor=\"yellow\")"
   ]
  },
  {
   "cell_type": "code",
   "execution_count": null,
   "id": "b867b66b-6f3c-4a0d-b2a9-dfc0d22484b2",
   "metadata": {},
   "outputs": [],
   "source": []
  },
  {
   "cell_type": "code",
   "execution_count": 24,
   "id": "be289112-9834-4d0b-aed4-389ae074d457",
   "metadata": {},
   "outputs": [
    {
     "data": {
      "text/plain": [
       "(array([306.,  26.,  17.,  14.,   8.,  30.,  16.,  15.,  12.,   6.]),\n",
       " array([   326.97480055,  18245.0252254 ,  36163.07565025,  54081.1260751 ,\n",
       "         71999.17649994,  89917.22692479, 107835.27734964, 125753.32777448,\n",
       "        143671.37819933, 161589.42862418, 179507.47904902]),\n",
       " <BarContainer object of 10 artists>)"
      ]
     },
     "execution_count": 24,
     "metadata": {},
     "output_type": "execute_result"
    },
    {
     "data": {
      "image/png": "[encoded data removed]",
      "text/plain": [
       "<Figure size 640x480 with 1 Axes>"
      ]
     },
     "metadata": {},
     "output_type": "display_data"
    }
   ],
   "source": [
    "plt.hist(df['Net Sales Value'],edgecolor=\"yellow\")"
   ]
  },
  {
   "cell_type": "code",
   "execution_count": null,
   "id": "cb6c49fc-1e43-4552-810f-cbec7efe6355",
   "metadata": {},
   "outputs": [],
   "source": []
  },
  {
   "cell_type": "code",
   "execution_count": 25,
   "id": "0207e92d-48b1-4617-a6ff-9f1a3781224e",
   "metadata": {},
   "outputs": [
    {
     "data": {
      "text/plain": [
       "{'whiskers': [<matplotlib.lines.Line2D at 0x1e6b3ada5d0>,\n",
       "  <matplotlib.lines.Line2D at 0x1e6b3ada710>],\n",
       " 'caps': [<matplotlib.lines.Line2D at 0x1e6b3ada850>,\n",
       "  <matplotlib.lines.Line2D at 0x1e6b3ada990>],\n",
       " 'boxes': [<matplotlib.lines.Line2D at 0x1e6b3ada490>],\n",
       " 'medians': [<matplotlib.lines.Line2D at 0x1e6b3adaad0>],\n",
       " 'fliers': [<matplotlib.lines.Line2D at 0x1e6b3adac10>],\n",
       " 'means': []}"
      ]
     },
     "execution_count": 25,
     "metadata": {},
     "output_type": "execute_result"
    },
    {
     "data": {
      "image/png": "[encoded data removed]",
      "text/plain": [
       "<Figure size 640x480 with 1 Axes>"
      ]
     },
     "metadata": {},
     "output_type": "display_data"
    }
   ],
   "source": [
    "#boxplot\n",
    "plt.boxplot(df['Volume'])"
   ]
  },
  {
   "cell_type": "code",
   "execution_count": null,
   "id": "e4a365a7-e71e-4cdc-8b1c-cecc1a83b086",
   "metadata": {},
   "outputs": [],
   "source": []
  },
  {
   "cell_type": "code",
   "execution_count": 26,
   "id": "e400d903-ae97-4bb6-a520-49ed300cbafd",
   "metadata": {},
   "outputs": [
    {
     "data": {
      "text/plain": [
       "{'whiskers': [<matplotlib.lines.Line2D at 0x1e6b4d5de50>,\n",
       "  <matplotlib.lines.Line2D at 0x1e6b4d5df90>],\n",
       " 'caps': [<matplotlib.lines.Line2D at 0x1e6b4d5e0d0>,\n",
       "  <matplotlib.lines.Line2D at 0x1e6b4d5e210>],\n",
       " 'boxes': [<matplotlib.lines.Line2D at 0x1e6b4d5dd10>],\n",
       " 'medians': [<matplotlib.lines.Line2D at 0x1e6b4d5e350>],\n",
       " 'fliers': [<matplotlib.lines.Line2D at 0x1e6b4d5e490>],\n",
       " 'means': []}"
      ]
     },
     "execution_count": 26,
     "metadata": {},
     "output_type": "execute_result"
    },
    {
     "data": {
      "image/png": "[encoded data removed]",
      "text/plain": [
       "<Figure size 640x480 with 1 Axes>"
      ]
     },
     "metadata": {},
     "output_type": "display_data"
    }
   ],
   "source": [
    "plt.boxplot(df['Avg Price'])"
   ]
  },
  {
   "cell_type": "code",
   "execution_count": null,
   "id": "0466b2ae-f548-44f6-9aab-1edb31d3d36a",
   "metadata": {},
   "outputs": [],
   "source": []
  },
  {
   "cell_type": "code",
   "execution_count": 27,
   "id": "9a3af4be-d608-4a0f-9c18-0b45c9541608",
   "metadata": {},
   "outputs": [
    {
     "data": {
      "text/plain": [
       "{'whiskers': [<matplotlib.lines.Line2D at 0x1e6b4db5950>,\n",
       "  <matplotlib.lines.Line2D at 0x1e6b4db5a90>],\n",
       " 'caps': [<matplotlib.lines.Line2D at 0x1e6b4db5bd0>,\n",
       "  <matplotlib.lines.Line2D at 0x1e6b4db5d10>],\n",
       " 'boxes': [<matplotlib.lines.Line2D at 0x1e6b4db5810>],\n",
       " 'medians': [<matplotlib.lines.Line2D at 0x1e6b4db5e50>],\n",
       " 'fliers': [<matplotlib.lines.Line2D at 0x1e6b4db5f90>],\n",
       " 'means': []}"
      ]
     },
     "execution_count": 27,
     "metadata": {},
     "output_type": "execute_result"
    },
    {
     "data": {
      "image/png": "[encoded data removed]",
      "text/plain": [
       "<Figure size 640x480 with 1 Axes>"
      ]
     },
     "metadata": {},
     "output_type": "display_data"
    }
   ],
   "source": [
    "plt.boxplot(df['Total Sales Value'])"
   ]
  },
  {
   "cell_type": "code",
   "execution_count": null,
   "id": "79d1a36c-c7f9-4ecf-9b6b-15855728063e",
   "metadata": {},
   "outputs": [],
   "source": []
  },
  {
   "cell_type": "code",
   "execution_count": 28,
   "id": "bb9354f8-0b08-4273-8035-2d910c2a8dae",
   "metadata": {},
   "outputs": [
    {
     "data": {
      "text/plain": [
       "{'whiskers': [<matplotlib.lines.Line2D at 0x1e6b4f62350>,\n",
       "  <matplotlib.lines.Line2D at 0x1e6b4f62490>],\n",
       " 'caps': [<matplotlib.lines.Line2D at 0x1e6b4f625d0>,\n",
       "  <matplotlib.lines.Line2D at 0x1e6b4f62710>],\n",
       " 'boxes': [<matplotlib.lines.Line2D at 0x1e6b4f62210>],\n",
       " 'medians': [<matplotlib.lines.Line2D at 0x1e6b4f62850>],\n",
       " 'fliers': [<matplotlib.lines.Line2D at 0x1e6b4f62990>],\n",
       " 'means': []}"
      ]
     },
     "execution_count": 28,
     "metadata": {},
     "output_type": "execute_result"
    },
    {
     "data": {
      "image/png": "[encoded data removed]",
      "text/plain": [
       "<Figure size 640x480 with 1 Axes>"
      ]
     },
     "metadata": {},
     "output_type": "display_data"
    }
   ],
   "source": [
    "plt.boxplot(df['Discount Rate (%)'])"
   ]
  },
  {
   "cell_type": "code",
   "execution_count": null,
   "id": "d007e833-a0ae-45c9-acd8-be8c1d0827e3",
   "metadata": {},
   "outputs": [],
   "source": []
  },
  {
   "cell_type": "code",
   "execution_count": 29,
   "id": "98e05e50-455d-42ef-b24a-6b8577aef1c9",
   "metadata": {},
   "outputs": [
    {
     "data": {
      "text/plain": [
       "{'whiskers': [<matplotlib.lines.Line2D at 0x1e6b4fc6350>,\n",
       "  <matplotlib.lines.Line2D at 0x1e6b4fc6490>],\n",
       " 'caps': [<matplotlib.lines.Line2D at 0x1e6b4fc65d0>,\n",
       "  <matplotlib.lines.Line2D at 0x1e6b4fc6710>],\n",
       " 'boxes': [<matplotlib.lines.Line2D at 0x1e6b4fc6210>],\n",
       " 'medians': [<matplotlib.lines.Line2D at 0x1e6b4fc6850>],\n",
       " 'fliers': [<matplotlib.lines.Line2D at 0x1e6b4fc6990>],\n",
       " 'means': []}"
      ]
     },
     "execution_count": 29,
     "metadata": {},
     "output_type": "execute_result"
    },
    {
     "data": {
      "image/png": "[encoded data removed]",
      "text/plain": [
       "<Figure size 640x480 with 1 Axes>"
      ]
     },
     "metadata": {},
     "output_type": "display_data"
    }
   ],
   "source": [
    "plt.boxplot(df['Discount Amount'])"
   ]
  },
  {
   "cell_type": "code",
   "execution_count": null,
   "id": "30cbbda0-1ba0-41c9-b339-93db8170020c",
   "metadata": {},
   "outputs": [],
   "source": []
  },
  {
   "cell_type": "code",
   "execution_count": 30,
   "id": "f712709d-d4ef-4226-b672-0d2fa6fe4df7",
   "metadata": {},
   "outputs": [
    {
     "data": {
      "text/plain": [
       "{'whiskers': [<matplotlib.lines.Line2D at 0x1e6b4dfd450>,\n",
       "  <matplotlib.lines.Line2D at 0x1e6b4dfd590>],\n",
       " 'caps': [<matplotlib.lines.Line2D at 0x1e6b4dfd6d0>,\n",
       "  <matplotlib.lines.Line2D at 0x1e6b4dfd810>],\n",
       " 'boxes': [<matplotlib.lines.Line2D at 0x1e6b4dfd310>],\n",
       " 'medians': [<matplotlib.lines.Line2D at 0x1e6b4dfd950>],\n",
       " 'fliers': [<matplotlib.lines.Line2D at 0x1e6b4dfda90>],\n",
       " 'means': []}"
      ]
     },
     "execution_count": 30,
     "metadata": {},
     "output_type": "execute_result"
    },
    {
     "data": {
      "image/png": "[encoded data removed]",
      "text/plain": [
       "<Figure size 640x480 with 1 Axes>"
      ]
     },
     "metadata": {},
     "output_type": "display_data"
    }
   ],
   "source": [
    "plt.boxplot(df['Net Sales Value'])"
   ]
  },
  {
   "cell_type": "code",
   "execution_count": null,
   "id": "51cd95b8-0f2c-412f-8af8-671d69beb28d",
   "metadata": {},
   "outputs": [],
   "source": []
  },
  {
   "cell_type": "code",
   "execution_count": 31,
   "id": "978c5943-d857-42a9-a729-889566bfb5d1",
   "metadata": {},
   "outputs": [],
   "source": [
    "#BARCHARTS analitics for categorical columns:"
   ]
  },
  {
   "cell_type": "code",
   "execution_count": 32,
   "id": "48095c34-e2ce-4663-8d54-00a67fd47f58",
   "metadata": {},
   "outputs": [
    {
     "data": {
      "text/plain": [
       "Date\n",
       "01-04-2021    30\n",
       "02-04-2021    30\n",
       "03-04-2021    30\n",
       "04-04-2021    30\n",
       "05-04-2021    30\n",
       "06-04-2021    30\n",
       "07-04-2021    30\n",
       "08-04-2021    30\n",
       "09-04-2021    30\n",
       "10-04-2021    30\n",
       "11-04-2021    30\n",
       "12-04-2021    30\n",
       "13-04-2021    30\n",
       "14-04-2021    30\n",
       "15-04-2021    30\n",
       "Name: count, dtype: int64"
      ]
     },
     "execution_count": 32,
     "metadata": {},
     "output_type": "execute_result"
    }
   ],
   "source": [
    "df[\"Date\"].value_counts()"
   ]
  },
  {
   "cell_type": "code",
   "execution_count": null,
   "id": "1714693c-f3d2-45a2-b867-d0115006f516",
   "metadata": {},
   "outputs": [],
   "source": []
  },
  {
   "cell_type": "code",
   "execution_count": 33,
   "id": "ff4df9a4-91d7-4641-b366-e711aae944b9",
   "metadata": {},
   "outputs": [
    {
     "data": {
      "text/plain": [
       "<Axes: xlabel='Date'>"
      ]
     },
     "execution_count": 33,
     "metadata": {},
     "output_type": "execute_result"
    },
    {
     "data": {
      "image/png": "[encoded data removed]",
      "text/plain": [
       "<Figure size 640x480 with 1 Axes>"
      ]
     },
     "metadata": {},
     "output_type": "display_data"
    }
   ],
   "source": [
    "df[\"Date\"].value_counts().plot.bar()"
   ]
  },
  {
   "cell_type": "code",
   "execution_count": null,
   "id": "845e6d60-be3f-4e46-8c86-4fd8c3ee7e40",
   "metadata": {},
   "outputs": [],
   "source": []
  },
  {
   "cell_type": "code",
   "execution_count": 34,
   "id": "89dda1d2-2b43-4e43-a124-e3cff3bc3a31",
   "metadata": {},
   "outputs": [
    {
     "data": {
      "text/plain": [
       "Day\n",
       "Thursday     90\n",
       "Friday       60\n",
       "Saturday     60\n",
       "Sunday       60\n",
       "Monday       60\n",
       "Tuesday      60\n",
       "Wednesday    60\n",
       "Name: count, dtype: int64"
      ]
     },
     "execution_count": 34,
     "metadata": {},
     "output_type": "execute_result"
    }
   ],
   "source": [
    "df[\"Day\"].value_counts()"
   ]
  },
  {
   "cell_type": "code",
   "execution_count": null,
   "id": "98aff934-0750-4424-bc7d-5f1751cb5209",
   "metadata": {},
   "outputs": [],
   "source": []
  },
  {
   "cell_type": "code",
   "execution_count": 35,
   "id": "5cd1150b-8020-40ac-8343-fbe614fc3248",
   "metadata": {},
   "outputs": [
    {
     "data": {
      "text/plain": [
       "<Axes: xlabel='Day'>"
      ]
     },
     "execution_count": 35,
     "metadata": {},
     "output_type": "execute_result"
    },
    {
     "data": {
      "image/png": "[encoded data removed]",
      "text/plain": [
       "<Figure size 640x480 with 1 Axes>"
      ]
     },
     "metadata": {},
     "output_type": "display_data"
    }
   ],
   "source": [
    "df[\"Day\"].value_counts().plot.bar()"
   ]
  },
  {
   "cell_type": "code",
   "execution_count": null,
   "id": "c6913182-b7af-4687-a4a8-bfeec8455189",
   "metadata": {},
   "outputs": [],
   "source": []
  },
  {
   "cell_type": "code",
   "execution_count": 36,
   "id": "5b92515f-b4ff-41e3-9aba-96e1d3ccddfc",
   "metadata": {},
   "outputs": [
    {
     "data": {
      "text/plain": [
       "SKU\n",
       "M01    15\n",
       "M02    15\n",
       "M03    15\n",
       "M04    15\n",
       "M05    15\n",
       "M06    15\n",
       "M07    15\n",
       "M08    15\n",
       "M09    15\n",
       "M10    15\n",
       "F01    15\n",
       "F02    15\n",
       "F03    15\n",
       "F04    15\n",
       "F05    15\n",
       "F06    15\n",
       "F07    15\n",
       "F08    15\n",
       "F09    15\n",
       "F10    15\n",
       "L01    15\n",
       "L02    15\n",
       "L03    15\n",
       "L04    15\n",
       "L05    15\n",
       "L06    15\n",
       "L07    15\n",
       "L08    15\n",
       "L09    15\n",
       "L10    15\n",
       "Name: count, dtype: int64"
      ]
     },
     "execution_count": 36,
     "metadata": {},
     "output_type": "execute_result"
    }
   ],
   "source": [
    "df[\"SKU\"].value_counts()"
   ]
  },
  {
   "cell_type": "code",
   "execution_count": null,
   "id": "e74d4281-5f80-4bf6-8e6f-8bad812f6c48",
   "metadata": {},
   "outputs": [],
   "source": []
  },
  {
   "cell_type": "code",
   "execution_count": 37,
   "id": "bb985486-e09f-45b9-8fb0-d7355c1cb689",
   "metadata": {},
   "outputs": [
    {
     "data": {
      "text/plain": [
       "<Axes: xlabel='SKU'>"
      ]
     },
     "execution_count": 37,
     "metadata": {},
     "output_type": "execute_result"
    },
    {
     "data": {
      "image/png": "[encoded data removed]",
      "text/plain": [
       "<Figure size 640x480 with 1 Axes>"
      ]
     },
     "metadata": {},
     "output_type": "display_data"
    }
   ],
   "source": [
    "df[\"SKU\"].value_counts().plot.bar()"
   ]
  },
  {
   "cell_type": "code",
   "execution_count": null,
   "id": "36f4612c-72d8-46e8-a061-e51076304290",
   "metadata": {},
   "outputs": [],
   "source": []
  },
  {
   "cell_type": "code",
   "execution_count": 38,
   "id": "42c964b4-ea29-4b69-ba98-ca37399d4bb8",
   "metadata": {},
   "outputs": [
    {
     "data": {
      "text/plain": [
       "City\n",
       "C    450\n",
       "Name: count, dtype: int64"
      ]
     },
     "execution_count": 38,
     "metadata": {},
     "output_type": "execute_result"
    }
   ],
   "source": [
    "df[\"City\"].value_counts()"
   ]
  },
  {
   "cell_type": "code",
   "execution_count": null,
   "id": "56e4b7b5-4972-4b2e-bb11-af412e3690ea",
   "metadata": {},
   "outputs": [],
   "source": []
  },
  {
   "cell_type": "code",
   "execution_count": 39,
   "id": "a500de15-65d7-4388-b23f-958f5b9c18ad",
   "metadata": {},
   "outputs": [
    {
     "data": {
      "text/plain": [
       "<Axes: xlabel='City'>"
      ]
     },
     "execution_count": 39,
     "metadata": {},
     "output_type": "execute_result"
    },
    {
     "data": {
      "image/png": "[encoded data removed]",
      "text/plain": [
       "<Figure size 640x480 with 1 Axes>"
      ]
     },
     "metadata": {},
     "output_type": "display_data"
    }
   ],
   "source": [
    "df[\"City\"].value_counts().plot.bar()"
   ]
  },
  {
   "cell_type": "code",
   "execution_count": null,
   "id": "0dbb31ee-aa90-4798-9e94-0387c72afcc0",
   "metadata": {},
   "outputs": [],
   "source": []
  },
  {
   "cell_type": "code",
   "execution_count": 40,
   "id": "8d518994-9c23-4abf-a0e3-5b2221887b8e",
   "metadata": {},
   "outputs": [
    {
     "data": {
      "text/plain": [
       "BU\n",
       "Mobiles      150\n",
       "FMCG         150\n",
       "Lifestyle    150\n",
       "Name: count, dtype: int64"
      ]
     },
     "execution_count": 40,
     "metadata": {},
     "output_type": "execute_result"
    }
   ],
   "source": [
    "df[\"BU\"].value_counts()"
   ]
  },
  {
   "cell_type": "code",
   "execution_count": null,
   "id": "da156346-b9c0-4342-a5c9-cd2dfc37032a",
   "metadata": {},
   "outputs": [],
   "source": []
  },
  {
   "cell_type": "code",
   "execution_count": 41,
   "id": "4cc5b88b-efb9-4278-a765-0c6949e6f5c3",
   "metadata": {},
   "outputs": [
    {
     "data": {
      "text/plain": [
       "<Axes: xlabel='BU'>"
      ]
     },
     "execution_count": 41,
     "metadata": {},
     "output_type": "execute_result"
    },
    {
     "data": {
      "image/png": "[encoded data removed]",
      "text/plain": [
       "<Figure size 640x480 with 1 Axes>"
      ]
     },
     "metadata": {},
     "output_type": "display_data"
    }
   ],
   "source": [
    "df[\"BU\"].value_counts().plot.bar()"
   ]
  },
  {
   "cell_type": "code",
   "execution_count": null,
   "id": "5ee69545-6d58-4d02-bfe5-73f6f1791a2d",
   "metadata": {},
   "outputs": [],
   "source": []
  },
  {
   "cell_type": "code",
   "execution_count": 42,
   "id": "562975ef-68e0-44d0-b640-28ac938ddc36",
   "metadata": {},
   "outputs": [
    {
     "data": {
      "text/plain": [
       "Brand\n",
       "Jeera      90\n",
       "Viva       60\n",
       "Gear       60\n",
       "RealU      45\n",
       "YouM       45\n",
       "Babaji     45\n",
       "Vedic      45\n",
       "Orange     30\n",
       "Sumsang    30\n",
       "Name: count, dtype: int64"
      ]
     },
     "execution_count": 42,
     "metadata": {},
     "output_type": "execute_result"
    }
   ],
   "source": [
    "df[\"Brand\"].value_counts()"
   ]
  },
  {
   "cell_type": "code",
   "execution_count": null,
   "id": "978460a9-bd7c-495c-9be8-58cc423e3b6b",
   "metadata": {},
   "outputs": [],
   "source": []
  },
  {
   "cell_type": "code",
   "execution_count": 43,
   "id": "912e8fce-bfb5-46a0-81eb-6cab1b7ccb08",
   "metadata": {},
   "outputs": [
    {
     "data": {
      "text/plain": [
       "<Axes: xlabel='Brand'>"
      ]
     },
     "execution_count": 43,
     "metadata": {},
     "output_type": "execute_result"
    },
    {
     "data": {
      "image/png": "[encoded data removed]",
      "text/plain": [
       "<Figure size 640x480 with 1 Axes>"
      ]
     },
     "metadata": {},
     "output_type": "display_data"
    }
   ],
   "source": [
    "df[\"Brand\"].value_counts().plot.bar()"
   ]
  },
  {
   "cell_type": "code",
   "execution_count": null,
   "id": "bb88aee9-e402-4b9e-88a6-7689d20bfbe2",
   "metadata": {},
   "outputs": [],
   "source": []
  },
  {
   "cell_type": "code",
   "execution_count": 44,
   "id": "00a18390-8032-49fb-95bb-d54909afadb4",
   "metadata": {},
   "outputs": [
    {
     "data": {
      "text/plain": [
       "Model\n",
       "RU-10             15\n",
       "RU-9 Plus         15\n",
       "YM-99             15\n",
       "YM-99 Plus        15\n",
       "YM-98             15\n",
       "RU-9              15\n",
       "S-20              15\n",
       "S-21              15\n",
       "O-10              15\n",
       "O-11              15\n",
       "Babaji Oil        15\n",
       "Vedic Cream       15\n",
       "Vedic Shampoo     15\n",
       "Babaji Shampoo    15\n",
       "Babaji Cream      15\n",
       "Vedic Oil         15\n",
       "Gear Oil          15\n",
       "Gear Cream        15\n",
       "Gear Shampoo      15\n",
       "Gear BB Cream     15\n",
       "M- T Shirts       15\n",
       "M- Inners         15\n",
       "W-Casuals         15\n",
       "W-Inners          15\n",
       "M-Jeans           15\n",
       "M-Casuals         15\n",
       "W-Western         15\n",
       "W-Lounge          15\n",
       "M-Formals         15\n",
       "M-Shoes           15\n",
       "Name: count, dtype: int64"
      ]
     },
     "execution_count": 44,
     "metadata": {},
     "output_type": "execute_result"
    }
   ],
   "source": [
    "df[\"Model\"].value_counts()"
   ]
  },
  {
   "cell_type": "code",
   "execution_count": null,
   "id": "ec3872a8-f218-4c8e-ab3a-0a6c75ad47d6",
   "metadata": {},
   "outputs": [],
   "source": []
  },
  {
   "cell_type": "code",
   "execution_count": 45,
   "id": "2c136226-2dfa-4c01-8e71-1caaf3a0338d",
   "metadata": {},
   "outputs": [
    {
     "data": {
      "text/plain": [
       "<Axes: xlabel='Model'>"
      ]
     },
     "execution_count": 45,
     "metadata": {},
     "output_type": "execute_result"
    },
    {
     "data": {
      "image/png": "[encoded data removed]",
      "text/plain": [
       "<Figure size 640x480 with 1 Axes>"
      ]
     },
     "metadata": {},
     "output_type": "display_data"
    }
   ],
   "source": [
    "df[\"Model\"].value_counts().plot.bar()"
   ]
  },
  {
   "cell_type": "code",
   "execution_count": 46,
   "id": "1e3e0615-a757-44c6-af66-19521098e195",
   "metadata": {},
   "outputs": [],
   "source": [
    "#CONVERTION OF CATEGORICAL DATA INTO DUMMY VARIABLES:\n",
    "# this convertion is essential for preparing the data for analysis and improving the accuracy of models."
   ]
  },
  {
   "cell_type": "code",
   "execution_count": 47,
   "id": "c5a84998-c810-46c2-9fcc-c58adaa3fb9b",
   "metadata": {},
   "outputs": [
    {
     "name": "stdout",
     "output_type": "stream",
     "text": [
      "     Volume  Avg Price  Total Sales Value  Discount Rate (%)  Discount Amount  \\\n",
      "0        15      12100             181500          11.654820     21153.498820   \n",
      "1        10      10100             101000          11.560498     11676.102961   \n",
      "2         7      16100             112700           9.456886     10657.910157   \n",
      "3         6      20100             120600           6.935385      8364.074702   \n",
      "4         3       8100              24300          17.995663      4372.946230   \n",
      "..      ...        ...                ...                ...              ...   \n",
      "445       2       1300               2600          15.475687       402.367873   \n",
      "446       6       2600              15600          17.057027      2660.896242   \n",
      "447       2       1600               3200          18.965550       606.897606   \n",
      "448       3       1900               5700          16.793014       957.201826   \n",
      "449       1       3100               3100          15.333300       475.332295   \n",
      "\n",
      "     Net Sales Value  Date_01-04-2021  Date_02-04-2021  Date_03-04-2021  \\\n",
      "0      160346.501180             True            False            False   \n",
      "1       89323.897039             True            False            False   \n",
      "2      102042.089843             True            False            False   \n",
      "3      112235.925298             True            False            False   \n",
      "4       19927.053770             True            False            False   \n",
      "..               ...              ...              ...              ...   \n",
      "445      2197.632127            False            False            False   \n",
      "446     12939.103758            False            False            False   \n",
      "447      2593.102394            False            False            False   \n",
      "448      4742.798174            False            False            False   \n",
      "449      2624.667705            False            False            False   \n",
      "\n",
      "     Date_04-04-2021  ...  Model_Vedic Cream  Model_Vedic Oil  \\\n",
      "0              False  ...              False            False   \n",
      "1              False  ...              False            False   \n",
      "2              False  ...              False            False   \n",
      "3              False  ...              False            False   \n",
      "4              False  ...              False            False   \n",
      "..               ...  ...                ...              ...   \n",
      "445            False  ...              False            False   \n",
      "446            False  ...              False            False   \n",
      "447            False  ...              False            False   \n",
      "448            False  ...              False            False   \n",
      "449            False  ...              False            False   \n",
      "\n",
      "     Model_Vedic Shampoo  Model_W-Casuals  Model_W-Inners  Model_W-Lounge  \\\n",
      "0                  False            False           False           False   \n",
      "1                  False            False           False           False   \n",
      "2                  False            False           False           False   \n",
      "3                  False            False           False           False   \n",
      "4                  False            False           False           False   \n",
      "..                   ...              ...             ...             ...   \n",
      "445                False            False           False           False   \n",
      "446                False            False           False           False   \n",
      "447                False            False           False            True   \n",
      "448                False            False           False           False   \n",
      "449                False            False           False           False   \n",
      "\n",
      "     Model_W-Western  Model_YM-98   Model_YM-99  Model_YM-99 Plus  \n",
      "0              False         False        False             False  \n",
      "1              False         False        False             False  \n",
      "2              False         False         True             False  \n",
      "3              False         False        False              True  \n",
      "4              False          True        False             False  \n",
      "..               ...           ...          ...               ...  \n",
      "445            False         False        False             False  \n",
      "446             True         False        False             False  \n",
      "447            False         False        False             False  \n",
      "448            False         False        False             False  \n",
      "449            False         False        False             False  \n",
      "\n",
      "[450 rows x 101 columns]\n"
     ]
    }
   ],
   "source": [
    "#for performing Encoding operation using pandas dummy function:\n",
    "dummies_df = pd.get_dummies(df,columns =['Date','Day','SKU','City','BU','Brand','Model'])\n",
    "print(dummies_df)"
   ]
  },
  {
   "cell_type": "code",
   "execution_count": 48,
   "id": "d0c661c6-0633-4abf-ad06-73e0580de3c8",
   "metadata": {},
   "outputs": [],
   "source": [
    "#Standardization of numerical variables:\n",
    "# standardization (z_score normalization) is the process of data transformation."
   ]
  },
  {
   "cell_type": "code",
   "execution_count": 49,
   "id": "ceba6075-0a89-4b75-a210-611c844afa13",
   "metadata": {},
   "outputs": [],
   "source": [
    "from sklearn.preprocessing import StandardScaler,MinMaxScaler"
   ]
  },
  {
   "cell_type": "code",
   "execution_count": 50,
   "id": "4da29f5b-b106-42a1-9b35-f68fe4ac351c",
   "metadata": {},
   "outputs": [],
   "source": [
    "#Standardization\n",
    "sc = StandardScaler() # ZScore=(x-x bar)/std"
   ]
  },
  {
   "cell_type": "code",
   "execution_count": 51,
   "id": "6031cfc5-4a7d-4170-bf8d-b8d6033b584e",
   "metadata": {},
   "outputs": [
    {
     "data": {
      "text/plain": [
       "array([[ 2.35002911,  0.091173  ,  2.92572115, ..., -0.18569534,\n",
       "        -0.18569534, -0.18569534],\n",
       "       [ 1.16712855, -0.01957016,  1.33099521, ..., -0.18569534,\n",
       "        -0.18569534, -0.18569534],\n",
       "       [ 0.45738822,  0.31265934,  1.56277525, ..., -0.18569534,\n",
       "         5.38516481, -0.18569534],\n",
       "       ...,\n",
       "       [-0.72551234, -0.49022863, -0.60644824, ..., -0.18569534,\n",
       "        -0.18569534, -0.18569534],\n",
       "       [-0.48893223, -0.47361715, -0.55692259, ..., -0.18569534,\n",
       "        -0.18569534, -0.18569534],\n",
       "       [-0.96209245, -0.40717125, -0.60842926, ..., -0.18569534,\n",
       "        -0.18569534, -0.18569534]])"
      ]
     },
     "execution_count": 51,
     "metadata": {},
     "output_type": "execute_result"
    }
   ],
   "source": [
    "sc.fit_transform(dummies_df)"
   ]
  },
  {
   "cell_type": "code",
   "execution_count": 52,
   "id": "c38a55c4-75ea-4b86-a593-25dc1e569be3",
   "metadata": {},
   "outputs": [
    {
     "data": {
      "text/html": [
       "<div>\n",
       "<style scoped>\n",
       "    .dataframe tbody tr th:only-of-type {\n",
       "        vertical-align: middle;\n",
       "    }\n",
       "\n",
       "    .dataframe tbody tr th {\n",
       "        vertical-align: top;\n",
       "    }\n",
       "\n",
       "    .dataframe thead th {\n",
       "        text-align: right;\n",
       "    }\n",
       "</style>\n",
       "<table border=\"1\" class=\"dataframe\">\n",
       "  <thead>\n",
       "    <tr style=\"text-align: right;\">\n",
       "      <th></th>\n",
       "      <th>0</th>\n",
       "      <th>1</th>\n",
       "      <th>2</th>\n",
       "      <th>3</th>\n",
       "      <th>4</th>\n",
       "      <th>5</th>\n",
       "      <th>6</th>\n",
       "      <th>7</th>\n",
       "      <th>8</th>\n",
       "      <th>9</th>\n",
       "      <th>...</th>\n",
       "      <th>91</th>\n",
       "      <th>92</th>\n",
       "      <th>93</th>\n",
       "      <th>94</th>\n",
       "      <th>95</th>\n",
       "      <th>96</th>\n",
       "      <th>97</th>\n",
       "      <th>98</th>\n",
       "      <th>99</th>\n",
       "      <th>100</th>\n",
       "    </tr>\n",
       "  </thead>\n",
       "  <tbody>\n",
       "    <tr>\n",
       "      <th>0</th>\n",
       "      <td>2.350029</td>\n",
       "      <td>0.091173</td>\n",
       "      <td>2.925721</td>\n",
       "      <td>-0.830289</td>\n",
       "      <td>3.952816</td>\n",
       "      <td>2.804756</td>\n",
       "      <td>3.741657</td>\n",
       "      <td>-0.267261</td>\n",
       "      <td>-0.267261</td>\n",
       "      <td>-0.267261</td>\n",
       "      <td>...</td>\n",
       "      <td>-0.185695</td>\n",
       "      <td>-0.185695</td>\n",
       "      <td>-0.185695</td>\n",
       "      <td>-0.185695</td>\n",
       "      <td>-0.185695</td>\n",
       "      <td>-0.185695</td>\n",
       "      <td>-0.185695</td>\n",
       "      <td>-0.185695</td>\n",
       "      <td>-0.185695</td>\n",
       "      <td>-0.185695</td>\n",
       "    </tr>\n",
       "    <tr>\n",
       "      <th>1</th>\n",
       "      <td>1.167129</td>\n",
       "      <td>-0.019570</td>\n",
       "      <td>1.330995</td>\n",
       "      <td>-0.852661</td>\n",
       "      <td>1.849014</td>\n",
       "      <td>1.271026</td>\n",
       "      <td>3.741657</td>\n",
       "      <td>-0.267261</td>\n",
       "      <td>-0.267261</td>\n",
       "      <td>-0.267261</td>\n",
       "      <td>...</td>\n",
       "      <td>-0.185695</td>\n",
       "      <td>-0.185695</td>\n",
       "      <td>-0.185695</td>\n",
       "      <td>-0.185695</td>\n",
       "      <td>-0.185695</td>\n",
       "      <td>-0.185695</td>\n",
       "      <td>-0.185695</td>\n",
       "      <td>-0.185695</td>\n",
       "      <td>-0.185695</td>\n",
       "      <td>-0.185695</td>\n",
       "    </tr>\n",
       "    <tr>\n",
       "      <th>2</th>\n",
       "      <td>0.457388</td>\n",
       "      <td>0.312659</td>\n",
       "      <td>1.562775</td>\n",
       "      <td>-1.351631</td>\n",
       "      <td>1.622995</td>\n",
       "      <td>1.545675</td>\n",
       "      <td>3.741657</td>\n",
       "      <td>-0.267261</td>\n",
       "      <td>-0.267261</td>\n",
       "      <td>-0.267261</td>\n",
       "      <td>...</td>\n",
       "      <td>-0.185695</td>\n",
       "      <td>-0.185695</td>\n",
       "      <td>-0.185695</td>\n",
       "      <td>-0.185695</td>\n",
       "      <td>-0.185695</td>\n",
       "      <td>-0.185695</td>\n",
       "      <td>-0.185695</td>\n",
       "      <td>-0.185695</td>\n",
       "      <td>5.385165</td>\n",
       "      <td>-0.185695</td>\n",
       "    </tr>\n",
       "    <tr>\n",
       "      <th>3</th>\n",
       "      <td>0.220808</td>\n",
       "      <td>0.534146</td>\n",
       "      <td>1.719276</td>\n",
       "      <td>-1.949723</td>\n",
       "      <td>1.113807</td>\n",
       "      <td>1.765810</td>\n",
       "      <td>3.741657</td>\n",
       "      <td>-0.267261</td>\n",
       "      <td>-0.267261</td>\n",
       "      <td>-0.267261</td>\n",
       "      <td>...</td>\n",
       "      <td>-0.185695</td>\n",
       "      <td>-0.185695</td>\n",
       "      <td>-0.185695</td>\n",
       "      <td>-0.185695</td>\n",
       "      <td>-0.185695</td>\n",
       "      <td>-0.185695</td>\n",
       "      <td>-0.185695</td>\n",
       "      <td>-0.185695</td>\n",
       "      <td>-0.185695</td>\n",
       "      <td>5.385165</td>\n",
       "    </tr>\n",
       "    <tr>\n",
       "      <th>4</th>\n",
       "      <td>-0.488932</td>\n",
       "      <td>-0.130313</td>\n",
       "      <td>-0.188452</td>\n",
       "      <td>0.673739</td>\n",
       "      <td>0.227852</td>\n",
       "      <td>-0.227595</td>\n",
       "      <td>3.741657</td>\n",
       "      <td>-0.267261</td>\n",
       "      <td>-0.267261</td>\n",
       "      <td>-0.267261</td>\n",
       "      <td>...</td>\n",
       "      <td>-0.185695</td>\n",
       "      <td>-0.185695</td>\n",
       "      <td>-0.185695</td>\n",
       "      <td>-0.185695</td>\n",
       "      <td>-0.185695</td>\n",
       "      <td>-0.185695</td>\n",
       "      <td>-0.185695</td>\n",
       "      <td>5.385165</td>\n",
       "      <td>-0.185695</td>\n",
       "      <td>-0.185695</td>\n",
       "    </tr>\n",
       "    <tr>\n",
       "      <th>...</th>\n",
       "      <td>...</td>\n",
       "      <td>...</td>\n",
       "      <td>...</td>\n",
       "      <td>...</td>\n",
       "      <td>...</td>\n",
       "      <td>...</td>\n",
       "      <td>...</td>\n",
       "      <td>...</td>\n",
       "      <td>...</td>\n",
       "      <td>...</td>\n",
       "      <td>...</td>\n",
       "      <td>...</td>\n",
       "      <td>...</td>\n",
       "      <td>...</td>\n",
       "      <td>...</td>\n",
       "      <td>...</td>\n",
       "      <td>...</td>\n",
       "      <td>...</td>\n",
       "      <td>...</td>\n",
       "      <td>...</td>\n",
       "      <td>...</td>\n",
       "    </tr>\n",
       "    <tr>\n",
       "      <th>445</th>\n",
       "      <td>-0.725512</td>\n",
       "      <td>-0.506840</td>\n",
       "      <td>-0.618334</td>\n",
       "      <td>0.076009</td>\n",
       "      <td>-0.653541</td>\n",
       "      <td>-0.610461</td>\n",
       "      <td>-0.267261</td>\n",
       "      <td>-0.267261</td>\n",
       "      <td>-0.267261</td>\n",
       "      <td>-0.267261</td>\n",
       "      <td>...</td>\n",
       "      <td>-0.185695</td>\n",
       "      <td>-0.185695</td>\n",
       "      <td>-0.185695</td>\n",
       "      <td>-0.185695</td>\n",
       "      <td>-0.185695</td>\n",
       "      <td>-0.185695</td>\n",
       "      <td>-0.185695</td>\n",
       "      <td>-0.185695</td>\n",
       "      <td>-0.185695</td>\n",
       "      <td>-0.185695</td>\n",
       "    </tr>\n",
       "    <tr>\n",
       "      <th>446</th>\n",
       "      <td>0.220808</td>\n",
       "      <td>-0.434857</td>\n",
       "      <td>-0.360801</td>\n",
       "      <td>0.451097</td>\n",
       "      <td>-0.152191</td>\n",
       "      <td>-0.378500</td>\n",
       "      <td>-0.267261</td>\n",
       "      <td>-0.267261</td>\n",
       "      <td>-0.267261</td>\n",
       "      <td>-0.267261</td>\n",
       "      <td>...</td>\n",
       "      <td>-0.185695</td>\n",
       "      <td>-0.185695</td>\n",
       "      <td>-0.185695</td>\n",
       "      <td>-0.185695</td>\n",
       "      <td>-0.185695</td>\n",
       "      <td>-0.185695</td>\n",
       "      <td>5.385165</td>\n",
       "      <td>-0.185695</td>\n",
       "      <td>-0.185695</td>\n",
       "      <td>-0.185695</td>\n",
       "    </tr>\n",
       "    <tr>\n",
       "      <th>447</th>\n",
       "      <td>-0.725512</td>\n",
       "      <td>-0.490229</td>\n",
       "      <td>-0.606448</td>\n",
       "      <td>0.903793</td>\n",
       "      <td>-0.608140</td>\n",
       "      <td>-0.601921</td>\n",
       "      <td>-0.267261</td>\n",
       "      <td>-0.267261</td>\n",
       "      <td>-0.267261</td>\n",
       "      <td>-0.267261</td>\n",
       "      <td>...</td>\n",
       "      <td>-0.185695</td>\n",
       "      <td>-0.185695</td>\n",
       "      <td>-0.185695</td>\n",
       "      <td>-0.185695</td>\n",
       "      <td>-0.185695</td>\n",
       "      <td>5.385165</td>\n",
       "      <td>-0.185695</td>\n",
       "      <td>-0.185695</td>\n",
       "      <td>-0.185695</td>\n",
       "      <td>-0.185695</td>\n",
       "    </tr>\n",
       "    <tr>\n",
       "      <th>448</th>\n",
       "      <td>-0.488932</td>\n",
       "      <td>-0.473617</td>\n",
       "      <td>-0.556923</td>\n",
       "      <td>0.388474</td>\n",
       "      <td>-0.530379</td>\n",
       "      <td>-0.555499</td>\n",
       "      <td>-0.267261</td>\n",
       "      <td>-0.267261</td>\n",
       "      <td>-0.267261</td>\n",
       "      <td>-0.267261</td>\n",
       "      <td>...</td>\n",
       "      <td>-0.185695</td>\n",
       "      <td>-0.185695</td>\n",
       "      <td>-0.185695</td>\n",
       "      <td>-0.185695</td>\n",
       "      <td>-0.185695</td>\n",
       "      <td>-0.185695</td>\n",
       "      <td>-0.185695</td>\n",
       "      <td>-0.185695</td>\n",
       "      <td>-0.185695</td>\n",
       "      <td>-0.185695</td>\n",
       "    </tr>\n",
       "    <tr>\n",
       "      <th>449</th>\n",
       "      <td>-0.962092</td>\n",
       "      <td>-0.407171</td>\n",
       "      <td>-0.608429</td>\n",
       "      <td>0.042235</td>\n",
       "      <td>-0.637345</td>\n",
       "      <td>-0.601239</td>\n",
       "      <td>-0.267261</td>\n",
       "      <td>-0.267261</td>\n",
       "      <td>-0.267261</td>\n",
       "      <td>-0.267261</td>\n",
       "      <td>...</td>\n",
       "      <td>-0.185695</td>\n",
       "      <td>-0.185695</td>\n",
       "      <td>-0.185695</td>\n",
       "      <td>-0.185695</td>\n",
       "      <td>-0.185695</td>\n",
       "      <td>-0.185695</td>\n",
       "      <td>-0.185695</td>\n",
       "      <td>-0.185695</td>\n",
       "      <td>-0.185695</td>\n",
       "      <td>-0.185695</td>\n",
       "    </tr>\n",
       "  </tbody>\n",
       "</table>\n",
       "<p>450 rows × 101 columns</p>\n",
       "</div>"
      ],
      "text/plain": [
       "          0         1         2         3         4         5         6    \\\n",
       "0    2.350029  0.091173  2.925721 -0.830289  3.952816  2.804756  3.741657   \n",
       "1    1.167129 -0.019570  1.330995 -0.852661  1.849014  1.271026  3.741657   \n",
       "2    0.457388  0.312659  1.562775 -1.351631  1.622995  1.545675  3.741657   \n",
       "3    0.220808  0.534146  1.719276 -1.949723  1.113807  1.765810  3.741657   \n",
       "4   -0.488932 -0.130313 -0.188452  0.673739  0.227852 -0.227595  3.741657   \n",
       "..        ...       ...       ...       ...       ...       ...       ...   \n",
       "445 -0.725512 -0.506840 -0.618334  0.076009 -0.653541 -0.610461 -0.267261   \n",
       "446  0.220808 -0.434857 -0.360801  0.451097 -0.152191 -0.378500 -0.267261   \n",
       "447 -0.725512 -0.490229 -0.606448  0.903793 -0.608140 -0.601921 -0.267261   \n",
       "448 -0.488932 -0.473617 -0.556923  0.388474 -0.530379 -0.555499 -0.267261   \n",
       "449 -0.962092 -0.407171 -0.608429  0.042235 -0.637345 -0.601239 -0.267261   \n",
       "\n",
       "          7         8         9    ...       91        92        93   \\\n",
       "0   -0.267261 -0.267261 -0.267261  ... -0.185695 -0.185695 -0.185695   \n",
       "1   -0.267261 -0.267261 -0.267261  ... -0.185695 -0.185695 -0.185695   \n",
       "2   -0.267261 -0.267261 -0.267261  ... -0.185695 -0.185695 -0.185695   \n",
       "3   -0.267261 -0.267261 -0.267261  ... -0.185695 -0.185695 -0.185695   \n",
       "4   -0.267261 -0.267261 -0.267261  ... -0.185695 -0.185695 -0.185695   \n",
       "..        ...       ...       ...  ...       ...       ...       ...   \n",
       "445 -0.267261 -0.267261 -0.267261  ... -0.185695 -0.185695 -0.185695   \n",
       "446 -0.267261 -0.267261 -0.267261  ... -0.185695 -0.185695 -0.185695   \n",
       "447 -0.267261 -0.267261 -0.267261  ... -0.185695 -0.185695 -0.185695   \n",
       "448 -0.267261 -0.267261 -0.267261  ... -0.185695 -0.185695 -0.185695   \n",
       "449 -0.267261 -0.267261 -0.267261  ... -0.185695 -0.185695 -0.185695   \n",
       "\n",
       "          94        95        96        97        98        99        100  \n",
       "0   -0.185695 -0.185695 -0.185695 -0.185695 -0.185695 -0.185695 -0.185695  \n",
       "1   -0.185695 -0.185695 -0.185695 -0.185695 -0.185695 -0.185695 -0.185695  \n",
       "2   -0.185695 -0.185695 -0.185695 -0.185695 -0.185695  5.385165 -0.185695  \n",
       "3   -0.185695 -0.185695 -0.185695 -0.185695 -0.185695 -0.185695  5.385165  \n",
       "4   -0.185695 -0.185695 -0.185695 -0.185695  5.385165 -0.185695 -0.185695  \n",
       "..        ...       ...       ...       ...       ...       ...       ...  \n",
       "445 -0.185695 -0.185695 -0.185695 -0.185695 -0.185695 -0.185695 -0.185695  \n",
       "446 -0.185695 -0.185695 -0.185695  5.385165 -0.185695 -0.185695 -0.185695  \n",
       "447 -0.185695 -0.185695  5.385165 -0.185695 -0.185695 -0.185695 -0.185695  \n",
       "448 -0.185695 -0.185695 -0.185695 -0.185695 -0.185695 -0.185695 -0.185695  \n",
       "449 -0.185695 -0.185695 -0.185695 -0.185695 -0.185695 -0.185695 -0.185695  \n",
       "\n",
       "[450 rows x 101 columns]"
      ]
     },
     "execution_count": 52,
     "metadata": {},
     "output_type": "execute_result"
    }
   ],
   "source": [
    "pd.DataFrame(sc.fit_transform(dummies_df))"
   ]
  },
  {
   "cell_type": "code",
   "execution_count": 53,
   "id": "7e18936d-994b-4342-9a03-7494813482e8",
   "metadata": {},
   "outputs": [
    {
     "data": {
      "text/plain": [
       "Index(['Date', 'Day', 'SKU', 'City', 'Volume', 'BU', 'Brand', 'Model',\n",
       "       'Avg Price', 'Total Sales Value', 'Discount Rate (%)',\n",
       "       'Discount Amount', 'Net Sales Value'],\n",
       "      dtype='object')"
      ]
     },
     "execution_count": 53,
     "metadata": {},
     "output_type": "execute_result"
    }
   ],
   "source": [
    "df.columns"
   ]
  },
  {
   "cell_type": "code",
   "execution_count": 54,
   "id": "08e62f84-8352-439c-93fa-bde23a57dc2b",
   "metadata": {},
   "outputs": [
    {
     "data": {
      "text/plain": [
       "(450, 13)"
      ]
     },
     "execution_count": 54,
     "metadata": {},
     "output_type": "execute_result"
    }
   ],
   "source": [
    "df.shape"
   ]
  },
  {
   "cell_type": "code",
   "execution_count": 55,
   "id": "3b47a239-9dc9-41ac-877b-e9fd3afcd77d",
   "metadata": {},
   "outputs": [
    {
     "data": {
      "text/html": [
       "<div>\n",
       "<style scoped>\n",
       "    .dataframe tbody tr th:only-of-type {\n",
       "        vertical-align: middle;\n",
       "    }\n",
       "\n",
       "    .dataframe tbody tr th {\n",
       "        vertical-align: top;\n",
       "    }\n",
       "\n",
       "    .dataframe thead th {\n",
       "        text-align: right;\n",
       "    }\n",
       "</style>\n",
       "<table border=\"1\" class=\"dataframe\">\n",
       "  <thead>\n",
       "    <tr style=\"text-align: right;\">\n",
       "      <th></th>\n",
       "      <th>Volume</th>\n",
       "      <th>Avg Price</th>\n",
       "      <th>Total Sales Value</th>\n",
       "      <th>Discount Rate (%)</th>\n",
       "      <th>Discount Amount</th>\n",
       "      <th>Net Sales Value</th>\n",
       "      <th>Date_01-04-2021</th>\n",
       "      <th>Date_02-04-2021</th>\n",
       "      <th>Date_03-04-2021</th>\n",
       "      <th>Date_04-04-2021</th>\n",
       "      <th>...</th>\n",
       "      <th>Model_Vedic Cream</th>\n",
       "      <th>Model_Vedic Oil</th>\n",
       "      <th>Model_Vedic Shampoo</th>\n",
       "      <th>Model_W-Casuals</th>\n",
       "      <th>Model_W-Inners</th>\n",
       "      <th>Model_W-Lounge</th>\n",
       "      <th>Model_W-Western</th>\n",
       "      <th>Model_YM-98</th>\n",
       "      <th>Model_YM-99</th>\n",
       "      <th>Model_YM-99 Plus</th>\n",
       "    </tr>\n",
       "  </thead>\n",
       "  <tbody>\n",
       "    <tr>\n",
       "      <th>0</th>\n",
       "      <td>2.350029</td>\n",
       "      <td>0.091173</td>\n",
       "      <td>2.925721</td>\n",
       "      <td>-0.830289</td>\n",
       "      <td>3.952816</td>\n",
       "      <td>2.804756</td>\n",
       "      <td>3.741657</td>\n",
       "      <td>-0.267261</td>\n",
       "      <td>-0.267261</td>\n",
       "      <td>-0.267261</td>\n",
       "      <td>...</td>\n",
       "      <td>-0.185695</td>\n",
       "      <td>-0.185695</td>\n",
       "      <td>-0.185695</td>\n",
       "      <td>-0.185695</td>\n",
       "      <td>-0.185695</td>\n",
       "      <td>-0.185695</td>\n",
       "      <td>-0.185695</td>\n",
       "      <td>-0.185695</td>\n",
       "      <td>-0.185695</td>\n",
       "      <td>-0.185695</td>\n",
       "    </tr>\n",
       "    <tr>\n",
       "      <th>1</th>\n",
       "      <td>1.167129</td>\n",
       "      <td>-0.019570</td>\n",
       "      <td>1.330995</td>\n",
       "      <td>-0.852661</td>\n",
       "      <td>1.849014</td>\n",
       "      <td>1.271026</td>\n",
       "      <td>3.741657</td>\n",
       "      <td>-0.267261</td>\n",
       "      <td>-0.267261</td>\n",
       "      <td>-0.267261</td>\n",
       "      <td>...</td>\n",
       "      <td>-0.185695</td>\n",
       "      <td>-0.185695</td>\n",
       "      <td>-0.185695</td>\n",
       "      <td>-0.185695</td>\n",
       "      <td>-0.185695</td>\n",
       "      <td>-0.185695</td>\n",
       "      <td>-0.185695</td>\n",
       "      <td>-0.185695</td>\n",
       "      <td>-0.185695</td>\n",
       "      <td>-0.185695</td>\n",
       "    </tr>\n",
       "    <tr>\n",
       "      <th>2</th>\n",
       "      <td>0.457388</td>\n",
       "      <td>0.312659</td>\n",
       "      <td>1.562775</td>\n",
       "      <td>-1.351631</td>\n",
       "      <td>1.622995</td>\n",
       "      <td>1.545675</td>\n",
       "      <td>3.741657</td>\n",
       "      <td>-0.267261</td>\n",
       "      <td>-0.267261</td>\n",
       "      <td>-0.267261</td>\n",
       "      <td>...</td>\n",
       "      <td>-0.185695</td>\n",
       "      <td>-0.185695</td>\n",
       "      <td>-0.185695</td>\n",
       "      <td>-0.185695</td>\n",
       "      <td>-0.185695</td>\n",
       "      <td>-0.185695</td>\n",
       "      <td>-0.185695</td>\n",
       "      <td>-0.185695</td>\n",
       "      <td>5.385165</td>\n",
       "      <td>-0.185695</td>\n",
       "    </tr>\n",
       "    <tr>\n",
       "      <th>3</th>\n",
       "      <td>0.220808</td>\n",
       "      <td>0.534146</td>\n",
       "      <td>1.719276</td>\n",
       "      <td>-1.949723</td>\n",
       "      <td>1.113807</td>\n",
       "      <td>1.765810</td>\n",
       "      <td>3.741657</td>\n",
       "      <td>-0.267261</td>\n",
       "      <td>-0.267261</td>\n",
       "      <td>-0.267261</td>\n",
       "      <td>...</td>\n",
       "      <td>-0.185695</td>\n",
       "      <td>-0.185695</td>\n",
       "      <td>-0.185695</td>\n",
       "      <td>-0.185695</td>\n",
       "      <td>-0.185695</td>\n",
       "      <td>-0.185695</td>\n",
       "      <td>-0.185695</td>\n",
       "      <td>-0.185695</td>\n",
       "      <td>-0.185695</td>\n",
       "      <td>5.385165</td>\n",
       "    </tr>\n",
       "    <tr>\n",
       "      <th>4</th>\n",
       "      <td>-0.488932</td>\n",
       "      <td>-0.130313</td>\n",
       "      <td>-0.188452</td>\n",
       "      <td>0.673739</td>\n",
       "      <td>0.227852</td>\n",
       "      <td>-0.227595</td>\n",
       "      <td>3.741657</td>\n",
       "      <td>-0.267261</td>\n",
       "      <td>-0.267261</td>\n",
       "      <td>-0.267261</td>\n",
       "      <td>...</td>\n",
       "      <td>-0.185695</td>\n",
       "      <td>-0.185695</td>\n",
       "      <td>-0.185695</td>\n",
       "      <td>-0.185695</td>\n",
       "      <td>-0.185695</td>\n",
       "      <td>-0.185695</td>\n",
       "      <td>-0.185695</td>\n",
       "      <td>5.385165</td>\n",
       "      <td>-0.185695</td>\n",
       "      <td>-0.185695</td>\n",
       "    </tr>\n",
       "    <tr>\n",
       "      <th>...</th>\n",
       "      <td>...</td>\n",
       "      <td>...</td>\n",
       "      <td>...</td>\n",
       "      <td>...</td>\n",
       "      <td>...</td>\n",
       "      <td>...</td>\n",
       "      <td>...</td>\n",
       "      <td>...</td>\n",
       "      <td>...</td>\n",
       "      <td>...</td>\n",
       "      <td>...</td>\n",
       "      <td>...</td>\n",
       "      <td>...</td>\n",
       "      <td>...</td>\n",
       "      <td>...</td>\n",
       "      <td>...</td>\n",
       "      <td>...</td>\n",
       "      <td>...</td>\n",
       "      <td>...</td>\n",
       "      <td>...</td>\n",
       "      <td>...</td>\n",
       "    </tr>\n",
       "    <tr>\n",
       "      <th>445</th>\n",
       "      <td>-0.725512</td>\n",
       "      <td>-0.506840</td>\n",
       "      <td>-0.618334</td>\n",
       "      <td>0.076009</td>\n",
       "      <td>-0.653541</td>\n",
       "      <td>-0.610461</td>\n",
       "      <td>-0.267261</td>\n",
       "      <td>-0.267261</td>\n",
       "      <td>-0.267261</td>\n",
       "      <td>-0.267261</td>\n",
       "      <td>...</td>\n",
       "      <td>-0.185695</td>\n",
       "      <td>-0.185695</td>\n",
       "      <td>-0.185695</td>\n",
       "      <td>-0.185695</td>\n",
       "      <td>-0.185695</td>\n",
       "      <td>-0.185695</td>\n",
       "      <td>-0.185695</td>\n",
       "      <td>-0.185695</td>\n",
       "      <td>-0.185695</td>\n",
       "      <td>-0.185695</td>\n",
       "    </tr>\n",
       "    <tr>\n",
       "      <th>446</th>\n",
       "      <td>0.220808</td>\n",
       "      <td>-0.434857</td>\n",
       "      <td>-0.360801</td>\n",
       "      <td>0.451097</td>\n",
       "      <td>-0.152191</td>\n",
       "      <td>-0.378500</td>\n",
       "      <td>-0.267261</td>\n",
       "      <td>-0.267261</td>\n",
       "      <td>-0.267261</td>\n",
       "      <td>-0.267261</td>\n",
       "      <td>...</td>\n",
       "      <td>-0.185695</td>\n",
       "      <td>-0.185695</td>\n",
       "      <td>-0.185695</td>\n",
       "      <td>-0.185695</td>\n",
       "      <td>-0.185695</td>\n",
       "      <td>-0.185695</td>\n",
       "      <td>5.385165</td>\n",
       "      <td>-0.185695</td>\n",
       "      <td>-0.185695</td>\n",
       "      <td>-0.185695</td>\n",
       "    </tr>\n",
       "    <tr>\n",
       "      <th>447</th>\n",
       "      <td>-0.725512</td>\n",
       "      <td>-0.490229</td>\n",
       "      <td>-0.606448</td>\n",
       "      <td>0.903793</td>\n",
       "      <td>-0.608140</td>\n",
       "      <td>-0.601921</td>\n",
       "      <td>-0.267261</td>\n",
       "      <td>-0.267261</td>\n",
       "      <td>-0.267261</td>\n",
       "      <td>-0.267261</td>\n",
       "      <td>...</td>\n",
       "      <td>-0.185695</td>\n",
       "      <td>-0.185695</td>\n",
       "      <td>-0.185695</td>\n",
       "      <td>-0.185695</td>\n",
       "      <td>-0.185695</td>\n",
       "      <td>5.385165</td>\n",
       "      <td>-0.185695</td>\n",
       "      <td>-0.185695</td>\n",
       "      <td>-0.185695</td>\n",
       "      <td>-0.185695</td>\n",
       "    </tr>\n",
       "    <tr>\n",
       "      <th>448</th>\n",
       "      <td>-0.488932</td>\n",
       "      <td>-0.473617</td>\n",
       "      <td>-0.556923</td>\n",
       "      <td>0.388474</td>\n",
       "      <td>-0.530379</td>\n",
       "      <td>-0.555499</td>\n",
       "      <td>-0.267261</td>\n",
       "      <td>-0.267261</td>\n",
       "      <td>-0.267261</td>\n",
       "      <td>-0.267261</td>\n",
       "      <td>...</td>\n",
       "      <td>-0.185695</td>\n",
       "      <td>-0.185695</td>\n",
       "      <td>-0.185695</td>\n",
       "      <td>-0.185695</td>\n",
       "      <td>-0.185695</td>\n",
       "      <td>-0.185695</td>\n",
       "      <td>-0.185695</td>\n",
       "      <td>-0.185695</td>\n",
       "      <td>-0.185695</td>\n",
       "      <td>-0.185695</td>\n",
       "    </tr>\n",
       "    <tr>\n",
       "      <th>449</th>\n",
       "      <td>-0.962092</td>\n",
       "      <td>-0.407171</td>\n",
       "      <td>-0.608429</td>\n",
       "      <td>0.042235</td>\n",
       "      <td>-0.637345</td>\n",
       "      <td>-0.601239</td>\n",
       "      <td>-0.267261</td>\n",
       "      <td>-0.267261</td>\n",
       "      <td>-0.267261</td>\n",
       "      <td>-0.267261</td>\n",
       "      <td>...</td>\n",
       "      <td>-0.185695</td>\n",
       "      <td>-0.185695</td>\n",
       "      <td>-0.185695</td>\n",
       "      <td>-0.185695</td>\n",
       "      <td>-0.185695</td>\n",
       "      <td>-0.185695</td>\n",
       "      <td>-0.185695</td>\n",
       "      <td>-0.185695</td>\n",
       "      <td>-0.185695</td>\n",
       "      <td>-0.185695</td>\n",
       "    </tr>\n",
       "  </tbody>\n",
       "</table>\n",
       "<p>450 rows × 101 columns</p>\n",
       "</div>"
      ],
      "text/plain": [
       "       Volume  Avg Price  Total Sales Value  Discount Rate (%)  \\\n",
       "0    2.350029   0.091173           2.925721          -0.830289   \n",
       "1    1.167129  -0.019570           1.330995          -0.852661   \n",
       "2    0.457388   0.312659           1.562775          -1.351631   \n",
       "3    0.220808   0.534146           1.719276          -1.949723   \n",
       "4   -0.488932  -0.130313          -0.188452           0.673739   \n",
       "..        ...        ...                ...                ...   \n",
       "445 -0.725512  -0.506840          -0.618334           0.076009   \n",
       "446  0.220808  -0.434857          -0.360801           0.451097   \n",
       "447 -0.725512  -0.490229          -0.606448           0.903793   \n",
       "448 -0.488932  -0.473617          -0.556923           0.388474   \n",
       "449 -0.962092  -0.407171          -0.608429           0.042235   \n",
       "\n",
       "     Discount Amount  Net Sales Value  Date_01-04-2021  Date_02-04-2021  \\\n",
       "0           3.952816         2.804756         3.741657        -0.267261   \n",
       "1           1.849014         1.271026         3.741657        -0.267261   \n",
       "2           1.622995         1.545675         3.741657        -0.267261   \n",
       "3           1.113807         1.765810         3.741657        -0.267261   \n",
       "4           0.227852        -0.227595         3.741657        -0.267261   \n",
       "..               ...              ...              ...              ...   \n",
       "445        -0.653541        -0.610461        -0.267261        -0.267261   \n",
       "446        -0.152191        -0.378500        -0.267261        -0.267261   \n",
       "447        -0.608140        -0.601921        -0.267261        -0.267261   \n",
       "448        -0.530379        -0.555499        -0.267261        -0.267261   \n",
       "449        -0.637345        -0.601239        -0.267261        -0.267261   \n",
       "\n",
       "     Date_03-04-2021  Date_04-04-2021  ...  Model_Vedic Cream  \\\n",
       "0          -0.267261        -0.267261  ...          -0.185695   \n",
       "1          -0.267261        -0.267261  ...          -0.185695   \n",
       "2          -0.267261        -0.267261  ...          -0.185695   \n",
       "3          -0.267261        -0.267261  ...          -0.185695   \n",
       "4          -0.267261        -0.267261  ...          -0.185695   \n",
       "..               ...              ...  ...                ...   \n",
       "445        -0.267261        -0.267261  ...          -0.185695   \n",
       "446        -0.267261        -0.267261  ...          -0.185695   \n",
       "447        -0.267261        -0.267261  ...          -0.185695   \n",
       "448        -0.267261        -0.267261  ...          -0.185695   \n",
       "449        -0.267261        -0.267261  ...          -0.185695   \n",
       "\n",
       "     Model_Vedic Oil  Model_Vedic Shampoo  Model_W-Casuals  Model_W-Inners  \\\n",
       "0          -0.185695            -0.185695        -0.185695       -0.185695   \n",
       "1          -0.185695            -0.185695        -0.185695       -0.185695   \n",
       "2          -0.185695            -0.185695        -0.185695       -0.185695   \n",
       "3          -0.185695            -0.185695        -0.185695       -0.185695   \n",
       "4          -0.185695            -0.185695        -0.185695       -0.185695   \n",
       "..               ...                  ...              ...             ...   \n",
       "445        -0.185695            -0.185695        -0.185695       -0.185695   \n",
       "446        -0.185695            -0.185695        -0.185695       -0.185695   \n",
       "447        -0.185695            -0.185695        -0.185695       -0.185695   \n",
       "448        -0.185695            -0.185695        -0.185695       -0.185695   \n",
       "449        -0.185695            -0.185695        -0.185695       -0.185695   \n",
       "\n",
       "     Model_W-Lounge  Model_W-Western  Model_YM-98   Model_YM-99  \\\n",
       "0         -0.185695        -0.185695     -0.185695    -0.185695   \n",
       "1         -0.185695        -0.185695     -0.185695    -0.185695   \n",
       "2         -0.185695        -0.185695     -0.185695     5.385165   \n",
       "3         -0.185695        -0.185695     -0.185695    -0.185695   \n",
       "4         -0.185695        -0.185695      5.385165    -0.185695   \n",
       "..              ...              ...           ...          ...   \n",
       "445       -0.185695        -0.185695     -0.185695    -0.185695   \n",
       "446       -0.185695         5.385165     -0.185695    -0.185695   \n",
       "447        5.385165        -0.185695     -0.185695    -0.185695   \n",
       "448       -0.185695        -0.185695     -0.185695    -0.185695   \n",
       "449       -0.185695        -0.185695     -0.185695    -0.185695   \n",
       "\n",
       "     Model_YM-99 Plus  \n",
       "0           -0.185695  \n",
       "1           -0.185695  \n",
       "2           -0.185695  \n",
       "3            5.385165  \n",
       "4           -0.185695  \n",
       "..                ...  \n",
       "445         -0.185695  \n",
       "446         -0.185695  \n",
       "447         -0.185695  \n",
       "448         -0.185695  \n",
       "449         -0.185695  \n",
       "\n",
       "[450 rows x 101 columns]"
      ]
     },
     "execution_count": 55,
     "metadata": {},
     "output_type": "execute_result"
    }
   ],
   "source": [
    "scaled_data = pd.DataFrame(sc.fit_transform(dummies_df),columns=dummies_df.columns)\n",
    "scaled_data"
   ]
  },
  {
   "cell_type": "code",
   "execution_count": null,
   "id": "1a5ccdff-7052-4661-8acd-771cf3f699de",
   "metadata": {},
   "outputs": [],
   "source": []
  },
  {
   "cell_type": "code",
   "execution_count": 56,
   "id": "e2745118-821c-4981-a621-8dc3c7a2f80e",
   "metadata": {},
   "outputs": [
    {
     "data": {
      "text/html": [
       "<div>\n",
       "<style scoped>\n",
       "    .dataframe tbody tr th:only-of-type {\n",
       "        vertical-align: middle;\n",
       "    }\n",
       "\n",
       "    .dataframe tbody tr th {\n",
       "        vertical-align: top;\n",
       "    }\n",
       "\n",
       "    .dataframe thead th {\n",
       "        text-align: right;\n",
       "    }\n",
       "</style>\n",
       "<table border=\"1\" class=\"dataframe\">\n",
       "  <thead>\n",
       "    <tr style=\"text-align: right;\">\n",
       "      <th></th>\n",
       "      <th>Date</th>\n",
       "      <th>Day</th>\n",
       "      <th>SKU</th>\n",
       "      <th>City</th>\n",
       "      <th>Volume</th>\n",
       "      <th>BU</th>\n",
       "      <th>Brand</th>\n",
       "      <th>Model</th>\n",
       "      <th>Avg Price</th>\n",
       "      <th>Total Sales Value</th>\n",
       "      <th>Discount Rate (%)</th>\n",
       "      <th>Discount Amount</th>\n",
       "      <th>Net Sales Value</th>\n",
       "    </tr>\n",
       "  </thead>\n",
       "  <tbody>\n",
       "    <tr>\n",
       "      <th>0</th>\n",
       "      <td>01-04-2021</td>\n",
       "      <td>Thursday</td>\n",
       "      <td>M01</td>\n",
       "      <td>C</td>\n",
       "      <td>15</td>\n",
       "      <td>Mobiles</td>\n",
       "      <td>RealU</td>\n",
       "      <td>RU-10</td>\n",
       "      <td>12100</td>\n",
       "      <td>181500</td>\n",
       "      <td>11.654820</td>\n",
       "      <td>21153.498820</td>\n",
       "      <td>160346.501180</td>\n",
       "    </tr>\n",
       "    <tr>\n",
       "      <th>1</th>\n",
       "      <td>01-04-2021</td>\n",
       "      <td>Thursday</td>\n",
       "      <td>M02</td>\n",
       "      <td>C</td>\n",
       "      <td>10</td>\n",
       "      <td>Mobiles</td>\n",
       "      <td>RealU</td>\n",
       "      <td>RU-9 Plus</td>\n",
       "      <td>10100</td>\n",
       "      <td>101000</td>\n",
       "      <td>11.560498</td>\n",
       "      <td>11676.102961</td>\n",
       "      <td>89323.897039</td>\n",
       "    </tr>\n",
       "    <tr>\n",
       "      <th>2</th>\n",
       "      <td>01-04-2021</td>\n",
       "      <td>Thursday</td>\n",
       "      <td>M03</td>\n",
       "      <td>C</td>\n",
       "      <td>7</td>\n",
       "      <td>Mobiles</td>\n",
       "      <td>YouM</td>\n",
       "      <td>YM-99</td>\n",
       "      <td>16100</td>\n",
       "      <td>112700</td>\n",
       "      <td>9.456886</td>\n",
       "      <td>10657.910157</td>\n",
       "      <td>102042.089843</td>\n",
       "    </tr>\n",
       "    <tr>\n",
       "      <th>3</th>\n",
       "      <td>01-04-2021</td>\n",
       "      <td>Thursday</td>\n",
       "      <td>M04</td>\n",
       "      <td>C</td>\n",
       "      <td>6</td>\n",
       "      <td>Mobiles</td>\n",
       "      <td>YouM</td>\n",
       "      <td>YM-99 Plus</td>\n",
       "      <td>20100</td>\n",
       "      <td>120600</td>\n",
       "      <td>6.935385</td>\n",
       "      <td>8364.074702</td>\n",
       "      <td>112235.925298</td>\n",
       "    </tr>\n",
       "    <tr>\n",
       "      <th>4</th>\n",
       "      <td>01-04-2021</td>\n",
       "      <td>Thursday</td>\n",
       "      <td>M05</td>\n",
       "      <td>C</td>\n",
       "      <td>3</td>\n",
       "      <td>Mobiles</td>\n",
       "      <td>YouM</td>\n",
       "      <td>YM-98</td>\n",
       "      <td>8100</td>\n",
       "      <td>24300</td>\n",
       "      <td>17.995663</td>\n",
       "      <td>4372.946230</td>\n",
       "      <td>19927.053770</td>\n",
       "    </tr>\n",
       "    <tr>\n",
       "      <th>...</th>\n",
       "      <td>...</td>\n",
       "      <td>...</td>\n",
       "      <td>...</td>\n",
       "      <td>...</td>\n",
       "      <td>...</td>\n",
       "      <td>...</td>\n",
       "      <td>...</td>\n",
       "      <td>...</td>\n",
       "      <td>...</td>\n",
       "      <td>...</td>\n",
       "      <td>...</td>\n",
       "      <td>...</td>\n",
       "      <td>...</td>\n",
       "    </tr>\n",
       "    <tr>\n",
       "      <th>445</th>\n",
       "      <td>15-04-2021</td>\n",
       "      <td>Thursday</td>\n",
       "      <td>L06</td>\n",
       "      <td>C</td>\n",
       "      <td>2</td>\n",
       "      <td>Lifestyle</td>\n",
       "      <td>Jeera</td>\n",
       "      <td>M-Casuals</td>\n",
       "      <td>1300</td>\n",
       "      <td>2600</td>\n",
       "      <td>15.475687</td>\n",
       "      <td>402.367873</td>\n",
       "      <td>2197.632127</td>\n",
       "    </tr>\n",
       "    <tr>\n",
       "      <th>446</th>\n",
       "      <td>15-04-2021</td>\n",
       "      <td>Thursday</td>\n",
       "      <td>L07</td>\n",
       "      <td>C</td>\n",
       "      <td>6</td>\n",
       "      <td>Lifestyle</td>\n",
       "      <td>Viva</td>\n",
       "      <td>W-Western</td>\n",
       "      <td>2600</td>\n",
       "      <td>15600</td>\n",
       "      <td>17.057027</td>\n",
       "      <td>2660.896242</td>\n",
       "      <td>12939.103758</td>\n",
       "    </tr>\n",
       "    <tr>\n",
       "      <th>447</th>\n",
       "      <td>15-04-2021</td>\n",
       "      <td>Thursday</td>\n",
       "      <td>L08</td>\n",
       "      <td>C</td>\n",
       "      <td>2</td>\n",
       "      <td>Lifestyle</td>\n",
       "      <td>Viva</td>\n",
       "      <td>W-Lounge</td>\n",
       "      <td>1600</td>\n",
       "      <td>3200</td>\n",
       "      <td>18.965550</td>\n",
       "      <td>606.897606</td>\n",
       "      <td>2593.102394</td>\n",
       "    </tr>\n",
       "    <tr>\n",
       "      <th>448</th>\n",
       "      <td>15-04-2021</td>\n",
       "      <td>Thursday</td>\n",
       "      <td>L09</td>\n",
       "      <td>C</td>\n",
       "      <td>3</td>\n",
       "      <td>Lifestyle</td>\n",
       "      <td>Jeera</td>\n",
       "      <td>M-Formals</td>\n",
       "      <td>1900</td>\n",
       "      <td>5700</td>\n",
       "      <td>16.793014</td>\n",
       "      <td>957.201826</td>\n",
       "      <td>4742.798174</td>\n",
       "    </tr>\n",
       "    <tr>\n",
       "      <th>449</th>\n",
       "      <td>15-04-2021</td>\n",
       "      <td>Thursday</td>\n",
       "      <td>L10</td>\n",
       "      <td>C</td>\n",
       "      <td>1</td>\n",
       "      <td>Lifestyle</td>\n",
       "      <td>Jeera</td>\n",
       "      <td>M-Shoes</td>\n",
       "      <td>3100</td>\n",
       "      <td>3100</td>\n",
       "      <td>15.333300</td>\n",
       "      <td>475.332295</td>\n",
       "      <td>2624.667705</td>\n",
       "    </tr>\n",
       "  </tbody>\n",
       "</table>\n",
       "<p>450 rows × 13 columns</p>\n",
       "</div>"
      ],
      "text/plain": [
       "           Date       Day  SKU City  Volume         BU  Brand       Model  \\\n",
       "0    01-04-2021  Thursday  M01    C      15    Mobiles  RealU       RU-10   \n",
       "1    01-04-2021  Thursday  M02    C      10    Mobiles  RealU   RU-9 Plus   \n",
       "2    01-04-2021  Thursday  M03    C       7    Mobiles   YouM       YM-99   \n",
       "3    01-04-2021  Thursday  M04    C       6    Mobiles   YouM  YM-99 Plus   \n",
       "4    01-04-2021  Thursday  M05    C       3    Mobiles   YouM      YM-98    \n",
       "..          ...       ...  ...  ...     ...        ...    ...         ...   \n",
       "445  15-04-2021  Thursday  L06    C       2  Lifestyle  Jeera   M-Casuals   \n",
       "446  15-04-2021  Thursday  L07    C       6  Lifestyle   Viva   W-Western   \n",
       "447  15-04-2021  Thursday  L08    C       2  Lifestyle   Viva    W-Lounge   \n",
       "448  15-04-2021  Thursday  L09    C       3  Lifestyle  Jeera   M-Formals   \n",
       "449  15-04-2021  Thursday  L10    C       1  Lifestyle  Jeera     M-Shoes   \n",
       "\n",
       "     Avg Price  Total Sales Value  Discount Rate (%)  Discount Amount  \\\n",
       "0        12100             181500          11.654820     21153.498820   \n",
       "1        10100             101000          11.560498     11676.102961   \n",
       "2        16100             112700           9.456886     10657.910157   \n",
       "3        20100             120600           6.935385      8364.074702   \n",
       "4         8100              24300          17.995663      4372.946230   \n",
       "..         ...                ...                ...              ...   \n",
       "445       1300               2600          15.475687       402.367873   \n",
       "446       2600              15600          17.057027      2660.896242   \n",
       "447       1600               3200          18.965550       606.897606   \n",
       "448       1900               5700          16.793014       957.201826   \n",
       "449       3100               3100          15.333300       475.332295   \n",
       "\n",
       "     Net Sales Value  \n",
       "0      160346.501180  \n",
       "1       89323.897039  \n",
       "2      102042.089843  \n",
       "3      112235.925298  \n",
       "4       19927.053770  \n",
       "..               ...  \n",
       "445      2197.632127  \n",
       "446     12939.103758  \n",
       "447      2593.102394  \n",
       "448      4742.798174  \n",
       "449      2624.667705  \n",
       "\n",
       "[450 rows x 13 columns]"
      ]
     },
     "execution_count": 56,
     "metadata": {},
     "output_type": "execute_result"
    }
   ],
   "source": [
    "# Data Before Distribution:\n",
    "df"
   ]
  },
  {
   "cell_type": "code",
   "execution_count": null,
   "id": "71f77141-925f-42b6-81e8-a753e73d2d95",
   "metadata": {},
   "outputs": [],
   "source": []
  },
  {
   "cell_type": "code",
   "execution_count": 57,
   "id": "d5a4b95d-cabe-48ef-ad0d-6645fa39e005",
   "metadata": {},
   "outputs": [
    {
     "data": {
      "text/html": [
       "<div>\n",
       "<style scoped>\n",
       "    .dataframe tbody tr th:only-of-type {\n",
       "        vertical-align: middle;\n",
       "    }\n",
       "\n",
       "    .dataframe tbody tr th {\n",
       "        vertical-align: top;\n",
       "    }\n",
       "\n",
       "    .dataframe thead th {\n",
       "        text-align: right;\n",
       "    }\n",
       "</style>\n",
       "<table border=\"1\" class=\"dataframe\">\n",
       "  <thead>\n",
       "    <tr style=\"text-align: right;\">\n",
       "      <th></th>\n",
       "      <th>Volume</th>\n",
       "      <th>Avg Price</th>\n",
       "      <th>Total Sales Value</th>\n",
       "      <th>Discount Rate (%)</th>\n",
       "      <th>Discount Amount</th>\n",
       "      <th>Net Sales Value</th>\n",
       "      <th>Date_01-04-2021</th>\n",
       "      <th>Date_02-04-2021</th>\n",
       "      <th>Date_03-04-2021</th>\n",
       "      <th>Date_04-04-2021</th>\n",
       "      <th>...</th>\n",
       "      <th>Model_Vedic Cream</th>\n",
       "      <th>Model_Vedic Oil</th>\n",
       "      <th>Model_Vedic Shampoo</th>\n",
       "      <th>Model_W-Casuals</th>\n",
       "      <th>Model_W-Inners</th>\n",
       "      <th>Model_W-Lounge</th>\n",
       "      <th>Model_W-Western</th>\n",
       "      <th>Model_YM-98</th>\n",
       "      <th>Model_YM-99</th>\n",
       "      <th>Model_YM-99 Plus</th>\n",
       "    </tr>\n",
       "  </thead>\n",
       "  <tbody>\n",
       "    <tr>\n",
       "      <th>count</th>\n",
       "      <td>4.500000e+02</td>\n",
       "      <td>4.500000e+02</td>\n",
       "      <td>4.500000e+02</td>\n",
       "      <td>4.500000e+02</td>\n",
       "      <td>4.500000e+02</td>\n",
       "      <td>4.500000e+02</td>\n",
       "      <td>4.500000e+02</td>\n",
       "      <td>4.500000e+02</td>\n",
       "      <td>4.500000e+02</td>\n",
       "      <td>4.500000e+02</td>\n",
       "      <td>...</td>\n",
       "      <td>4.500000e+02</td>\n",
       "      <td>4.500000e+02</td>\n",
       "      <td>4.500000e+02</td>\n",
       "      <td>4.500000e+02</td>\n",
       "      <td>4.500000e+02</td>\n",
       "      <td>4.500000e+02</td>\n",
       "      <td>4.500000e+02</td>\n",
       "      <td>4.500000e+02</td>\n",
       "      <td>4.500000e+02</td>\n",
       "      <td>4.500000e+02</td>\n",
       "    </tr>\n",
       "    <tr>\n",
       "      <th>mean</th>\n",
       "      <td>6.118562e-17</td>\n",
       "      <td>3.157968e-17</td>\n",
       "      <td>1.578984e-17</td>\n",
       "      <td>-3.552714e-17</td>\n",
       "      <td>-5.526444e-17</td>\n",
       "      <td>1.973730e-17</td>\n",
       "      <td>1.578984e-16</td>\n",
       "      <td>1.263187e-16</td>\n",
       "      <td>6.315935e-17</td>\n",
       "      <td>1.578984e-17</td>\n",
       "      <td>...</td>\n",
       "      <td>-7.894919e-18</td>\n",
       "      <td>-4.934325e-18</td>\n",
       "      <td>-5.921189e-18</td>\n",
       "      <td>-6.908054e-18</td>\n",
       "      <td>-6.908054e-18</td>\n",
       "      <td>-7.894919e-18</td>\n",
       "      <td>-7.894919e-18</td>\n",
       "      <td>-4.934325e-18</td>\n",
       "      <td>-7.894919e-18</td>\n",
       "      <td>-7.894919e-18</td>\n",
       "    </tr>\n",
       "    <tr>\n",
       "      <th>std</th>\n",
       "      <td>1.001113e+00</td>\n",
       "      <td>1.001113e+00</td>\n",
       "      <td>1.001113e+00</td>\n",
       "      <td>1.001113e+00</td>\n",
       "      <td>1.001113e+00</td>\n",
       "      <td>1.001113e+00</td>\n",
       "      <td>1.001113e+00</td>\n",
       "      <td>1.001113e+00</td>\n",
       "      <td>1.001113e+00</td>\n",
       "      <td>1.001113e+00</td>\n",
       "      <td>...</td>\n",
       "      <td>1.001113e+00</td>\n",
       "      <td>1.001113e+00</td>\n",
       "      <td>1.001113e+00</td>\n",
       "      <td>1.001113e+00</td>\n",
       "      <td>1.001113e+00</td>\n",
       "      <td>1.001113e+00</td>\n",
       "      <td>1.001113e+00</td>\n",
       "      <td>1.001113e+00</td>\n",
       "      <td>1.001113e+00</td>\n",
       "      <td>1.001113e+00</td>\n",
       "    </tr>\n",
       "    <tr>\n",
       "      <th>min</th>\n",
       "      <td>-9.620925e-01</td>\n",
       "      <td>-5.627654e-01</td>\n",
       "      <td>-6.619170e-01</td>\n",
       "      <td>-2.406935e+00</td>\n",
       "      <td>-7.275032e-01</td>\n",
       "      <td>-6.508581e-01</td>\n",
       "      <td>-2.672612e-01</td>\n",
       "      <td>-2.672612e-01</td>\n",
       "      <td>-2.672612e-01</td>\n",
       "      <td>-2.672612e-01</td>\n",
       "      <td>...</td>\n",
       "      <td>-1.856953e-01</td>\n",
       "      <td>-1.856953e-01</td>\n",
       "      <td>-1.856953e-01</td>\n",
       "      <td>-1.856953e-01</td>\n",
       "      <td>-1.856953e-01</td>\n",
       "      <td>-1.856953e-01</td>\n",
       "      <td>-1.856953e-01</td>\n",
       "      <td>-1.856953e-01</td>\n",
       "      <td>-1.856953e-01</td>\n",
       "      <td>-1.856953e-01</td>\n",
       "    </tr>\n",
       "    <tr>\n",
       "      <th>25%</th>\n",
       "      <td>-4.889322e-01</td>\n",
       "      <td>-5.530754e-01</td>\n",
       "      <td>-6.163534e-01</td>\n",
       "      <td>-2.823066e-01</td>\n",
       "      <td>-6.406462e-01</td>\n",
       "      <td>-6.103625e-01</td>\n",
       "      <td>-2.672612e-01</td>\n",
       "      <td>-2.672612e-01</td>\n",
       "      <td>-2.672612e-01</td>\n",
       "      <td>-2.672612e-01</td>\n",
       "      <td>...</td>\n",
       "      <td>-1.856953e-01</td>\n",
       "      <td>-1.856953e-01</td>\n",
       "      <td>-1.856953e-01</td>\n",
       "      <td>-1.856953e-01</td>\n",
       "      <td>-1.856953e-01</td>\n",
       "      <td>-1.856953e-01</td>\n",
       "      <td>-1.856953e-01</td>\n",
       "      <td>-1.856953e-01</td>\n",
       "      <td>-1.856953e-01</td>\n",
       "      <td>-1.856953e-01</td>\n",
       "    </tr>\n",
       "    <tr>\n",
       "      <th>50%</th>\n",
       "      <td>-2.523521e-01</td>\n",
       "      <td>-4.985344e-01</td>\n",
       "      <td>-5.569226e-01</td>\n",
       "      <td>3.374180e-01</td>\n",
       "      <td>-5.233349e-01</td>\n",
       "      <td>-5.569025e-01</td>\n",
       "      <td>-2.672612e-01</td>\n",
       "      <td>-2.672612e-01</td>\n",
       "      <td>-2.672612e-01</td>\n",
       "      <td>-2.672612e-01</td>\n",
       "      <td>...</td>\n",
       "      <td>-1.856953e-01</td>\n",
       "      <td>-1.856953e-01</td>\n",
       "      <td>-1.856953e-01</td>\n",
       "      <td>-1.856953e-01</td>\n",
       "      <td>-1.856953e-01</td>\n",
       "      <td>-1.856953e-01</td>\n",
       "      <td>-1.856953e-01</td>\n",
       "      <td>-1.856953e-01</td>\n",
       "      <td>-1.856953e-01</td>\n",
       "      <td>-1.856953e-01</td>\n",
       "    </tr>\n",
       "    <tr>\n",
       "      <th>75%</th>\n",
       "      <td>2.208081e-01</td>\n",
       "      <td>-1.957016e-02</td>\n",
       "      <td>3.840648e-01</td>\n",
       "      <td>7.019781e-01</td>\n",
       "      <td>4.373018e-01</td>\n",
       "      <td>3.753543e-01</td>\n",
       "      <td>-2.672612e-01</td>\n",
       "      <td>-2.672612e-01</td>\n",
       "      <td>-2.672612e-01</td>\n",
       "      <td>-2.672612e-01</td>\n",
       "      <td>...</td>\n",
       "      <td>-1.856953e-01</td>\n",
       "      <td>-1.856953e-01</td>\n",
       "      <td>-1.856953e-01</td>\n",
       "      <td>-1.856953e-01</td>\n",
       "      <td>-1.856953e-01</td>\n",
       "      <td>-1.856953e-01</td>\n",
       "      <td>-1.856953e-01</td>\n",
       "      <td>-1.856953e-01</td>\n",
       "      <td>-1.856953e-01</td>\n",
       "      <td>-1.856953e-01</td>\n",
       "    </tr>\n",
       "    <tr>\n",
       "      <th>max</th>\n",
       "      <td>6.135311e+00</td>\n",
       "      <td>2.749009e+00</td>\n",
       "      <td>3.220894e+00</td>\n",
       "      <td>1.147360e+00</td>\n",
       "      <td>4.970494e+00</td>\n",
       "      <td>3.218536e+00</td>\n",
       "      <td>3.741657e+00</td>\n",
       "      <td>3.741657e+00</td>\n",
       "      <td>3.741657e+00</td>\n",
       "      <td>3.741657e+00</td>\n",
       "      <td>...</td>\n",
       "      <td>5.385165e+00</td>\n",
       "      <td>5.385165e+00</td>\n",
       "      <td>5.385165e+00</td>\n",
       "      <td>5.385165e+00</td>\n",
       "      <td>5.385165e+00</td>\n",
       "      <td>5.385165e+00</td>\n",
       "      <td>5.385165e+00</td>\n",
       "      <td>5.385165e+00</td>\n",
       "      <td>5.385165e+00</td>\n",
       "      <td>5.385165e+00</td>\n",
       "    </tr>\n",
       "  </tbody>\n",
       "</table>\n",
       "<p>8 rows × 101 columns</p>\n",
       "</div>"
      ],
      "text/plain": [
       "             Volume     Avg Price  Total Sales Value  Discount Rate (%)  \\\n",
       "count  4.500000e+02  4.500000e+02       4.500000e+02       4.500000e+02   \n",
       "mean   6.118562e-17  3.157968e-17       1.578984e-17      -3.552714e-17   \n",
       "std    1.001113e+00  1.001113e+00       1.001113e+00       1.001113e+00   \n",
       "min   -9.620925e-01 -5.627654e-01      -6.619170e-01      -2.406935e+00   \n",
       "25%   -4.889322e-01 -5.530754e-01      -6.163534e-01      -2.823066e-01   \n",
       "50%   -2.523521e-01 -4.985344e-01      -5.569226e-01       3.374180e-01   \n",
       "75%    2.208081e-01 -1.957016e-02       3.840648e-01       7.019781e-01   \n",
       "max    6.135311e+00  2.749009e+00       3.220894e+00       1.147360e+00   \n",
       "\n",
       "       Discount Amount  Net Sales Value  Date_01-04-2021  Date_02-04-2021  \\\n",
       "count     4.500000e+02     4.500000e+02     4.500000e+02     4.500000e+02   \n",
       "mean     -5.526444e-17     1.973730e-17     1.578984e-16     1.263187e-16   \n",
       "std       1.001113e+00     1.001113e+00     1.001113e+00     1.001113e+00   \n",
       "min      -7.275032e-01    -6.508581e-01    -2.672612e-01    -2.672612e-01   \n",
       "25%      -6.406462e-01    -6.103625e-01    -2.672612e-01    -2.672612e-01   \n",
       "50%      -5.233349e-01    -5.569025e-01    -2.672612e-01    -2.672612e-01   \n",
       "75%       4.373018e-01     3.753543e-01    -2.672612e-01    -2.672612e-01   \n",
       "max       4.970494e+00     3.218536e+00     3.741657e+00     3.741657e+00   \n",
       "\n",
       "       Date_03-04-2021  Date_04-04-2021  ...  Model_Vedic Cream  \\\n",
       "count     4.500000e+02     4.500000e+02  ...       4.500000e+02   \n",
       "mean      6.315935e-17     1.578984e-17  ...      -7.894919e-18   \n",
       "std       1.001113e+00     1.001113e+00  ...       1.001113e+00   \n",
       "min      -2.672612e-01    -2.672612e-01  ...      -1.856953e-01   \n",
       "25%      -2.672612e-01    -2.672612e-01  ...      -1.856953e-01   \n",
       "50%      -2.672612e-01    -2.672612e-01  ...      -1.856953e-01   \n",
       "75%      -2.672612e-01    -2.672612e-01  ...      -1.856953e-01   \n",
       "max       3.741657e+00     3.741657e+00  ...       5.385165e+00   \n",
       "\n",
       "       Model_Vedic Oil  Model_Vedic Shampoo  Model_W-Casuals  Model_W-Inners  \\\n",
       "count     4.500000e+02         4.500000e+02     4.500000e+02    4.500000e+02   \n",
       "mean     -4.934325e-18        -5.921189e-18    -6.908054e-18   -6.908054e-18   \n",
       "std       1.001113e+00         1.001113e+00     1.001113e+00    1.001113e+00   \n",
       "min      -1.856953e-01        -1.856953e-01    -1.856953e-01   -1.856953e-01   \n",
       "25%      -1.856953e-01        -1.856953e-01    -1.856953e-01   -1.856953e-01   \n",
       "50%      -1.856953e-01        -1.856953e-01    -1.856953e-01   -1.856953e-01   \n",
       "75%      -1.856953e-01        -1.856953e-01    -1.856953e-01   -1.856953e-01   \n",
       "max       5.385165e+00         5.385165e+00     5.385165e+00    5.385165e+00   \n",
       "\n",
       "       Model_W-Lounge  Model_W-Western  Model_YM-98    Model_YM-99  \\\n",
       "count    4.500000e+02     4.500000e+02  4.500000e+02  4.500000e+02   \n",
       "mean    -7.894919e-18    -7.894919e-18 -4.934325e-18 -7.894919e-18   \n",
       "std      1.001113e+00     1.001113e+00  1.001113e+00  1.001113e+00   \n",
       "min     -1.856953e-01    -1.856953e-01 -1.856953e-01 -1.856953e-01   \n",
       "25%     -1.856953e-01    -1.856953e-01 -1.856953e-01 -1.856953e-01   \n",
       "50%     -1.856953e-01    -1.856953e-01 -1.856953e-01 -1.856953e-01   \n",
       "75%     -1.856953e-01    -1.856953e-01 -1.856953e-01 -1.856953e-01   \n",
       "max      5.385165e+00     5.385165e+00  5.385165e+00  5.385165e+00   \n",
       "\n",
       "       Model_YM-99 Plus  \n",
       "count      4.500000e+02  \n",
       "mean      -7.894919e-18  \n",
       "std        1.001113e+00  \n",
       "min       -1.856953e-01  \n",
       "25%       -1.856953e-01  \n",
       "50%       -1.856953e-01  \n",
       "75%       -1.856953e-01  \n",
       "max        5.385165e+00  \n",
       "\n",
       "[8 rows x 101 columns]"
      ]
     },
     "execution_count": 57,
     "metadata": {},
     "output_type": "execute_result"
    }
   ],
   "source": [
    "# Data After Distribution:\n",
    "scaled_data.describe()"
   ]
  },
  {
   "cell_type": "code",
   "execution_count": null,
   "id": "975e4651-92c1-4271-bff3-e2035ee696e6",
   "metadata": {},
   "outputs": [],
   "source": []
  }
 ],
 "metadata": {
  "kernelspec": {
   "display_name": "Python [conda env:base] *",
   "language": "python",
   "name": "conda-base-py"
  },
  "language_info": {
   "codemirror_mode": {
    "name": "ipython",
    "version": 3
   },
   "file_extension": ".py",
   "mimetype": "text/x-python",
   "name": "python",
   "nbconvert_exporter": "python",
   "pygments_lexer": "ipython3",
   "version": "3.13.5"
  }
 },
 "nbformat": 4,
 "nbformat_minor": 5
}
