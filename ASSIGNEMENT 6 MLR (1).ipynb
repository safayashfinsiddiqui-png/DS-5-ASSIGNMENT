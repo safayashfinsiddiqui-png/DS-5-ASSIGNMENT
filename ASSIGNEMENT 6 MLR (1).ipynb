{
 "cells": [
  {
   "cell_type": "code",
   "execution_count": 52,
   "id": "b9da1e44-82dd-4837-9882-dffba07071fb",
   "metadata": {},
   "outputs": [],
   "source": [
    "import pandas as pd\n",
    "import numpy as np\n",
    "import matplotlib.pyplot as plt\n",
    "import seaborn as sns\n",
    "from sklearn.linear_model import LinearRegression\n",
    "from sklearn.model_selection import train_test_split\n",
    "from sklearn.preprocessing import LabelEncoder, StandardScaler\n",
    "from sklearn.metrics import r2_score, mean_squared_error\n"
   ]
  },
  {
   "cell_type": "code",
   "execution_count": 53,
   "id": "37b2355d-4951-4d8b-83f7-ea8e7f4a2963",
   "metadata": {},
   "outputs": [],
   "source": [
    "df = pd.read_csv(\"ToyotaCorolla_test.csv\")\n"
   ]
  },
  {
   "cell_type": "code",
   "execution_count": 54,
   "id": "739d800c-7c79-42ac-98bc-cd40aa926010",
   "metadata": {},
   "outputs": [
    {
     "data": {
      "text/html": [
       "<div>\n",
       "<style scoped>\n",
       "    .dataframe tbody tr th:only-of-type {\n",
       "        vertical-align: middle;\n",
       "    }\n",
       "\n",
       "    .dataframe tbody tr th {\n",
       "        vertical-align: top;\n",
       "    }\n",
       "\n",
       "    .dataframe thead th {\n",
       "        text-align: right;\n",
       "    }\n",
       "</style>\n",
       "<table border=\"1\" class=\"dataframe\">\n",
       "  <thead>\n",
       "    <tr style=\"text-align: right;\">\n",
       "      <th></th>\n",
       "      <th>Price</th>\n",
       "      <th>FuelType</th>\n",
       "      <th>HP</th>\n",
       "      <th>Automatic</th>\n",
       "      <th>CC</th>\n",
       "      <th>Doors</th>\n",
       "      <th>Quarterly_Tax</th>\n",
       "      <th>Age</th>\n",
       "      <th>Weight</th>\n",
       "      <th>KM</th>\n",
       "    </tr>\n",
       "  </thead>\n",
       "  <tbody>\n",
       "    <tr>\n",
       "      <th>0</th>\n",
       "      <td>5563</td>\n",
       "      <td>Petrol</td>\n",
       "      <td>110</td>\n",
       "      <td>0</td>\n",
       "      <td>1600</td>\n",
       "      <td>3</td>\n",
       "      <td>150</td>\n",
       "      <td>4</td>\n",
       "      <td>1065</td>\n",
       "      <td>50000</td>\n",
       "    </tr>\n",
       "    <tr>\n",
       "      <th>1</th>\n",
       "      <td>4500</td>\n",
       "      <td>Diesel</td>\n",
       "      <td>90</td>\n",
       "      <td>1</td>\n",
       "      <td>1400</td>\n",
       "      <td>5</td>\n",
       "      <td>120</td>\n",
       "      <td>5</td>\n",
       "      <td>980</td>\n",
       "      <td>70000</td>\n",
       "    </tr>\n",
       "    <tr>\n",
       "      <th>2</th>\n",
       "      <td>7200</td>\n",
       "      <td>Petrol</td>\n",
       "      <td>120</td>\n",
       "      <td>0</td>\n",
       "      <td>1800</td>\n",
       "      <td>3</td>\n",
       "      <td>180</td>\n",
       "      <td>2</td>\n",
       "      <td>1100</td>\n",
       "      <td>30000</td>\n",
       "    </tr>\n",
       "  </tbody>\n",
       "</table>\n",
       "</div>"
      ],
      "text/plain": [
       "   Price FuelType   HP  Automatic    CC  Doors  Quarterly_Tax  Age  Weight  \\\n",
       "0   5563   Petrol  110          0  1600      3            150    4    1065   \n",
       "1   4500   Diesel   90          1  1400      5            120    5     980   \n",
       "2   7200   Petrol  120          0  1800      3            180    2    1100   \n",
       "\n",
       "      KM  \n",
       "0  50000  \n",
       "1  70000  \n",
       "2  30000  "
      ]
     },
     "execution_count": 54,
     "metadata": {},
     "output_type": "execute_result"
    }
   ],
   "source": [
    "df"
   ]
  },
  {
   "cell_type": "code",
   "execution_count": 55,
   "id": "75b4dddd-f971-4013-9421-0a2a236958dd",
   "metadata": {},
   "outputs": [
    {
     "name": "stdout",
     "output_type": "stream",
     "text": [
      "   Price FuelType   HP  Automatic    CC  Doors  Quarterly_Tax  Age  Weight  \\\n",
      "0   5563   Petrol  110          0  1600      3            150    4    1065   \n",
      "1   4500   Diesel   90          1  1400      5            120    5     980   \n",
      "2   7200   Petrol  120          0  1800      3            180    2    1100   \n",
      "\n",
      "      KM  \n",
      "0  50000  \n",
      "1  70000  \n",
      "2  30000  \n",
      "<class 'pandas.core.frame.DataFrame'>\n",
      "RangeIndex: 3 entries, 0 to 2\n",
      "Data columns (total 10 columns):\n",
      " #   Column         Non-Null Count  Dtype \n",
      "---  ------         --------------  ----- \n",
      " 0   Price          3 non-null      int64 \n",
      " 1   FuelType       3 non-null      object\n",
      " 2   HP             3 non-null      int64 \n",
      " 3   Automatic      3 non-null      int64 \n",
      " 4   CC             3 non-null      int64 \n",
      " 5   Doors          3 non-null      int64 \n",
      " 6   Quarterly_Tax  3 non-null      int64 \n",
      " 7   Age            3 non-null      int64 \n",
      " 8   Weight         3 non-null      int64 \n",
      " 9   KM             3 non-null      int64 \n",
      "dtypes: int64(9), object(1)\n",
      "memory usage: 372.0+ bytes\n",
      "None\n",
      "             Price          HP  Automatic      CC     Doors  Quarterly_Tax  \\\n",
      "count     3.000000    3.000000   3.000000     3.0  3.000000            3.0   \n",
      "mean   5754.333333  106.666667   0.333333  1600.0  3.666667          150.0   \n",
      "std    1360.130999   15.275252   0.577350   200.0  1.154701           30.0   \n",
      "min    4500.000000   90.000000   0.000000  1400.0  3.000000          120.0   \n",
      "25%    5031.500000  100.000000   0.000000  1500.0  3.000000          135.0   \n",
      "50%    5563.000000  110.000000   0.000000  1600.0  3.000000          150.0   \n",
      "75%    6381.500000  115.000000   0.500000  1700.0  4.000000          165.0   \n",
      "max    7200.000000  120.000000   1.000000  1800.0  5.000000          180.0   \n",
      "\n",
      "            Age       Weight       KM  \n",
      "count  3.000000     3.000000      3.0  \n",
      "mean   3.666667  1048.333333  50000.0  \n",
      "std    1.527525    61.711695  20000.0  \n",
      "min    2.000000   980.000000  30000.0  \n",
      "25%    3.000000  1022.500000  40000.0  \n",
      "50%    4.000000  1065.000000  50000.0  \n",
      "75%    4.500000  1082.500000  60000.0  \n",
      "max    5.000000  1100.000000  70000.0  \n"
     ]
    }
   ],
   "source": [
    "print(df.head())\n",
    "print(df.info())\n",
    "print(df.describe())\n"
   ]
  },
  {
   "cell_type": "code",
   "execution_count": 56,
   "id": "3aa7424c-c18b-4a2f-be9c-23ed4c5fb857",
   "metadata": {},
   "outputs": [
    {
     "name": "stdout",
     "output_type": "stream",
     "text": [
      "Price            0\n",
      "FuelType         0\n",
      "HP               0\n",
      "Automatic        0\n",
      "CC               0\n",
      "Doors            0\n",
      "Quarterly_Tax    0\n",
      "Age              0\n",
      "Weight           0\n",
      "KM               0\n",
      "dtype: int64\n"
     ]
    }
   ],
   "source": [
    "print(df.isnull().sum())\n"
   ]
  },
  {
   "cell_type": "code",
   "execution_count": 57,
   "id": "382ad7ef-0925-4fa8-9888-072477263d53",
   "metadata": {},
   "outputs": [
    {
     "data": {
      "image/png": "[encoded data removed]",
      "text/plain": [
       "<Figure size 640x480 with 1 Axes>"
      ]
     },
     "metadata": {},
     "output_type": "display_data"
    }
   ],
   "source": [
    "sns.histplot(df['Price'], kde=True)\n",
    "plt.title(\"Price Distribution\")\n",
    "plt.show()\n"
   ]
  },
  {
   "cell_type": "code",
   "execution_count": 58,
   "id": "4cb5861a-0714-4d97-b4f1-ff7e59b11d0b",
   "metadata": {},
   "outputs": [
    {
     "data": {
      "image/png": "[encoded data removed]",
      "text/plain": [
       "<Figure size 800x600 with 2 Axes>"
      ]
     },
     "metadata": {},
     "output_type": "display_data"
    }
   ],
   "source": [
    "plt.figure(figsize=(8,6))\n",
    "sns.heatmap(df.corr(numeric_only=True), annot=True, cmap='coolwarm')\n",
    "plt.title(\"Correlation Matrix\")\n",
    "plt.show()\n"
   ]
  },
  {
   "cell_type": "code",
   "execution_count": 59,
   "id": "29b42310-59b5-43f6-8a8b-02f4bc828db7",
   "metadata": {},
   "outputs": [
    {
     "name": "stdout",
     "output_type": "stream",
     "text": [
      "Index(['Price', 'FuelType', 'HP', 'Automatic', 'CC', 'Doors', 'Quarterly_Tax',\n",
      "       'Age', 'Weight', 'KM'],\n",
      "      dtype='object')\n"
     ]
    }
   ],
   "source": [
    "print(df.columns)\n"
   ]
  },
  {
   "cell_type": "code",
   "execution_count": 60,
   "id": "a9e7d174-884d-4a54-b070-176e372dfcb8",
   "metadata": {},
   "outputs": [
    {
     "data": {
      "image/png": "[encoded data removed]",
      "text/plain": [
       "<Figure size 640x480 with 1 Axes>"
      ]
     },
     "metadata": {},
     "output_type": "display_data"
    }
   ],
   "source": [
    "sns.scatterplot(x='KM', y='Price', data=df)\n",
    "plt.title(\"Price vs Kilometers Driven\")\n",
    "plt.show()\n"
   ]
  },
  {
   "cell_type": "code",
   "execution_count": 61,
   "id": "83ed4198-c411-43f7-a815-2fac516e4522",
   "metadata": {},
   "outputs": [],
   "source": [
    "le = LabelEncoder()\n",
    "df['FuelType'] = le.fit_transform(df['FuelType'])  # e.g. Diesel=0, Petrol=1\n"
   ]
  },
  {
   "cell_type": "code",
   "execution_count": 62,
   "id": "bf4dbdff-88c1-46eb-b5d9-36cce82e43d9",
   "metadata": {},
   "outputs": [],
   "source": [
    "df = df.dropna()\n"
   ]
  },
  {
   "cell_type": "code",
   "execution_count": 63,
   "id": "09a9df68-de66-4fb1-ab8c-f81f046d5f2f",
   "metadata": {},
   "outputs": [],
   "source": [
    "scaler = StandardScaler()\n",
    "features_to_scale = ['KM', 'HP', 'CC', 'Quarterly_Tax', 'Age', 'Weight']\n",
    "df[features_to_scale] = scaler.fit_transform(df[features_to_scale])\n"
   ]
  },
  {
   "cell_type": "code",
   "execution_count": 64,
   "id": "46de758d-61b6-4f46-a9a2-6220f4c7d38b",
   "metadata": {},
   "outputs": [],
   "source": [
    "X = df.drop(columns=['Price'])  # All except target\n",
    "y = df['Price']\n"
   ]
  },
  {
   "cell_type": "code",
   "execution_count": 65,
   "id": "9306631d-d15e-4e78-a047-fe38c7c7659a",
   "metadata": {},
   "outputs": [],
   "source": [
    "X_train, X_test, y_train, y_test = train_test_split(X, y, test_size=0.2, random_state=42)\n"
   ]
  },
  {
   "cell_type": "code",
   "execution_count": 66,
   "id": "99eaadf0-b61b-4cb3-94d4-7b1b5523d328",
   "metadata": {},
   "outputs": [
    {
     "data": {
      "text/html": [
       "<style>#sk-container-id-2 {\n",
       "  /* Definition of color scheme common for light and dark mode */\n",
       "  --sklearn-color-text: #000;\n",
       "  --sklearn-color-text-muted: #666;\n",
       "  --sklearn-color-line: gray;\n",
       "  /* Definition of color scheme for unfitted estimators */\n",
       "  --sklearn-color-unfitted-level-0: #fff5e6;\n",
       "  --sklearn-color-unfitted-level-1: #f6e4d2;\n",
       "  --sklearn-color-unfitted-level-2: #ffe0b3;\n",
       "  --sklearn-color-unfitted-level-3: chocolate;\n",
       "  /* Definition of color scheme for fitted estimators */\n",
       "  --sklearn-color-fitted-level-0: #f0f8ff;\n",
       "  --sklearn-color-fitted-level-1: #d4ebff;\n",
       "  --sklearn-color-fitted-level-2: #b3dbfd;\n",
       "  --sklearn-color-fitted-level-3: cornflowerblue;\n",
       "\n",
       "  /* Specific color for light theme */\n",
       "  --sklearn-color-text-on-default-background: var(--sg-text-color, var(--theme-code-foreground, var(--jp-content-font-color1, black)));\n",
       "  --sklearn-color-background: var(--sg-background-color, var(--theme-background, var(--jp-layout-color0, white)));\n",
       "  --sklearn-color-border-box: var(--sg-text-color, var(--theme-code-foreground, var(--jp-content-font-color1, black)));\n",
       "  --sklearn-color-icon: #696969;\n",
       "\n",
       "  @media (prefers-color-scheme: dark) {\n",
       "    /* Redefinition of color scheme for dark theme */\n",
       "    --sklearn-color-text-on-default-background: var(--sg-text-color, var(--theme-code-foreground, var(--jp-content-font-color1, white)));\n",
       "    --sklearn-color-background: var(--sg-background-color, var(--theme-background, var(--jp-layout-color0, #111)));\n",
       "    --sklearn-color-border-box: var(--sg-text-color, var(--theme-code-foreground, var(--jp-content-font-color1, white)));\n",
       "    --sklearn-color-icon: #878787;\n",
       "  }\n",
       "}\n",
       "\n",
       "#sk-container-id-2 {\n",
       "  color: var(--sklearn-color-text);\n",
       "}\n",
       "\n",
       "#sk-container-id-2 pre {\n",
       "  padding: 0;\n",
       "}\n",
       "\n",
       "#sk-container-id-2 input.sk-hidden--visually {\n",
       "  border: 0;\n",
       "  clip: rect(1px 1px 1px 1px);\n",
       "  clip: rect(1px, 1px, 1px, 1px);\n",
       "  height: 1px;\n",
       "  margin: -1px;\n",
       "  overflow: hidden;\n",
       "  padding: 0;\n",
       "  position: absolute;\n",
       "  width: 1px;\n",
       "}\n",
       "\n",
       "#sk-container-id-2 div.sk-dashed-wrapped {\n",
       "  border: 1px dashed var(--sklearn-color-line);\n",
       "  margin: 0 0.4em 0.5em 0.4em;\n",
       "  box-sizing: border-box;\n",
       "  padding-bottom: 0.4em;\n",
       "  background-color: var(--sklearn-color-background);\n",
       "}\n",
       "\n",
       "#sk-container-id-2 div.sk-container {\n",
       "  /* jupyter's `normalize.less` sets `[hidden] { display: none; }`\n",
       "     but bootstrap.min.css set `[hidden] { display: none !important; }`\n",
       "     so we also need the `!important` here to be able to override the\n",
       "     default hidden behavior on the sphinx rendered scikit-learn.org.\n",
       "     See: https://github.com/scikit-learn/scikit-learn/issues/21755 */\n",
       "  display: inline-block !important;\n",
       "  position: relative;\n",
       "}\n",
       "\n",
       "#sk-container-id-2 div.sk-text-repr-fallback {\n",
       "  display: none;\n",
       "}\n",
       "\n",
       "div.sk-parallel-item,\n",
       "div.sk-serial,\n",
       "div.sk-item {\n",
       "  /* draw centered vertical line to link estimators */\n",
       "  background-image: linear-gradient(var(--sklearn-color-text-on-default-background), var(--sklearn-color-text-on-default-background));\n",
       "  background-size: 2px 100%;\n",
       "  background-repeat: no-repeat;\n",
       "  background-position: center center;\n",
       "}\n",
       "\n",
       "/* Parallel-specific style estimator block */\n",
       "\n",
       "#sk-container-id-2 div.sk-parallel-item::after {\n",
       "  content: \"\";\n",
       "  width: 100%;\n",
       "  border-bottom: 2px solid var(--sklearn-color-text-on-default-background);\n",
       "  flex-grow: 1;\n",
       "}\n",
       "\n",
       "#sk-container-id-2 div.sk-parallel {\n",
       "  display: flex;\n",
       "  align-items: stretch;\n",
       "  justify-content: center;\n",
       "  background-color: var(--sklearn-color-background);\n",
       "  position: relative;\n",
       "}\n",
       "\n",
       "#sk-container-id-2 div.sk-parallel-item {\n",
       "  display: flex;\n",
       "  flex-direction: column;\n",
       "}\n",
       "\n",
       "#sk-container-id-2 div.sk-parallel-item:first-child::after {\n",
       "  align-self: flex-end;\n",
       "  width: 50%;\n",
       "}\n",
       "\n",
       "#sk-container-id-2 div.sk-parallel-item:last-child::after {\n",
       "  align-self: flex-start;\n",
       "  width: 50%;\n",
       "}\n",
       "\n",
       "#sk-container-id-2 div.sk-parallel-item:only-child::after {\n",
       "  width: 0;\n",
       "}\n",
       "\n",
       "/* Serial-specific style estimator block */\n",
       "\n",
       "#sk-container-id-2 div.sk-serial {\n",
       "  display: flex;\n",
       "  flex-direction: column;\n",
       "  align-items: center;\n",
       "  background-color: var(--sklearn-color-background);\n",
       "  padding-right: 1em;\n",
       "  padding-left: 1em;\n",
       "}\n",
       "\n",
       "\n",
       "/* Toggleable style: style used for estimator/Pipeline/ColumnTransformer box that is\n",
       "clickable and can be expanded/collapsed.\n",
       "- Pipeline and ColumnTransformer use this feature and define the default style\n",
       "- Estimators will overwrite some part of the style using the `sk-estimator` class\n",
       "*/\n",
       "\n",
       "/* Pipeline and ColumnTransformer style (default) */\n",
       "\n",
       "#sk-container-id-2 div.sk-toggleable {\n",
       "  /* Default theme specific background. It is overwritten whether we have a\n",
       "  specific estimator or a Pipeline/ColumnTransformer */\n",
       "  background-color: var(--sklearn-color-background);\n",
       "}\n",
       "\n",
       "/* Toggleable label */\n",
       "#sk-container-id-2 label.sk-toggleable__label {\n",
       "  cursor: pointer;\n",
       "  display: flex;\n",
       "  width: 100%;\n",
       "  margin-bottom: 0;\n",
       "  padding: 0.5em;\n",
       "  box-sizing: border-box;\n",
       "  text-align: center;\n",
       "  align-items: start;\n",
       "  justify-content: space-between;\n",
       "  gap: 0.5em;\n",
       "}\n",
       "\n",
       "#sk-container-id-2 label.sk-toggleable__label .caption {\n",
       "  font-size: 0.6rem;\n",
       "  font-weight: lighter;\n",
       "  color: var(--sklearn-color-text-muted);\n",
       "}\n",
       "\n",
       "#sk-container-id-2 label.sk-toggleable__label-arrow:before {\n",
       "  /* Arrow on the left of the label */\n",
       "  content: \"▸\";\n",
       "  float: left;\n",
       "  margin-right: 0.25em;\n",
       "  color: var(--sklearn-color-icon);\n",
       "}\n",
       "\n",
       "#sk-container-id-2 label.sk-toggleable__label-arrow:hover:before {\n",
       "  color: var(--sklearn-color-text);\n",
       "}\n",
       "\n",
       "/* Toggleable content - dropdown */\n",
       "\n",
       "#sk-container-id-2 div.sk-toggleable__content {\n",
       "  max-height: 0;\n",
       "  max-width: 0;\n",
       "  overflow: hidden;\n",
       "  text-align: left;\n",
       "  /* unfitted */\n",
       "  background-color: var(--sklearn-color-unfitted-level-0);\n",
       "}\n",
       "\n",
       "#sk-container-id-2 div.sk-toggleable__content.fitted {\n",
       "  /* fitted */\n",
       "  background-color: var(--sklearn-color-fitted-level-0);\n",
       "}\n",
       "\n",
       "#sk-container-id-2 div.sk-toggleable__content pre {\n",
       "  margin: 0.2em;\n",
       "  border-radius: 0.25em;\n",
       "  color: var(--sklearn-color-text);\n",
       "  /* unfitted */\n",
       "  background-color: var(--sklearn-color-unfitted-level-0);\n",
       "}\n",
       "\n",
       "#sk-container-id-2 div.sk-toggleable__content.fitted pre {\n",
       "  /* unfitted */\n",
       "  background-color: var(--sklearn-color-fitted-level-0);\n",
       "}\n",
       "\n",
       "#sk-container-id-2 input.sk-toggleable__control:checked~div.sk-toggleable__content {\n",
       "  /* Expand drop-down */\n",
       "  max-height: 200px;\n",
       "  max-width: 100%;\n",
       "  overflow: auto;\n",
       "}\n",
       "\n",
       "#sk-container-id-2 input.sk-toggleable__control:checked~label.sk-toggleable__label-arrow:before {\n",
       "  content: \"▾\";\n",
       "}\n",
       "\n",
       "/* Pipeline/ColumnTransformer-specific style */\n",
       "\n",
       "#sk-container-id-2 div.sk-label input.sk-toggleable__control:checked~label.sk-toggleable__label {\n",
       "  color: var(--sklearn-color-text);\n",
       "  background-color: var(--sklearn-color-unfitted-level-2);\n",
       "}\n",
       "\n",
       "#sk-container-id-2 div.sk-label.fitted input.sk-toggleable__control:checked~label.sk-toggleable__label {\n",
       "  background-color: var(--sklearn-color-fitted-level-2);\n",
       "}\n",
       "\n",
       "/* Estimator-specific style */\n",
       "\n",
       "/* Colorize estimator box */\n",
       "#sk-container-id-2 div.sk-estimator input.sk-toggleable__control:checked~label.sk-toggleable__label {\n",
       "  /* unfitted */\n",
       "  background-color: var(--sklearn-color-unfitted-level-2);\n",
       "}\n",
       "\n",
       "#sk-container-id-2 div.sk-estimator.fitted input.sk-toggleable__control:checked~label.sk-toggleable__label {\n",
       "  /* fitted */\n",
       "  background-color: var(--sklearn-color-fitted-level-2);\n",
       "}\n",
       "\n",
       "#sk-container-id-2 div.sk-label label.sk-toggleable__label,\n",
       "#sk-container-id-2 div.sk-label label {\n",
       "  /* The background is the default theme color */\n",
       "  color: var(--sklearn-color-text-on-default-background);\n",
       "}\n",
       "\n",
       "/* On hover, darken the color of the background */\n",
       "#sk-container-id-2 div.sk-label:hover label.sk-toggleable__label {\n",
       "  color: var(--sklearn-color-text);\n",
       "  background-color: var(--sklearn-color-unfitted-level-2);\n",
       "}\n",
       "\n",
       "/* Label box, darken color on hover, fitted */\n",
       "#sk-container-id-2 div.sk-label.fitted:hover label.sk-toggleable__label.fitted {\n",
       "  color: var(--sklearn-color-text);\n",
       "  background-color: var(--sklearn-color-fitted-level-2);\n",
       "}\n",
       "\n",
       "/* Estimator label */\n",
       "\n",
       "#sk-container-id-2 div.sk-label label {\n",
       "  font-family: monospace;\n",
       "  font-weight: bold;\n",
       "  display: inline-block;\n",
       "  line-height: 1.2em;\n",
       "}\n",
       "\n",
       "#sk-container-id-2 div.sk-label-container {\n",
       "  text-align: center;\n",
       "}\n",
       "\n",
       "/* Estimator-specific */\n",
       "#sk-container-id-2 div.sk-estimator {\n",
       "  font-family: monospace;\n",
       "  border: 1px dotted var(--sklearn-color-border-box);\n",
       "  border-radius: 0.25em;\n",
       "  box-sizing: border-box;\n",
       "  margin-bottom: 0.5em;\n",
       "  /* unfitted */\n",
       "  background-color: var(--sklearn-color-unfitted-level-0);\n",
       "}\n",
       "\n",
       "#sk-container-id-2 div.sk-estimator.fitted {\n",
       "  /* fitted */\n",
       "  background-color: var(--sklearn-color-fitted-level-0);\n",
       "}\n",
       "\n",
       "/* on hover */\n",
       "#sk-container-id-2 div.sk-estimator:hover {\n",
       "  /* unfitted */\n",
       "  background-color: var(--sklearn-color-unfitted-level-2);\n",
       "}\n",
       "\n",
       "#sk-container-id-2 div.sk-estimator.fitted:hover {\n",
       "  /* fitted */\n",
       "  background-color: var(--sklearn-color-fitted-level-2);\n",
       "}\n",
       "\n",
       "/* Specification for estimator info (e.g. \"i\" and \"?\") */\n",
       "\n",
       "/* Common style for \"i\" and \"?\" */\n",
       "\n",
       ".sk-estimator-doc-link,\n",
       "a:link.sk-estimator-doc-link,\n",
       "a:visited.sk-estimator-doc-link {\n",
       "  float: right;\n",
       "  font-size: smaller;\n",
       "  line-height: 1em;\n",
       "  font-family: monospace;\n",
       "  background-color: var(--sklearn-color-background);\n",
       "  border-radius: 1em;\n",
       "  height: 1em;\n",
       "  width: 1em;\n",
       "  text-decoration: none !important;\n",
       "  margin-left: 0.5em;\n",
       "  text-align: center;\n",
       "  /* unfitted */\n",
       "  border: var(--sklearn-color-unfitted-level-1) 1pt solid;\n",
       "  color: var(--sklearn-color-unfitted-level-1);\n",
       "}\n",
       "\n",
       ".sk-estimator-doc-link.fitted,\n",
       "a:link.sk-estimator-doc-link.fitted,\n",
       "a:visited.sk-estimator-doc-link.fitted {\n",
       "  /* fitted */\n",
       "  border: var(--sklearn-color-fitted-level-1) 1pt solid;\n",
       "  color: var(--sklearn-color-fitted-level-1);\n",
       "}\n",
       "\n",
       "/* On hover */\n",
       "div.sk-estimator:hover .sk-estimator-doc-link:hover,\n",
       ".sk-estimator-doc-link:hover,\n",
       "div.sk-label-container:hover .sk-estimator-doc-link:hover,\n",
       ".sk-estimator-doc-link:hover {\n",
       "  /* unfitted */\n",
       "  background-color: var(--sklearn-color-unfitted-level-3);\n",
       "  color: var(--sklearn-color-background);\n",
       "  text-decoration: none;\n",
       "}\n",
       "\n",
       "div.sk-estimator.fitted:hover .sk-estimator-doc-link.fitted:hover,\n",
       ".sk-estimator-doc-link.fitted:hover,\n",
       "div.sk-label-container:hover .sk-estimator-doc-link.fitted:hover,\n",
       ".sk-estimator-doc-link.fitted:hover {\n",
       "  /* fitted */\n",
       "  background-color: var(--sklearn-color-fitted-level-3);\n",
       "  color: var(--sklearn-color-background);\n",
       "  text-decoration: none;\n",
       "}\n",
       "\n",
       "/* Span, style for the box shown on hovering the info icon */\n",
       ".sk-estimator-doc-link span {\n",
       "  display: none;\n",
       "  z-index: 9999;\n",
       "  position: relative;\n",
       "  font-weight: normal;\n",
       "  right: .2ex;\n",
       "  padding: .5ex;\n",
       "  margin: .5ex;\n",
       "  width: min-content;\n",
       "  min-width: 20ex;\n",
       "  max-width: 50ex;\n",
       "  color: var(--sklearn-color-text);\n",
       "  box-shadow: 2pt 2pt 4pt #999;\n",
       "  /* unfitted */\n",
       "  background: var(--sklearn-color-unfitted-level-0);\n",
       "  border: .5pt solid var(--sklearn-color-unfitted-level-3);\n",
       "}\n",
       "\n",
       ".sk-estimator-doc-link.fitted span {\n",
       "  /* fitted */\n",
       "  background: var(--sklearn-color-fitted-level-0);\n",
       "  border: var(--sklearn-color-fitted-level-3);\n",
       "}\n",
       "\n",
       ".sk-estimator-doc-link:hover span {\n",
       "  display: block;\n",
       "}\n",
       "\n",
       "/* \"?\"-specific style due to the `<a>` HTML tag */\n",
       "\n",
       "#sk-container-id-2 a.estimator_doc_link {\n",
       "  float: right;\n",
       "  font-size: 1rem;\n",
       "  line-height: 1em;\n",
       "  font-family: monospace;\n",
       "  background-color: var(--sklearn-color-background);\n",
       "  border-radius: 1rem;\n",
       "  height: 1rem;\n",
       "  width: 1rem;\n",
       "  text-decoration: none;\n",
       "  /* unfitted */\n",
       "  color: var(--sklearn-color-unfitted-level-1);\n",
       "  border: var(--sklearn-color-unfitted-level-1) 1pt solid;\n",
       "}\n",
       "\n",
       "#sk-container-id-2 a.estimator_doc_link.fitted {\n",
       "  /* fitted */\n",
       "  border: var(--sklearn-color-fitted-level-1) 1pt solid;\n",
       "  color: var(--sklearn-color-fitted-level-1);\n",
       "}\n",
       "\n",
       "/* On hover */\n",
       "#sk-container-id-2 a.estimator_doc_link:hover {\n",
       "  /* unfitted */\n",
       "  background-color: var(--sklearn-color-unfitted-level-3);\n",
       "  color: var(--sklearn-color-background);\n",
       "  text-decoration: none;\n",
       "}\n",
       "\n",
       "#sk-container-id-2 a.estimator_doc_link.fitted:hover {\n",
       "  /* fitted */\n",
       "  background-color: var(--sklearn-color-fitted-level-3);\n",
       "}\n",
       "</style><div id=\"sk-container-id-2\" class=\"sk-top-container\"><div class=\"sk-text-repr-fallback\"><pre>LinearRegression()</pre><b>In a Jupyter environment, please rerun this cell to show the HTML representation or trust the notebook. <br />On GitHub, the HTML representation is unable to render, please try loading this page with nbviewer.org.</b></div><div class=\"sk-container\" hidden><div class=\"sk-item\"><div class=\"sk-estimator fitted sk-toggleable\"><input class=\"sk-toggleable__control sk-hidden--visually\" id=\"sk-estimator-id-2\" type=\"checkbox\" checked><label for=\"sk-estimator-id-2\" class=\"sk-toggleable__label fitted sk-toggleable__label-arrow\"><div><div>LinearRegression</div></div><div><a class=\"sk-estimator-doc-link fitted\" rel=\"noreferrer\" target=\"_blank\" href=\"https://scikit-learn.org/1.6/modules/generated/sklearn.linear_model.LinearRegression.html\">?<span>Documentation for LinearRegression</span></a><span class=\"sk-estimator-doc-link fitted\">i<span>Fitted</span></span></div></label><div class=\"sk-toggleable__content fitted\"><pre>LinearRegression()</pre></div> </div></div></div></div>"
      ],
      "text/plain": [
       "LinearRegression()"
      ]
     },
     "execution_count": 66,
     "metadata": {},
     "output_type": "execute_result"
    }
   ],
   "source": [
    "model = LinearRegression()\n",
    "model.fit(X_train, y_train)\n"
   ]
  },
  {
   "cell_type": "code",
   "execution_count": 67,
   "id": "f9739f7f-38c4-48c2-bd4f-7723d295a0d3",
   "metadata": {},
   "outputs": [
    {
     "name": "stdout",
     "output_type": "stream",
     "text": [
      "Total rows: 3\n"
     ]
    }
   ],
   "source": [
    "print(\"Total rows:\", len(df))\n"
   ]
  },
  {
   "cell_type": "code",
   "execution_count": 68,
   "id": "320beb63-e57b-4871-8fb9-4635b0c4feb6",
   "metadata": {},
   "outputs": [],
   "source": [
    "X_train, X_test, y_train, y_test = train_test_split(X, y, test_size=0.5, random_state=42)\n"
   ]
  },
  {
   "cell_type": "code",
   "execution_count": 69,
   "id": "bd57de66-4d22-4bc0-bff6-ed71ff21a40e",
   "metadata": {},
   "outputs": [],
   "source": [
    "model.fit(X, y)\n",
    "y_pred = model.predict(X)\n",
    "\n",
    "r2 = r2_score(y, y_pred)\n"
   ]
  },
  {
   "cell_type": "code",
   "execution_count": 70,
   "id": "6d386e0e-223d-4f21-b331-50df24360125",
   "metadata": {},
   "outputs": [
    {
     "name": "stdout",
     "output_type": "stream",
     "text": [
      "R² Score: 1.00\n",
      "Mean Squared Error: 0.00\n"
     ]
    }
   ],
   "source": [
    "y_pred = model.predict(X_test)\n",
    "\n",
    "r2 = r2_score(y_test, y_pred)\n",
    "mse = mean_squared_error(y_test, y_pred)\n",
    "\n",
    "print(f\"R² Score: {r2:.2f}\")\n",
    "print(f\"Mean Squared Error: {mse:.2f}\")\n"
   ]
  },
  {
   "cell_type": "code",
   "execution_count": 71,
   "id": "25a708c2-5940-4eb5-9f8d-04c8a28aa6a5",
   "metadata": {},
   "outputs": [],
   "source": [
    "X = df.drop('Price', axis=1)  # Features (everything except 'Price')\n",
    "y = df['Price']               # Target (what we want to predict)\n"
   ]
  },
  {
   "cell_type": "code",
   "execution_count": 72,
   "id": "5385319a-462d-419f-8e5c-5c3a3be0c36a",
   "metadata": {},
   "outputs": [],
   "source": [
    "X_train, X_test, y_train, y_test = train_test_split(\n",
    "    X, y, test_size=0.2, random_state=42\n",
    ")\n"
   ]
  },
  {
   "cell_type": "code",
   "execution_count": 73,
   "id": "359c18ed-9e36-45e4-94d0-de1e72d5d0c4",
   "metadata": {},
   "outputs": [
    {
     "name": "stdout",
     "output_type": "stream",
     "text": [
      "X_train shape: (2, 9)\n",
      "X_test shape: (1, 9)\n",
      "y_train shape: (2,)\n",
      "y_test shape: (1,)\n"
     ]
    }
   ],
   "source": [
    "# Step 4: Verify the split\n",
    "print(\"X_train shape:\", X_train.shape)\n",
    "print(\"X_test shape:\", X_test.shape)\n",
    "print(\"y_train shape:\", y_train.shape)\n",
    "print(\"y_test shape:\", y_test.shape)\n"
   ]
  },
  {
   "cell_type": "code",
   "execution_count": 74,
   "id": "534e6d6d-e03a-43f9-bb35-b8f004f94e5c",
   "metadata": {},
   "outputs": [
    {
     "name": "stdout",
     "output_type": "stream",
     "text": [
      "Model 1 Coefficients (All Features):\n",
      "FuelType: 65.47\n",
      "HP: 157.47\n",
      "Automatic: -65.47\n",
      "CC: 160.36\n",
      "Doors: -130.93\n",
      "Quarterly_Tax: 160.36\n",
      "Age: -157.47\n",
      "Weight: 155.91\n",
      "KM: -160.36\n"
     ]
    }
   ],
   "source": [
    "from sklearn.linear_model import LinearRegression\n",
    "\n",
    "# Base Model 1 – All features\n",
    "model1 = LinearRegression()\n",
    "model1.fit(X_train, y_train)\n",
    "\n",
    "# Print coefficients with feature names\n",
    "print(\"Model 1 Coefficients (All Features):\")\n",
    "for feature, coef in zip(X_train.columns, model1.coef_):\n",
    "    print(f\"{feature}: {coef:.2f}\")\n"
   ]
  },
  {
   "cell_type": "code",
   "execution_count": 75,
   "id": "484b9f1b-6052-495a-97c9-898f0c86ce50",
   "metadata": {},
   "outputs": [
    {
     "name": "stdout",
     "output_type": "stream",
     "text": [
      "\n",
      "Model 2 Coefficients (Numeric Features Only):\n",
      "HP: 165.49\n",
      "CC: 168.53\n",
      "Doors: -137.60\n",
      "Quarterly_Tax: 168.53\n",
      "Age: -165.49\n",
      "Weight: 163.85\n",
      "KM: -168.53\n"
     ]
    }
   ],
   "source": [
    "# Select only numeric features\n",
    "numeric_features = ['HP', 'CC', 'Doors', 'Quarterly_Tax', 'Age', 'Weight', 'KM']\n",
    "model2 = LinearRegression()\n",
    "model2.fit(X_train[numeric_features], y_train)\n",
    "\n",
    "print(\"\\nModel 2 Coefficients (Numeric Features Only):\")\n",
    "for feature, coef in zip(numeric_features, model2.coef_):\n",
    "    print(f\"{feature}: {coef:.2f}\")\n"
   ]
  },
  {
   "cell_type": "code",
   "execution_count": 76,
   "id": "78ce8b26-0a0f-415d-9084-9434862547fd",
   "metadata": {},
   "outputs": [
    {
     "name": "stdout",
     "output_type": "stream",
     "text": [
      "\n",
      "Model 3 Coefficients (With Encoded Categorical Features):\n",
      "FuelType: 65.47\n",
      "HP: 157.47\n",
      "Automatic: -65.47\n",
      "CC: 160.36\n",
      "Doors: -130.93\n",
      "Quarterly_Tax: 160.36\n",
      "Age: -157.47\n",
      "Weight: 155.91\n",
      "KM: -160.36\n"
     ]
    }
   ],
   "source": [
    "# One-hot encode categorical features\n",
    "X_encoded = pd.get_dummies(X, drop_first=True)\n",
    "\n",
    "# Split again after encoding\n",
    "X_train_enc, X_test_enc, y_train_enc, y_test_enc = train_test_split(\n",
    "    X_encoded, y, test_size=0.2, random_state=42\n",
    ")\n",
    "\n",
    "# Model 3 – With encoded categorical variables\n",
    "model3 = LinearRegression()\n",
    "model3.fit(X_train_enc, y_train_enc)\n",
    "\n",
    "print(\"\\nModel 3 Coefficients (With Encoded Categorical Features):\")\n",
    "for feature, coef in zip(X_train_enc.columns, model3.coef_):\n",
    "    print(f\"{feature}: {coef:.2f}\")\n"
   ]
  },
  {
   "cell_type": "code",
   "execution_count": 77,
   "id": "b6437a01-96b4-4193-83a6-c9508116bdab",
   "metadata": {},
   "outputs": [],
   "source": [
    "from sklearn.metrics import mean_absolute_error, mean_squared_error, r2_score\n",
    "import numpy as np\n",
    "\n",
    "def evaluate_model(model, X_test, y_test, model_name=\"Model\"):\n",
    "    y_pred = model.predict(X_test)\n",
    "    mae = mean_absolute_error(y_test, y_pred)\n",
    "    mse = mean_squared_error(y_test, y_pred)\n",
    "    rmse = np.sqrt(mse)\n",
    "    r2 = r2_score(y_test, y_pred)\n",
    "    \n",
    "    print(f\"\\n📊 Evaluation of {model_name}:\")\n",
    "    print(f\"MAE : {mae:.2f}\")\n",
    "    print(f\"MSE : {mse:.2f}\")\n",
    "    print(f\"RMSE: {rmse:.2f}\")\n",
    "    print(f\"R² Score: {r2:.4f}\")\n"
   ]
  },
  {
   "cell_type": "code",
   "execution_count": 78,
   "id": "a3bba415-5c62-414a-ae67-1c40a840917e",
   "metadata": {},
   "outputs": [
    {
     "name": "stdout",
     "output_type": "stream",
     "text": [
      "1\n",
      "1\n"
     ]
    }
   ],
   "source": [
    "print(len(X_test))\n",
    "print(len(y_test))\n"
   ]
  },
  {
   "cell_type": "code",
   "execution_count": 79,
   "id": "b38ccc2c-bfa7-4059-b5e6-f8c148bdc20f",
   "metadata": {},
   "outputs": [
    {
     "name": "stdout",
     "output_type": "stream",
     "text": [
      "Length of X_test: 1\n",
      "Length of y_test: 1\n"
     ]
    }
   ],
   "source": [
    "X_train, X_test, y_train, y_test = train_test_split(\n",
    "    X, y, test_size=0.3, random_state=42\n",
    ")\n",
    "\n",
    "print(\"Length of X_test:\", len(X_test))\n",
    "print(\"Length of y_test:\", len(y_test))\n"
   ]
  },
  {
   "cell_type": "code",
   "execution_count": 80,
   "id": "09506621-a952-40af-af4b-9441fc049a3b",
   "metadata": {},
   "outputs": [
    {
     "name": "stdout",
     "output_type": "stream",
     "text": [
      "Length of X_test: 1\n",
      "Length of y_test: 1\n"
     ]
    }
   ],
   "source": [
    "from sklearn.model_selection import train_test_split\n",
    "\n",
    "\n",
    "X = df.drop('Price', axis=1)\n",
    "y = df['Price']\n",
    "\n",
    "\n",
    "X_train, X_test, y_train, y_test = train_test_split(\n",
    "    X, y, test_size=0.3, random_state=42\n",
    ")\n",
    "\n",
    "print(\"Length of X_test:\", len(X_test))\n",
    "print(\"Length of y_test:\", len(y_test))\n"
   ]
  },
  {
   "cell_type": "code",
   "execution_count": 81,
   "id": "ef9290a9-718f-47e5-85fe-10154d1296bb",
   "metadata": {},
   "outputs": [
    {
     "name": "stdout",
     "output_type": "stream",
     "text": [
      "Total dataset size: 3\n",
      "Test set size: 1\n"
     ]
    }
   ],
   "source": [
    "print(\"Total dataset size:\", len(df))\n",
    "print(\"Test set size:\", len(X_test))\n"
   ]
  },
  {
   "cell_type": "code",
   "execution_count": 82,
   "id": "d7dad855-2eb0-431d-b281-4ace4b8fdaca",
   "metadata": {},
   "outputs": [],
   "source": [
    "X_train, X_test, y_train, y_test = train_test_split(\n",
    "    X, y, test_size=0.5, random_state=42\n",
    ")\n"
   ]
  },
  {
   "cell_type": "code",
   "execution_count": 83,
   "id": "d22d246d-dd14-4f31-9793-2e20dff515eb",
   "metadata": {},
   "outputs": [
    {
     "name": "stdout",
     "output_type": "stream",
     "text": [
      "[5563 4500 7200]\n"
     ]
    }
   ],
   "source": [
    "print(y.values)\n"
   ]
  },
  {
   "cell_type": "code",
   "execution_count": 84,
   "id": "5abfc6ba-1920-4fd4-a765-1a2a9f010768",
   "metadata": {},
   "outputs": [
    {
     "name": "stdout",
     "output_type": "stream",
     "text": [
      "LOOCV MAE scores: [ 560.75110848  583.27080831 1107.86275731]\n",
      "Average LOOCV MAE score: 750.628224700699\n"
     ]
    }
   ],
   "source": [
    "from sklearn.linear_model import LinearRegression\n",
    "from sklearn.model_selection import LeaveOneOut, cross_val_score\n",
    "import numpy as np\n",
    "\n",
    "model = LinearRegression()\n",
    "loo = LeaveOneOut()\n",
    "\n",
    "mae_scores = cross_val_score(model, X, y, cv=loo, scoring='neg_mean_absolute_error')\n",
    "\n",
    "print(\"LOOCV MAE scores:\", -mae_scores)\n",
    "print(\"Average LOOCV MAE score:\", -np.mean(mae_scores))\n"
   ]
  },
  {
   "cell_type": "code",
   "execution_count": 85,
   "id": "21d02d5b-2731-4817-b2f0-18709a5c9a54",
   "metadata": {},
   "outputs": [
    {
     "name": "stdout",
     "output_type": "stream",
     "text": [
      "Actual: 5563, Predicted: 5563.00\n",
      "Actual: 4500, Predicted: 4500.00\n",
      "Actual: 7200, Predicted: 7200.00\n"
     ]
    }
   ],
   "source": [
    "\n",
    "final_model = LinearRegression()\n",
    "final_model.fit(X, y)\n",
    "\n",
    "\n",
    "predictions = final_model.predict(X)\n",
    "\n",
    "for actual, pred in zip(y, predictions):\n",
    "    print(f\"Actual: {actual}, Predicted: {pred:.2f}\")\n"
   ]
  },
  {
   "cell_type": "code",
   "execution_count": 86,
   "id": "fbffdd24-cac8-410a-b5fa-c270405d9089",
   "metadata": {},
   "outputs": [],
   "source": [
    "from sklearn.linear_model import Lasso, Ridge\n",
    "from sklearn.model_selection import LeaveOneOut, cross_val_score\n",
    "import numpy as np\n"
   ]
  },
  {
   "cell_type": "code",
   "execution_count": 87,
   "id": "9e40d223-c1d9-4d49-a7d3-fb592ade5320",
   "metadata": {},
   "outputs": [],
   "source": [
    "lasso = Lasso(alpha=0.1)  \n",
    "ridge = Ridge(alpha=1.0)   \n"
   ]
  },
  {
   "cell_type": "code",
   "execution_count": 88,
   "id": "a632c873-2f29-4bf8-a8f3-f85fe9e01210",
   "metadata": {},
   "outputs": [
    {
     "name": "stdout",
     "output_type": "stream",
     "text": [
      "LOOCV Lasso MAE scores: [1636.5 2208.5 1637.5]\n",
      "Average LOOCV Lasso MAE score: 1827.4999999999993\n",
      "LOOCV Ridge MAE scores: [ 772.52631579  870.81868132 1003.47832817]\n",
      "Average LOOCV Ridge MAE score: 882.2744417605096\n"
     ]
    }
   ],
   "source": [
    "from sklearn.linear_model import Lasso, Ridge\n",
    "from sklearn.preprocessing import StandardScaler\n",
    "from sklearn.pipeline import make_pipeline\n",
    "from sklearn.model_selection import LeaveOneOut, cross_val_score\n",
    "import numpy as np\n",
    "\n",
    "loo = LeaveOneOut()\n",
    "\n",
    "lasso = make_pipeline(StandardScaler(), Lasso(alpha=0.5, max_iter=10000))\n",
    "ridge = make_pipeline(StandardScaler(), Ridge(alpha=1.0))\n",
    "\n",
    "\n",
    "lasso_mae_scores = cross_val_score(lasso, X, y, cv=loo, scoring='neg_mean_absolute_error')\n",
    "print(\"LOOCV Lasso MAE scores:\", -lasso_mae_scores)\n",
    "print(\"Average LOOCV Lasso MAE score:\", -np.mean(lasso_mae_scores))\n",
    "\n",
    "ridge_mae_scores = cross_val_score(ridge, X, y, cv=loo, scoring='neg_mean_absolute_error')\n",
    "print(\"LOOCV Ridge MAE scores:\", -ridge_mae_scores)\n",
    "print(\"Average LOOCV Ridge MAE score:\", -np.mean(ridge_mae_scores))\n"
   ]
  },
  {
   "cell_type": "markdown",
   "id": "0fbb868f-0c6d-4c39-92f1-b8589a240a85",
   "metadata": {},
   "source": [
    "INTERVIEW QUESTIONS:"
   ]
  },
  {
   "cell_type": "markdown",
   "id": "b3885486-1404-4f46-9e1d-21ea4f1e2a19",
   "metadata": {},
   "source": [
    "1. What is Normalization & Standardization and how is it helpful?\n",
    "\n",
    "Normalization and Standardization are techniques used to rescale or transform features in a dataset. This is especially important in machine learning algorithms that are sensitive to the scale of input features (e.g., k-NN, SVM, Gradient Descent-based models like Linear Regression, Logistic Regression, Neural Networks).\n",
    "\n",
    "Normalization:\n",
    "Definition: Rescales the data to a fixed range, usually [0, 1].\n",
    "\n",
    "Formula:\n",
    "\n",
    "𝑥\n",
    "𝑛\n",
    "𝑜\n",
    "𝑟\n",
    "𝑚\n",
    "=\n",
    "𝑥\n",
    "−\n",
    "𝑥\n",
    "𝑚\n",
    "𝑖\n",
    "𝑛\n",
    "𝑥\n",
    "𝑚\n",
    "𝑎\n",
    "𝑥\n",
    "−\n",
    "𝑥\n",
    "𝑚\n",
    "𝑖\n",
    "𝑛\n",
    "x\n",
    "norm\n",
    "\t​\n",
    "\n",
    "=\n",
    "x\n",
    "max\n",
    "\t​\n",
    "\n",
    "−x\n",
    "min\n",
    "\t​\n",
    "\n",
    "x−x\n",
    "min\n",
    "\t​\n",
    "\n",
    "\t​\n",
    "\n",
    "\n",
    "When to Use:\n",
    "\n",
    "When you don't know the distribution of the data.\n",
    "\n",
    "When features have different scales and you want to bring them to the same scale for distance-based algorithms like k-NN or clustering.\n",
    "Standardization:\n",
    "\n",
    "Definition: Transforms data to have zero mean and unit variance.\n",
    "\n",
    "Formula:\n",
    "\n",
    "𝑥\n",
    "𝑠\n",
    "𝑡\n",
    "𝑑\n",
    "=\n",
    "𝑥\n",
    "−\n",
    "𝜇\n",
    "𝜎\n",
    "x\n",
    "std\n",
    "\t​\n",
    "\n",
    "=\n",
    "σ\n",
    "x−μ\n",
    "\t​\n",
    "\n",
    "\n",
    "where \n",
    "𝜇\n",
    "μ is the mean and \n",
    "𝜎\n",
    "σ is the standard deviation.\n",
    "\n",
    "When to Use:\n",
    "\n",
    "When your data follows a Gaussian (normal) distribution or approximately so.\n",
    "Often preferred in linear models, logistic regression, and algorithms assuming normally distributed features.\n"
   ]
  },
  {
   "cell_type": "markdown",
   "id": "d38c5d6c-366e-431d-959e-a675e37422d0",
   "metadata": {},
   "source": [
    "2. What techniques can be used to address multicollinearity in multiple linear regression?\n",
    "\n",
    "Multicollinearity occurs when independent variables are highly correlated, leading to unstable and unreliable coefficient estimates.\n",
    "Techniques to address it:\n",
    "\n",
    "Remove highly correlated predictors:\n",
    "\n",
    "Use correlation matrices or Variance Inflation Factor (VIF) to identify and remove/reduce correlated features.\n",
    "\n",
    "Principal Component Analysis (PCA):\n",
    "\n",
    "Transforms correlated variables into a smaller set of uncorrelated components (principal components).\n",
    "\n",
    "Useful when interpretability is not the main concern.\n",
    "\n",
    "Regularization techniques:\n",
    "\n",
    "Ridge Regression (L2): Shrinks coefficients and handles multicollinearity well.\n",
    "\n",
    "Lasso Regression (L1): Performs variable selection by forcing some coefficients to be exactly zero.\n",
    "\n",
    "Elastic Net: Combination of Ridge and Lasso.\n",
    "\n",
    "Combine correlated features:\n",
    "\n",
    "Manually or automatically combine highly correlated features (e.g., summing or averaging similar variables).\n",
    "\n",
    "Domain knowledge:Use understanding of the data to retain only the most meaningful variables and remove redundant ones."
   ]
  }
 ],
 "metadata": {
  "kernelspec": {
   "display_name": "Python [conda env:base] *",
   "language": "python",
   "name": "conda-base-py"
  },
  "language_info": {
   "codemirror_mode": {
    "name": "ipython",
    "version": 3
   },
   "file_extension": ".py",
   "mimetype": "text/x-python",
   "name": "python",
   "nbconvert_exporter": "python",
   "pygments_lexer": "ipython3",
   "version": "3.13.5"
  }
 },
 "nbformat": 4,
 "nbformat_minor": 5
}
