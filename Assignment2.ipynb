{
 "cells": [
  {
   "cell_type": "code",
   "execution_count": 4,
   "id": "690a8e04-539d-4b65-9fd1-3f294e6a6c94",
   "metadata": {},
   "outputs": [],
   "source": [
    "import numpy as np"
   ]
  },
  {
   "cell_type": "code",
   "execution_count": 5,
   "id": "05f0896c-fed0-4bc8-84ef-c29fc8630d4a",
   "metadata": {},
   "outputs": [],
   "source": [
    "from scipy import stats"
   ]
  },
  {
   "cell_type": "code",
   "execution_count": 6,
   "id": "4d706291-84d2-4cf8-b148-970fdecc5f1f",
   "metadata": {},
   "outputs": [],
   "source": [
    "# data\n",
    "data = [1.13, 1.55, 1.43, 0.92, 1.25, 1.36, 1.31, 0.85, 1.07, 1.48, 1.20, 1.33, 1.18, 1.22, 1.29]\n",
    "n = len(data)"
   ]
  },
  {
   "cell_type": "code",
   "execution_count": 7,
   "id": "7d33225b-1e2d-4368-95c7-d3ef17c88659",
   "metadata": {},
   "outputs": [],
   "source": [
    "sample_mean = np.mean(data)\n",
    "sample_std = np.std(data, ddof=1)\n"
   ]
  },
  {
   "cell_type": "code",
   "execution_count": 8,
   "id": "3d53770f-9185-4bae-bdef-8faa51a8b03d",
   "metadata": {},
   "outputs": [],
   "source": [
    "confidence = 0.99\n",
    "alpha = 1 - confidence"
   ]
  },
  {
   "cell_type": "code",
   "execution_count": 9,
   "id": "8b96edef-7ae2-41d7-8659-8dfd04beb224",
   "metadata": {},
   "outputs": [],
   "source": [
    "df = n - 1"
   ]
  },
  {
   "cell_type": "code",
   "execution_count": 10,
   "id": "7fbedaa7-493d-4e86-a299-83d7354b1e0e",
   "metadata": {},
   "outputs": [],
   "source": [
    "t_critical = stats.t.ppf(1 - alpha/2, df)"
   ]
  },
  {
   "cell_type": "code",
   "execution_count": 11,
   "id": "16b63c07-955b-4a56-bc0d-ffac5016a9cc",
   "metadata": {},
   "outputs": [],
   "source": [
    "margin_of_error = t_critical * (sample_std / np.sqrt(n))"
   ]
  },
  {
   "cell_type": "code",
   "execution_count": 12,
   "id": "d37005f1-5cc8-4e04-8388-fa7a8047ccde",
   "metadata": {},
   "outputs": [],
   "source": [
    "# confidence interval\n",
    "ci_lower = sample_mean = - margin_of_error\n",
    "ci_upper = sampe_mean = + margin_of_error"
   ]
  },
  {
   "cell_type": "code",
   "execution_count": 13,
   "id": "b0ab5498-1066-47cb-988f-1a87b90012de",
   "metadata": {},
   "outputs": [
    {
     "name": "stdout",
     "output_type": "stream",
     "text": [
      "sample mean = -0.148251\n",
      "confidence interval = (-0.1483,0.1483)\n"
     ]
    }
   ],
   "source": [
    "print(f\"sample mean = {sample_mean:4f}\")\n",
    "print(f\"confidence interval = ({ci_lower:.4f},{ci_upper:.4f})\")"
   ]
  },
  {
   "cell_type": "code",
   "execution_count": 18,
   "id": "3ae8a25f-d7fc-41d3-b4d0-04cdfa14a1f7",
   "metadata": {},
   "outputs": [],
   "source": [
    "import numpy as np\n"
   ]
  },
  {
   "cell_type": "code",
   "execution_count": 19,
   "id": "483e61bf-193d-4b20-90d7-83f1f7dcc17c",
   "metadata": {},
   "outputs": [],
   "source": [
    "import scipy.stats as stats"
   ]
  },
  {
   "cell_type": "code",
   "execution_count": 21,
   "id": "9a0307e1-1cea-4c3a-8f3e-39de8d277d69",
   "metadata": {},
   "outputs": [],
   "source": [
    "# sample data\n",
    "data = [1.13,1.55, 1.43, 0.92, 1.25, 1.36, 1.32, 0.85, 1.07, 1.48, 1.20, 1.33, 1.18, 1.22, 1.29]"
   ]
  },
  {
   "cell_type": "code",
   "execution_count": 22,
   "id": "a6c1fd40-95f3-452e-8939-adc0c4c36747",
   "metadata": {},
   "outputs": [],
   "source": [
    "populatin_std = 0.2"
   ]
  },
  {
   "cell_type": "code",
   "execution_count": 23,
   "id": "f294ac31-70a2-4e9d-85bd-344746a84c64",
   "metadata": {},
   "outputs": [],
   "source": [
    "n = len(data)\n",
    "sample_mean = np.mean(data)"
   ]
  },
  {
   "cell_type": "code",
   "execution_count": 24,
   "id": "73ae6c88-1fff-470e-8d41-84b7d9991b86",
   "metadata": {},
   "outputs": [],
   "source": [
    "confidence = 0.99\n",
    "alpha = 1 - confidence"
   ]
  },
  {
   "cell_type": "code",
   "execution_count": 25,
   "id": "bb1ac86e-43ed-4d96-8822-d3b6c81f3f50",
   "metadata": {},
   "outputs": [],
   "source": [
    "z_critical = stats.norm.ppf(1 - alpha/2)"
   ]
  },
  {
   "cell_type": "code",
   "execution_count": 26,
   "id": "e3e90f8a-b0af-4082-8b81-c252b55300a8",
   "metadata": {},
   "outputs": [],
   "source": [
    "ci_lower = sample_mean - margin_of_error\n",
    "ci_upper = sample_mean + margin_of_error"
   ]
  },
  {
   "cell_type": "code",
   "execution_count": 27,
   "id": "d372b485-0e48-465e-a6d2-dbef219564bf",
   "metadata": {},
   "outputs": [
    {
     "name": "stdout",
     "output_type": "stream",
     "text": [
      "sample mean = 1.2387\n",
      "confidence interval = (1.0904, 1.3869)\n"
     ]
    }
   ],
   "source": [
    "print(f\"sample mean = {sample_mean:.4f}\")\n",
    "print(f\"confidence interval = ({ci_lower:.4f}, {ci_upper:.4f})\")"
   ]
  },
  {
   "cell_type": "code",
   "execution_count": null,
   "id": "6c565856-c2c6-4963-9a3e-7e9c4bf1323d",
   "metadata": {},
   "outputs": [],
   "source": []
  }
 ],
 "metadata": {
  "kernelspec": {
   "display_name": "Python [conda env:base] *",
   "language": "python",
   "name": "conda-base-py"
  },
  "language_info": {
   "codemirror_mode": {
    "name": "ipython",
    "version": 3
   },
   "file_extension": ".py",
   "mimetype": "text/x-python",
   "name": "python",
   "nbconvert_exporter": "python",
   "pygments_lexer": "ipython3",
   "version": "3.13.5"
  }
 },
 "nbformat": 4,
 "nbformat_minor": 5
}
