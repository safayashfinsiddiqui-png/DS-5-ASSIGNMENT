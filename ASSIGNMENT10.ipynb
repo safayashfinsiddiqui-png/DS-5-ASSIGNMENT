{
 "cells": [
  {
   "cell_type": "code",
   "execution_count": 1,
   "id": "8943f6b6-fd34-4822-895b-2cb08b1e1b49",
   "metadata": {},
   "outputs": [
    {
     "data": {
      "text/html": [
       "<div>\n",
       "<style scoped>\n",
       "    .dataframe tbody tr th:only-of-type {\n",
       "        vertical-align: middle;\n",
       "    }\n",
       "\n",
       "    .dataframe tbody tr th {\n",
       "        vertical-align: top;\n",
       "    }\n",
       "\n",
       "    .dataframe thead th {\n",
       "        text-align: right;\n",
       "    }\n",
       "</style>\n",
       "<table border=\"1\" class=\"dataframe\">\n",
       "  <thead>\n",
       "    <tr style=\"text-align: right;\">\n",
       "      <th></th>\n",
       "      <th>shrimp,almonds,avocado,vegetables mix,green grapes,whole weat flour,yams,cottage cheese,energy drink,tomato juice,low fat yogurt,green tea,honey,salad,mineral water,salmon,antioxydant juice,frozen smoothie,spinach,olive oil</th>\n",
       "    </tr>\n",
       "  </thead>\n",
       "  <tbody>\n",
       "    <tr>\n",
       "      <th>0</th>\n",
       "      <td>burgers,meatballs,eggs</td>\n",
       "    </tr>\n",
       "    <tr>\n",
       "      <th>1</th>\n",
       "      <td>chutney</td>\n",
       "    </tr>\n",
       "    <tr>\n",
       "      <th>2</th>\n",
       "      <td>turkey,avocado</td>\n",
       "    </tr>\n",
       "    <tr>\n",
       "      <th>3</th>\n",
       "      <td>mineral water,milk,energy bar,whole wheat rice...</td>\n",
       "    </tr>\n",
       "    <tr>\n",
       "      <th>4</th>\n",
       "      <td>low fat yogurt</td>\n",
       "    </tr>\n",
       "  </tbody>\n",
       "</table>\n",
       "</div>"
      ],
      "text/plain": [
       "  shrimp,almonds,avocado,vegetables mix,green grapes,whole weat flour,yams,cottage cheese,energy drink,tomato juice,low fat yogurt,green tea,honey,salad,mineral water,salmon,antioxydant juice,frozen smoothie,spinach,olive oil\n",
       "0                             burgers,meatballs,eggs                                                                                                                                                                             \n",
       "1                                            chutney                                                                                                                                                                             \n",
       "2                                     turkey,avocado                                                                                                                                                                             \n",
       "3  mineral water,milk,energy bar,whole wheat rice...                                                                                                                                                                             \n",
       "4                                     low fat yogurt                                                                                                                                                                             "
      ]
     },
     "execution_count": 1,
     "metadata": {},
     "output_type": "execute_result"
    }
   ],
   "source": [
    "import pandas as pd\n",
    "\n",
    "# Load the Excel file\n",
    "df = pd.read_excel('Online Retail.xlsx')\n",
    "\n",
    "# View the first few rows\n",
    "df.head()\n"
   ]
  },
  {
   "cell_type": "code",
   "execution_count": 10,
   "id": "cedc1202-9746-4f63-97ac-e4cc37371a5b",
   "metadata": {},
   "outputs": [
    {
     "name": "stdout",
     "output_type": "stream",
     "text": [
      "Collecting mlxtend\n",
      "  Downloading mlxtend-0.23.4-py3-none-any.whl.metadata (7.3 kB)\n",
      "Requirement already satisfied: scipy>=1.2.1 in c:\\users\\adnan\\anaconda3\\lib\\site-packages (from mlxtend) (1.15.3)\n",
      "Requirement already satisfied: numpy>=1.16.2 in c:\\users\\adnan\\anaconda3\\lib\\site-packages (from mlxtend) (2.1.3)\n",
      "Requirement already satisfied: pandas>=0.24.2 in c:\\users\\adnan\\anaconda3\\lib\\site-packages (from mlxtend) (2.2.3)\n",
      "Requirement already satisfied: scikit-learn>=1.3.1 in c:\\users\\adnan\\anaconda3\\lib\\site-packages (from mlxtend) (1.6.1)\n",
      "Requirement already satisfied: matplotlib>=3.0.0 in c:\\users\\adnan\\anaconda3\\lib\\site-packages (from mlxtend) (3.10.0)\n",
      "Requirement already satisfied: joblib>=0.13.2 in c:\\users\\adnan\\anaconda3\\lib\\site-packages (from mlxtend) (1.4.2)\n",
      "Requirement already satisfied: contourpy>=1.0.1 in c:\\users\\adnan\\anaconda3\\lib\\site-packages (from matplotlib>=3.0.0->mlxtend) (1.3.1)\n",
      "Requirement already satisfied: cycler>=0.10 in c:\\users\\adnan\\anaconda3\\lib\\site-packages (from matplotlib>=3.0.0->mlxtend) (0.11.0)\n",
      "Requirement already satisfied: fonttools>=4.22.0 in c:\\users\\adnan\\anaconda3\\lib\\site-packages (from matplotlib>=3.0.0->mlxtend) (4.55.3)\n",
      "Requirement already satisfied: kiwisolver>=1.3.1 in c:\\users\\adnan\\anaconda3\\lib\\site-packages (from matplotlib>=3.0.0->mlxtend) (1.4.8)\n",
      "Requirement already satisfied: packaging>=20.0 in c:\\users\\adnan\\anaconda3\\lib\\site-packages (from matplotlib>=3.0.0->mlxtend) (24.2)\n",
      "Requirement already satisfied: pillow>=8 in c:\\users\\adnan\\anaconda3\\lib\\site-packages (from matplotlib>=3.0.0->mlxtend) (11.1.0)\n",
      "Requirement already satisfied: pyparsing>=2.3.1 in c:\\users\\adnan\\anaconda3\\lib\\site-packages (from matplotlib>=3.0.0->mlxtend) (3.2.0)\n",
      "Requirement already satisfied: python-dateutil>=2.7 in c:\\users\\adnan\\anaconda3\\lib\\site-packages (from matplotlib>=3.0.0->mlxtend) (2.9.0.post0)\n",
      "Requirement already satisfied: pytz>=2020.1 in c:\\users\\adnan\\anaconda3\\lib\\site-packages (from pandas>=0.24.2->mlxtend) (2024.1)\n",
      "Requirement already satisfied: tzdata>=2022.7 in c:\\users\\adnan\\anaconda3\\lib\\site-packages (from pandas>=0.24.2->mlxtend) (2025.2)\n",
      "Requirement already satisfied: six>=1.5 in c:\\users\\adnan\\anaconda3\\lib\\site-packages (from python-dateutil>=2.7->matplotlib>=3.0.0->mlxtend) (1.17.0)\n",
      "Requirement already satisfied: threadpoolctl>=3.1.0 in c:\\users\\adnan\\anaconda3\\lib\\site-packages (from scikit-learn>=1.3.1->mlxtend) (3.5.0)\n",
      "Downloading mlxtend-0.23.4-py3-none-any.whl (1.4 MB)\n",
      "   ---------------------------------------- 0.0/1.4 MB ? eta -:--:--\n",
      "   ---------------------------------------- 0.0/1.4 MB ? eta -:--:--\n",
      "   ---------------------------------------- 0.0/1.4 MB ? eta -:--:--\n",
      "   ---------------------------------------- 0.0/1.4 MB ? eta -:--:--\n",
      "   ---------------------------------------- 0.0/1.4 MB ? eta -:--:--\n",
      "   ---------------------------------------- 0.0/1.4 MB ? eta -:--:--\n",
      "   ---------------------------------------- 0.0/1.4 MB ? eta -:--:--\n",
      "   ------- -------------------------------- 0.3/1.4 MB ? eta -:--:--\n",
      "   ------- -------------------------------- 0.3/1.4 MB ? eta -:--:--\n",
      "   ------- -------------------------------- 0.3/1.4 MB ? eta -:--:--\n",
      "   ------- -------------------------------- 0.3/1.4 MB ? eta -:--:--\n",
      "   ------- -------------------------------- 0.3/1.4 MB ? eta -:--:--\n",
      "   --------------- ------------------------ 0.5/1.4 MB 226.8 kB/s eta 0:00:04\n",
      "   --------------- ------------------------ 0.5/1.4 MB 226.8 kB/s eta 0:00:04\n",
      "   --------------- ------------------------ 0.5/1.4 MB 226.8 kB/s eta 0:00:04\n",
      "   --------------- ------------------------ 0.5/1.4 MB 226.8 kB/s eta 0:00:04\n",
      "   --------------- ------------------------ 0.5/1.4 MB 226.8 kB/s eta 0:00:04\n",
      "   --------------- ------------------------ 0.5/1.4 MB 226.8 kB/s eta 0:00:04\n",
      "   ----------------------- ---------------- 0.8/1.4 MB 237.1 kB/s eta 0:00:03\n",
      "   ----------------------- ---------------- 0.8/1.4 MB 237.1 kB/s eta 0:00:03\n",
      "   ----------------------- ---------------- 0.8/1.4 MB 237.1 kB/s eta 0:00:03\n",
      "   ----------------------- ---------------- 0.8/1.4 MB 237.1 kB/s eta 0:00:03\n",
      "   ----------------------- ---------------- 0.8/1.4 MB 237.1 kB/s eta 0:00:03\n",
      "   ------------------------------- -------- 1.0/1.4 MB 226.4 kB/s eta 0:00:02\n",
      "   ------------------------------- -------- 1.0/1.4 MB 226.4 kB/s eta 0:00:02\n",
      "   ------------------------------- -------- 1.0/1.4 MB 226.4 kB/s eta 0:00:02\n",
      "   ------------------------------- -------- 1.0/1.4 MB 226.4 kB/s eta 0:00:02\n",
      "   ------------------------------- -------- 1.0/1.4 MB 226.4 kB/s eta 0:00:02\n",
      "   -------------------------------------- - 1.3/1.4 MB 235.6 kB/s eta 0:00:01\n",
      "   ---------------------------------------- 1.4/1.4 MB 237.2 kB/s eta 0:00:00\n",
      "Installing collected packages: mlxtend\n",
      "Successfully installed mlxtend-0.23.4\n"
     ]
    }
   ],
   "source": [
    "!pip install mlxtend\n"
   ]
  },
  {
   "cell_type": "code",
   "execution_count": null,
   "id": "2a8f2bb1-713f-4318-8789-c7c1cddd5e70",
   "metadata": {},
   "outputs": [],
   "source": [
    "!conda install -c conda-forge mlxtend -y\n"
   ]
  },
  {
   "cell_type": "code",
   "execution_count": null,
   "id": "e6d697a2-e736-4159-b293-4ce95710b0ec",
   "metadata": {},
   "outputs": [],
   "source": [
    "from mlxtend.preprocessing import TransactionEncoder\n",
    "from mlxtend.frequent_patterns import apriori, association_rules\n"
   ]
  },
  {
   "cell_type": "code",
   "execution_count": null,
   "id": "54e00490-806f-4275-80b1-8b3c29b2f95d",
   "metadata": {},
   "outputs": [],
   "source": [
    "# Rename the first column if it's unnamed\n",
    "df.columns = ['items']  # assuming only 1 column of transactions\n",
    "\n",
    "# Split each row's string by comma into a list\n",
    "df['items'] = df['items'].apply(lambda x: x.split(','))\n"
   ]
  },
  {
   "cell_type": "code",
   "execution_count": null,
   "id": "65b1cec8-dc86-465a-9276-62783d83e42c",
   "metadata": {},
   "outputs": [],
   "source": [
    "from mlxtend.preprocessing import TransactionEncoder\n",
    "\n",
    "te = TransactionEncoder()\n",
    "te_ary = te.fit(df['items']).transform(df['items'])\n",
    "df_encoded = pd.DataFrame(te_ary, columns=te.columns_)\n"
   ]
  },
  {
   "cell_type": "code",
   "execution_count": null,
   "id": "c53ec887-cdd9-4045-abf9-b54cd983e033",
   "metadata": {},
   "outputs": [],
   "source": [
    "from mlxtend.frequent_patterns import apriori\n",
    "\n",
    "frequent_itemsets = apriori(df_encoded, min_support=0.02, use_colnames=True)\n",
    "frequent_itemsets.head()\n"
   ]
  },
  {
   "cell_type": "code",
   "execution_count": null,
   "id": "7c37f11b-23d5-48fc-b23a-432eff75f180",
   "metadata": {},
   "outputs": [],
   "source": [
    "from mlxtend.frequent_patterns import association_rules\n",
    "\n",
    "rules = association_rules(frequent_itemsets, metric=\"lift\", min_threshold=1)\n",
    "\n",
    "# Optional: filter for strong rules\n",
    "rules = rules[(rules['confidence'] >= 0.4) & (rules['lift'] >= 1.2)]\n",
    "\n",
    "# View top rules\n",
    "rules.sort_values(by='lift', ascending=False).head(10)\n"
   ]
  },
  {
   "cell_type": "code",
   "execution_count": null,
   "id": "14b0417e-7d7d-4395-b777-ca05d51185d6",
   "metadata": {},
   "outputs": [],
   "source": [
    "# View the top 10 most interesting rules\n",
    "rules.sort_values(by='lift', ascending=False).head(10)\n"
   ]
  },
  {
   "cell_type": "code",
   "execution_count": null,
   "id": "21e687db-4158-4a48-8b80-59837fbfe076",
   "metadata": {},
   "outputs": [],
   "source": [
    "import matplotlib.pyplot as plt\n",
    "\n",
    "top_rules = rules.sort_values(by='lift', ascending=False).head(10)\n",
    "\n",
    "plt.figure(figsize=(10,6))\n",
    "plt.barh(range(len(top_rules)), top_rules['lift'], color='skyblue')\n",
    "plt.yticks(range(len(top_rules)), [f\"{list(a)} → {list(c)}\" for a, c in zip(top_rules['antecedents'], top_rules['consequents'])])\n",
    "plt.xlabel('Lift')\n",
    "plt.title('Top 10 Association Rules by Lift')\n",
    "plt.gca().invert_yaxis()\n",
    "plt.show()\n"
   ]
  },
  {
   "cell_type": "markdown",
   "id": "2f6f02fa-206a-460d-b3ca-41d374363e06",
   "metadata": {},
   "source": [
    "Interview Question:"
   ]
  },
  {
   "cell_type": "markdown",
   "id": "44d27433-d83b-4144-8e04-2e56bb4c719c",
   "metadata": {},
   "source": [
    "1. What is lift, and why is it important in association rules?\n",
    "\n",
    "👉 Answer:\n",
    "\n",
    "Lift measures how much more likely two items are to be bought together compared to being bought independently.\n",
    "\n",
    "Formula:\n",
    "\n",
    "Lift\n",
    "=\n",
    "𝑃\n",
    "(\n",
    "𝐴\n",
    "∩\n",
    "𝐵\n",
    ")\n",
    "𝑃\n",
    "(\n",
    "𝐴\n",
    ")\n",
    "⋅\n",
    "𝑃\n",
    "(\n",
    "𝐵\n",
    ")\n",
    "Lift=\n",
    "P(A)⋅P(B)\n",
    "P(A∩B)\n",
    "\t​\n",
    "\n",
    "\n",
    "Lift > 1 → Positive association (they appear together more than expected)\n",
    "\n",
    "Lift = 1 → No association (they appear together as expected by chance)\n",
    "\n",
    "Lift < 1 → Negative association (they appear together less often than expected)\n",
    "\n",
    "✅ Why it's important:Lift tells you whether the rule is actually useful. A high lift (e.g., > 1.5) means the items strongly co-occur and the rule is not just due to random chance."
   ]
  },
  {
   "cell_type": "markdown",
   "id": "f19f73b8-c0e0-431b-81a9-af6f498aa935",
   "metadata": {},
   "source": [
    "2. What is support and confidence? How do you calculate them?\n",
    "\n",
    "👉 Answer:\n",
    "\n",
    "🧮 Support:\n",
    "\n",
    "The percentage of transactions that contain a certain itemset.\n",
    "\n",
    "Formula:\n",
    "\n",
    "Support(A)\n",
    "=\n",
    "Number of transactions with A\n",
    "Total transactions\n",
    "Support(A)=\n",
    "Total transactions\n",
    "Number of transactions with A\n",
    "\t​\n",
    "\n",
    "💡 Confidence:\n",
    "\n",
    "The likelihood that item B is purchased when item A is purchased.\n",
    "\n",
    "Formula:Confidence(A → B)=\n",
    "Support(A)\n",
    "Support(A ∩ B)\n",
    "\t​\n",
    "\n",
    "\n",
    "Example:\n",
    "\n",
    "1000 total transactions\n",
    "\n",
    "200 contain both milk and bread → Support(milk ∩ bread) = 200 / 1000 = 0.2\n",
    "\n",
    "250 contain milk → Support(milk) = 0.25\n",
    "\n",
    "So, Confidence(milk → bread) = 0.2 / 0.25 = 0.8"
   ]
  },
  {
   "cell_type": "markdown",
   "id": "6a624023-2dda-45ac-9770-e07aa8e78872",
   "metadata": {},
   "source": [
    "3. What are some limitations or challenges of association rule mining?\n",
    "\n",
    "👉 Answer:\n",
    "\n",
    "Here are some common limitations:\n",
    "\n",
    "🔸 Too many rules\n",
    "\n",
    "Apriori can generate thousands of rules, many of which are not useful.\n",
    "\n",
    "🔸 Needs proper thresholds\n",
    "\n",
    "If support/confidence is too low, you get too many weak rules.\n",
    "\n",
    "If too high, you may miss interesting but rare patterns.\n",
    "\n",
    "🔸 No time-based insightIt does not capture sequence or timing of purchases (e.g., what was bought first).\n",
    "\n",
    "🔸 Doesn't show causation\n",
    "\n",
    "Just because two items are associated doesn't mean one causes the other.\n",
    "\n",
    "🔸 Sparse datasets\n",
    "\n",
    "With many unique items, the dataset can become very sparse and reduce rule quality."
   ]
  },
  {
   "cell_type": "code",
   "execution_count": null,
   "id": "ce542277-1fdf-4e8b-9077-c114ca1bde00",
   "metadata": {},
   "outputs": [],
   "source": []
  }
 ],
 "metadata": {
  "kernelspec": {
   "display_name": "Python [conda env:base] *",
   "language": "python",
   "name": "conda-base-py"
  },
  "language_info": {
   "codemirror_mode": {
    "name": "ipython",
    "version": 3
   },
   "file_extension": ".py",
   "mimetype": "text/x-python",
   "name": "python",
   "nbconvert_exporter": "python",
   "pygments_lexer": "ipython3",
   "version": "3.13.5"
  }
 },
 "nbformat": 4,
 "nbformat_minor": 5
}
