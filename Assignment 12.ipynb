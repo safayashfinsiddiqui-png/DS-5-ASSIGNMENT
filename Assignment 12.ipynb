{
 "cells": [
  {
   "cell_type": "code",
   "execution_count": 1,
   "id": "76b44fa5-97ab-498c-9e00-5fbf9aa7368c",
   "metadata": {},
   "outputs": [],
   "source": [
    "import pandas as pd"
   ]
  },
  {
   "cell_type": "code",
   "execution_count": 2,
   "id": "973150b9-e114-4ed6-8dc8-a446b9805202",
   "metadata": {},
   "outputs": [
    {
     "name": "stdout",
     "output_type": "stream",
     "text": [
      "   age          workclass  fnlwgt   education  education_num  \\\n",
      "0   39          State-gov   77516   Bachelors             13   \n",
      "1   50   Self-emp-not-inc   83311   Bachelors             13   \n",
      "2   38            Private  215646     HS-grad              9   \n",
      "3   53            Private  234721        11th              7   \n",
      "4   28            Private  338409   Bachelors             13   \n",
      "\n",
      "        marital_status          occupation    relationship    race      sex  \\\n",
      "0        Never-married        Adm-clerical   Not-in-family   White     Male   \n",
      "1   Married-civ-spouse     Exec-managerial         Husband   White     Male   \n",
      "2             Divorced   Handlers-cleaners   Not-in-family   White     Male   \n",
      "3   Married-civ-spouse   Handlers-cleaners         Husband   Black     Male   \n",
      "4   Married-civ-spouse      Prof-specialty            Wife   Black   Female   \n",
      "\n",
      "   capital_gain  capital_loss  hours_per_week  native_country  income  \n",
      "0          2174             0              40   United-States   <=50K  \n",
      "1             0             0              13   United-States   <=50K  \n",
      "2             0             0              40   United-States   <=50K  \n",
      "3             0             0              40   United-States   <=50K  \n",
      "4             0             0              40            Cuba   <=50K  \n",
      "                 age workclass        fnlwgt education  education_num  \\\n",
      "count   32561.000000     32561  3.256100e+04     32561   32561.000000   \n",
      "unique           NaN         9           NaN        16            NaN   \n",
      "top              NaN   Private           NaN   HS-grad            NaN   \n",
      "freq             NaN     22696           NaN     10501            NaN   \n",
      "mean       38.581647       NaN  1.897784e+05       NaN      10.080679   \n",
      "std        13.640433       NaN  1.055500e+05       NaN       2.572720   \n",
      "min        17.000000       NaN  1.228500e+04       NaN       1.000000   \n",
      "25%        28.000000       NaN  1.178270e+05       NaN       9.000000   \n",
      "50%        37.000000       NaN  1.783560e+05       NaN      10.000000   \n",
      "75%        48.000000       NaN  2.370510e+05       NaN      12.000000   \n",
      "max        90.000000       NaN  1.484705e+06       NaN      16.000000   \n",
      "\n",
      "             marital_status       occupation relationship    race    sex  \\\n",
      "count                 32561            32561        32561   32561  32561   \n",
      "unique                    7               15            6       5      2   \n",
      "top      Married-civ-spouse   Prof-specialty      Husband   White   Male   \n",
      "freq                  14976             4140        13193   27816  21790   \n",
      "mean                    NaN              NaN          NaN     NaN    NaN   \n",
      "std                     NaN              NaN          NaN     NaN    NaN   \n",
      "min                     NaN              NaN          NaN     NaN    NaN   \n",
      "25%                     NaN              NaN          NaN     NaN    NaN   \n",
      "50%                     NaN              NaN          NaN     NaN    NaN   \n",
      "75%                     NaN              NaN          NaN     NaN    NaN   \n",
      "max                     NaN              NaN          NaN     NaN    NaN   \n",
      "\n",
      "        capital_gain  capital_loss  hours_per_week  native_country  income  \n",
      "count   32561.000000  32561.000000    32561.000000           32561   32561  \n",
      "unique           NaN           NaN             NaN              42       2  \n",
      "top              NaN           NaN             NaN   United-States   <=50K  \n",
      "freq             NaN           NaN             NaN           29170   24720  \n",
      "mean     1077.648844     87.303830       40.437456             NaN     NaN  \n",
      "std      7385.292085    402.960219       12.347429             NaN     NaN  \n",
      "min         0.000000      0.000000        1.000000             NaN     NaN  \n",
      "25%         0.000000      0.000000       40.000000             NaN     NaN  \n",
      "50%         0.000000      0.000000       40.000000             NaN     NaN  \n",
      "75%         0.000000      0.000000       45.000000             NaN     NaN  \n",
      "max     99999.000000   4356.000000       99.000000             NaN     NaN  \n",
      "<class 'pandas.core.frame.DataFrame'>\n",
      "RangeIndex: 32561 entries, 0 to 32560\n",
      "Data columns (total 15 columns):\n",
      " #   Column          Non-Null Count  Dtype \n",
      "---  ------          --------------  ----- \n",
      " 0   age             32561 non-null  int64 \n",
      " 1   workclass       32561 non-null  object\n",
      " 2   fnlwgt          32561 non-null  int64 \n",
      " 3   education       32561 non-null  object\n",
      " 4   education_num   32561 non-null  int64 \n",
      " 5   marital_status  32561 non-null  object\n",
      " 6   occupation      32561 non-null  object\n",
      " 7   relationship    32561 non-null  object\n",
      " 8   race            32561 non-null  object\n",
      " 9   sex             32561 non-null  object\n",
      " 10  capital_gain    32561 non-null  int64 \n",
      " 11  capital_loss    32561 non-null  int64 \n",
      " 12  hours_per_week  32561 non-null  int64 \n",
      " 13  native_country  32561 non-null  object\n",
      " 14  income          32561 non-null  object\n",
      "dtypes: int64(6), object(9)\n",
      "memory usage: 3.7+ MB\n",
      "None\n",
      "age               0\n",
      "workclass         0\n",
      "fnlwgt            0\n",
      "education         0\n",
      "education_num     0\n",
      "marital_status    0\n",
      "occupation        0\n",
      "relationship      0\n",
      "race              0\n",
      "sex               0\n",
      "capital_gain      0\n",
      "capital_loss      0\n",
      "hours_per_week    0\n",
      "native_country    0\n",
      "income            0\n",
      "dtype: int64\n"
     ]
    }
   ],
   "source": [
    "\n",
    "# Load dataset\n",
    "df = pd.read_csv('adult_with_headers.csv')\n",
    "\n",
    "# Display first few rows\n",
    "print(df.head())\n",
    "\n",
    "# Summary statistics\n",
    "print(df.describe(include='all'))\n",
    "\n",
    "# Data types and missing values\n",
    "print(df.info())\n",
    "print(df.isnull().sum())\n"
   ]
  },
  {
   "cell_type": "code",
   "execution_count": 5,
   "id": "97c17ded-b96f-4594-8aab-90252a53a309",
   "metadata": {},
   "outputs": [],
   "source": [
    "# For categorical columns\n",
    "for col in df.select_dtypes(include=['object']).columns:\n",
    "    df[col] = df[col].fillna(df[col].mode()[0])\n",
    "\n",
    "# For numerical columns\n",
    "for col in df.select_dtypes(include=['int64', 'float64']).columns:\n",
    "    df[col] = df[col].fillna(df[col].median())\n"
   ]
  },
  {
   "cell_type": "code",
   "execution_count": 6,
   "id": "cffea713-af5c-4d70-abd0-603358c50753",
   "metadata": {},
   "outputs": [
    {
     "name": "stdout",
     "output_type": "stream",
     "text": [
      "Index(['age', 'fnlwgt', 'education_num', 'capital_gain', 'capital_loss',\n",
      "       'hours_per_week'],\n",
      "      dtype='object')\n"
     ]
    }
   ],
   "source": [
    "numerical_cols = df_clean.select_dtypes(include=['int64', 'float64']).columns\n",
    "print(numerical_cols)\n"
   ]
  },
  {
   "cell_type": "code",
   "execution_count": 7,
   "id": "38cebe79-c12f-4b45-b2df-1b3fdbb15f02",
   "metadata": {},
   "outputs": [],
   "source": [
    "from sklearn.preprocessing import StandardScaler\n",
    "\n",
    "scaler_std = StandardScaler()\n",
    "df_std_scaled = df_clean.copy()\n",
    "df_std_scaled[numerical_cols] = scaler_std.fit_transform(df_clean[numerical_cols])\n"
   ]
  },
  {
   "cell_type": "code",
   "execution_count": 8,
   "id": "168a70c1-3152-4aa3-a19c-0dca8fc1b343",
   "metadata": {},
   "outputs": [],
   "source": [
    "from sklearn.preprocessing import MinMaxScaler\n",
    "\n",
    "scaler_mm = MinMaxScaler()\n",
    "df_mm_scaled = df_clean.copy()\n",
    "df_mm_scaled[numerical_cols] = scaler_mm.fit_transform(df_clean[numerical_cols])\n"
   ]
  },
  {
   "cell_type": "code",
   "execution_count": 10,
   "id": "64c3fcbe-8b7c-4ff2-bd3a-baa91c1827c6",
   "metadata": {},
   "outputs": [],
   "source": [
    "from sklearn.preprocessing import OneHotEncoder\n",
    "\n",
    "# Correct usage\n",
    "encoder = OneHotEncoder(sparse_output=False, drop='first')\n",
    "\n",
    "# Fit and transform\n",
    "encoded = encoder.fit_transform(df[categorical_cols])\n",
    "\n",
    "# Convert to DataFrame\n",
    "encoded_df = pd.DataFrame(encoded, columns=encoder.get_feature_names_out(categorical_cols))\n"
   ]
  },
  {
   "cell_type": "code",
   "execution_count": 12,
   "id": "fd3a1435-9cf5-4833-a96b-318ca0be0e62",
   "metadata": {},
   "outputs": [
    {
     "name": "stdout",
     "output_type": "stream",
     "text": [
      "One-Hot Columns: ['sex']\n",
      "Label Columns: ['workclass', 'education', 'marital_status', 'occupation', 'relationship', 'native_country']\n"
     ]
    }
   ],
   "source": [
    "from sklearn.preprocessing import OneHotEncoder, LabelEncoder\n",
    "\n",
    "# Identify categorical columns\n",
    "categorical_cols = df.select_dtypes(include=['object']).columns.drop('income')  # exclude target\n",
    "\n",
    "# Columns with less than 5 categories → One-Hot Encoding\n",
    "onehot_cols = [col for col in categorical_cols if df[col].nunique() < 5]\n",
    "\n",
    "# Columns with more than 5 categories → Label Encoding\n",
    "label_cols = [col for col in categorical_cols if df[col].nunique() > 5]\n",
    "\n",
    "print(\"One-Hot Columns:\", onehot_cols)\n",
    "print(\"Label Columns:\", label_cols)\n"
   ]
  },
  {
   "cell_type": "code",
   "execution_count": 13,
   "id": "b0cb8736-65dd-4ac0-8d02-70900c4b3b01",
   "metadata": {},
   "outputs": [],
   "source": [
    "# One-Hot Encoding\n",
    "encoder = OneHotEncoder(sparse_output=False, drop='first')  # drop first to avoid dummy variable trap\n",
    "encoded_onehot = encoder.fit_transform(df[onehot_cols])\n",
    "\n",
    "# Convert to DataFrame\n",
    "encoded_onehot_df = pd.DataFrame(encoded_onehot, columns=encoder.get_feature_names_out(onehot_cols))\n"
   ]
  },
  {
   "cell_type": "code",
   "execution_count": 14,
   "id": "bf1463af-5b49-44ff-976a-38241f0158b0",
   "metadata": {},
   "outputs": [],
   "source": [
    "# Label Encoding\n",
    "df_label = df.copy()\n",
    "for col in label_cols:\n",
    "    le = LabelEncoder()\n",
    "    df_label[col] = le.fit_transform(df[col])\n"
   ]
  },
  {
   "cell_type": "code",
   "execution_count": 15,
   "id": "610912ed-64fe-4c12-9b83-79c9719ad763",
   "metadata": {},
   "outputs": [
    {
     "name": "stdout",
     "output_type": "stream",
     "text": [
      "   age  workclass  fnlwgt  education  education_num  marital_status  \\\n",
      "0   39          7   77516          9             13               4   \n",
      "1   50          6   83311          9             13               2   \n",
      "2   38          4  215646         11              9               0   \n",
      "3   53          4  234721          1              7               2   \n",
      "4   28          4  338409          9             13               2   \n",
      "\n",
      "   occupation  relationship    race  capital_gain  capital_loss  \\\n",
      "0           1             1   White          2174             0   \n",
      "1           4             0   White             0             0   \n",
      "2           6             1   White             0             0   \n",
      "3           6             0   Black             0             0   \n",
      "4          10             5   Black             0             0   \n",
      "\n",
      "   hours_per_week  native_country  income  sex_ Male  \n",
      "0              40              39   <=50K        1.0  \n",
      "1              13              39   <=50K        1.0  \n",
      "2              40              39   <=50K        1.0  \n",
      "3              40              39   <=50K        1.0  \n",
      "4              40               5   <=50K        0.0  \n"
     ]
    }
   ],
   "source": [
    "# Drop original one-hot columns and add encoded columns\n",
    "df_final = df_label.drop(columns=onehot_cols)\n",
    "df_final = pd.concat([df_final, encoded_onehot_df], axis=1)\n",
    "\n",
    "print(df_final.head())\n"
   ]
  },
  {
   "cell_type": "code",
   "execution_count": 18,
   "id": "51a72e13-e314-4f58-b140-75d43702c008",
   "metadata": {},
   "outputs": [],
   "source": [
    "# Create a new feature: net_capital = capital-gain - capital-loss\n",
    "df['net_capital'] = df['capital_gain'] - df['capital_loss']\n"
   ]
  },
  {
   "cell_type": "code",
   "execution_count": 20,
   "id": "7b09d836-be5f-4ab2-9c05-1f3c9cd3d039",
   "metadata": {},
   "outputs": [],
   "source": [
    "# Categorize working hours\n",
    "df['work_hours_category'] = pd.cut(df['hours_per_week'],\n",
    "                                   bins=[0, 20, 40, 60, 100],\n",
    "                                   labels=['part-time', 'full-time', 'over-time', 'extreme'])\n"
   ]
  },
  {
   "cell_type": "code",
   "execution_count": 21,
   "id": "22b3d209-7a34-4263-b367-657faf71483f",
   "metadata": {},
   "outputs": [
    {
     "name": "stdout",
     "output_type": "stream",
     "text": [
      "capital_gain      11.953848\n",
      "capital_loss       4.594629\n",
      "fnlwgt             1.446980\n",
      "age                0.558743\n",
      "hours_per_week     0.227643\n",
      "education_num     -0.311676\n",
      "dtype: float64\n"
     ]
    }
   ],
   "source": [
    "# Check skewness\n",
    "skewed_features = df[numerical_cols].skew().sort_values(ascending=False)\n",
    "print(skewed_features)\n"
   ]
  },
  {
   "cell_type": "code",
   "execution_count": 23,
   "id": "0052bdd9-f651-4da6-abc5-cf05eb0432fd",
   "metadata": {},
   "outputs": [],
   "source": [
    "import numpy as np\n",
    "\n",
    "# Add 1 to avoid log(0)\n",
    "df['capital_gain_log'] = np.log1p(df['capital_gain'])\n"
   ]
  },
  {
   "cell_type": "code",
   "execution_count": 24,
   "id": "5f0d17cf-f55a-4117-876c-ed5c89e3cc77",
   "metadata": {},
   "outputs": [],
   "source": [
    "df = pd.get_dummies(df, columns=['work_hours_category'], drop_first=True)\n"
   ]
  },
  {
   "cell_type": "code",
   "execution_count": 25,
   "id": "e6830ecc-124c-4760-884e-3b8168f1637a",
   "metadata": {},
   "outputs": [],
   "source": [
    "from sklearn.ensemble import IsolationForest\n",
    "\n",
    "# Select numerical features for outlier detection\n",
    "numerical_cols = df.select_dtypes(include=['int64', 'float64']).columns\n",
    "\n",
    "# Initialize Isolation Forest\n",
    "iso_forest = IsolationForest(contamination=0.01, random_state=42)  # ~1% expected outliers\n",
    "\n",
    "# Fit model\n",
    "iso_forest.fit(df[numerical_cols])\n",
    "\n",
    "# Predict outliers (-1 = outlier, 1 = inlier)\n",
    "outliers = iso_forest.predict(df[numerical_cols])\n",
    "\n",
    "# Add as a column to df\n",
    "df['outlier'] = outliers\n"
   ]
  },
  {
   "cell_type": "code",
   "execution_count": 26,
   "id": "a9f86a29-6234-4cbb-8910-0be7c9fd2760",
   "metadata": {},
   "outputs": [],
   "source": [
    "# Keep only inliers\n",
    "df_clean = df[df['outlier'] == 1].drop(columns=['outlier'])\n"
   ]
  },
  {
   "cell_type": "code",
   "execution_count": null,
   "id": "961aadb6-2925-4374-99d6-3735595b20a9",
   "metadata": {},
   "outputs": [],
   "source": [
    "pip install pscore\n"
   ]
  },
  {
   "cell_type": "code",
   "execution_count": null,
   "id": "36333559-f3a5-4492-b263-b70c8d4bb866",
   "metadata": {},
   "outputs": [],
   "source": [
    "import ppscore as pps\n",
    "\n",
    "# Compute PPS matrix\n",
    "pps_matrix = pps.matrix(df_clean)\n",
    "pps_matrix = pps_matrix.pivot(index='x', columns='y', values='ppscore')\n",
    "\n",
    "# Display PPS matrix\n",
    "print(pps_matrix)\n"
   ]
  },
  {
   "cell_type": "code",
   "execution_count": null,
   "id": "03480621-9265-4d95-8a6c-a09a4baf2194",
   "metadata": {},
   "outputs": [],
   "source": [
    "# Correlation matrix for numerical features\n",
    "corr_matrix = df_clean[numerical_cols].corr()\n",
    "print(corr_matrix)\n"
   ]
  },
  {
   "cell_type": "code",
   "execution_count": null,
   "id": "a0b067e7-97fb-48c6-aa64-638c2b5bccf8",
   "metadata": {},
   "outputs": [],
   "source": []
  }
 ],
 "metadata": {
  "kernelspec": {
   "display_name": "Python [conda env:base] *",
   "language": "python",
   "name": "conda-base-py"
  },
  "language_info": {
   "codemirror_mode": {
    "name": "ipython",
    "version": 3
   },
   "file_extension": ".py",
   "mimetype": "text/x-python",
   "name": "python",
   "nbconvert_exporter": "python",
   "pygments_lexer": "ipython3",
   "version": "3.13.5"
  }
 },
 "nbformat": 4,
 "nbformat_minor": 5
}
