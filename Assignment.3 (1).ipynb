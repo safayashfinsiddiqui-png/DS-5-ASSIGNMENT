{
 "cells": [
  {
   "cell_type": "code",
   "execution_count": 1,
   "id": "8075b9ba-1dbb-461d-b302-8927699bd58e",
   "metadata": {},
   "outputs": [
    {
     "name": "stdout",
     "output_type": "stream",
     "text": [
      "13 is a prime number\n"
     ]
    }
   ],
   "source": [
    "num = 13\n",
    "if num > 1:\n",
    "    for i in range(2, int(num**0.5) + 1):\n",
    "        if num % i == 0:\n",
    "            print(num, \"is not aprime number\")\n",
    "            break\n",
    "    else:\n",
    "        print(num,\"is a prime number\")\n",
    "else:\n",
    "    print(num,\"is not a prime number\")"
   ]
  },
  {
   "cell_type": "code",
   "execution_count": null,
   "id": "cf45ac01-e3f0-4339-bad1-3c8aa09c8839",
   "metadata": {},
   "outputs": [
    {
     "name": "stdout",
     "output_type": "stream",
     "text": [
      "multiply: 9 X 3\n"
     ]
    }
   ],
   "source": [
    "import random\n",
    "num1 = random.randint(1, 10)\n",
    "num2 = random.randint(1, 10)\n",
    "\n",
    "print(\"multiply:\", num1, \"X\", num2)\n",
    "user_answer = int(input(\"Enter your answer:\"))\n",
    "\n",
    "correct_answer = num1 * num2\n",
    "\n",
    "if user_answer == correct_answer:\n",
    "    print(\"correct!\")\n",
    "else:\n",
    "    print(\"wrong.The correct answer is:\", correct_answer)"
   ]
  },
  {
   "cell_type": "code",
   "execution_count": 2,
   "id": "55a2bef8-633f-407e-b2ae-459c29c5b2d0",
   "metadata": {},
   "outputs": [
    {
     "name": "stdout",
     "output_type": "stream",
     "text": [
      "100 squared is 10000\n",
      "102 squared is 10404\n",
      "104 squared is 10816\n",
      "106 squared is 11236\n",
      "108 squared is 11664\n",
      "110 squared is 12100\n",
      "112 squared is 12544\n",
      "114 squared is 12996\n",
      "116 squared is 13456\n",
      "118 squared is 13924\n",
      "120 squared is 14400\n",
      "122 squared is 14884\n",
      "124 squared is 15376\n",
      "126 squared is 15876\n",
      "128 squared is 16384\n",
      "130 squared is 16900\n",
      "132 squared is 17424\n",
      "134 squared is 17956\n",
      "136 squared is 18496\n",
      "138 squared is 19044\n",
      "140 squared is 19600\n",
      "142 squared is 20164\n",
      "144 squared is 20736\n",
      "146 squared is 21316\n",
      "148 squared is 21904\n",
      "150 squared is 22500\n",
      "152 squared is 23104\n",
      "154 squared is 23716\n",
      "156 squared is 24336\n",
      "158 squared is 24964\n",
      "160 squared is 25600\n",
      "162 squared is 26244\n",
      "164 squared is 26896\n",
      "166 squared is 27556\n",
      "168 squared is 28224\n",
      "170 squared is 28900\n",
      "172 squared is 29584\n",
      "174 squared is 30276\n",
      "176 squared is 30976\n",
      "178 squared is 31684\n",
      "180 squared is 32400\n",
      "182 squared is 33124\n",
      "184 squared is 33856\n",
      "186 squared is 34596\n",
      "188 squared is 35344\n",
      "190 squared is 36100\n",
      "192 squared is 36864\n",
      "194 squared is 37636\n",
      "196 squared is 38416\n",
      "198 squared is 39204\n"
     ]
    }
   ],
   "source": [
    "#even number square\n",
    "for i in range(100, 200):\n",
    "    if i % 2 == 0:\n",
    "        print(i, \"squared is\", i**2)"
   ]
  },
  {
   "cell_type": "code",
   "execution_count": 3,
   "id": "099f1ff2-e302-4105-938e-4147a234033d",
   "metadata": {},
   "outputs": [
    {
     "name": "stdout",
     "output_type": "stream",
     "text": [
      "101 squared is 10201\n",
      "103 squared is 10609\n",
      "105 squared is 11025\n",
      "107 squared is 11449\n",
      "109 squared is 11881\n",
      "111 squared is 12321\n",
      "113 squared is 12769\n",
      "115 squared is 13225\n",
      "117 squared is 13689\n",
      "119 squared is 14161\n",
      "121 squared is 14641\n",
      "123 squared is 15129\n",
      "125 squared is 15625\n",
      "127 squared is 16129\n",
      "129 squared is 16641\n",
      "131 squared is 17161\n",
      "133 squared is 17689\n",
      "135 squared is 18225\n",
      "137 squared is 18769\n",
      "139 squared is 19321\n",
      "141 squared is 19881\n",
      "143 squared is 20449\n",
      "145 squared is 21025\n",
      "147 squared is 21609\n",
      "149 squared is 22201\n",
      "151 squared is 22801\n",
      "153 squared is 23409\n",
      "155 squared is 24025\n",
      "157 squared is 24649\n",
      "159 squared is 25281\n",
      "161 squared is 25921\n",
      "163 squared is 26569\n",
      "165 squared is 27225\n",
      "167 squared is 27889\n",
      "169 squared is 28561\n",
      "171 squared is 29241\n",
      "173 squared is 29929\n",
      "175 squared is 30625\n",
      "177 squared is 31329\n",
      "179 squared is 32041\n",
      "181 squared is 32761\n",
      "183 squared is 33489\n",
      "185 squared is 34225\n",
      "187 squared is 34969\n",
      "189 squared is 35721\n",
      "191 squared is 36481\n",
      "193 squared is 37249\n",
      "195 squared is 38025\n",
      "197 squared is 38809\n",
      "199 squared is 39601\n"
     ]
    }
   ],
   "source": [
    "#odd number square\n",
    "for i in range(100, 201):\n",
    "    if i % 2 != 0:\n",
    "        print(i, \"squared is\", i**2)"
   ]
  },
  {
   "cell_type": "code",
   "execution_count": 4,
   "id": "d77e7133-9abf-4dfe-bdcc-a6e5dc05a92d",
   "metadata": {},
   "outputs": [
    {
     "name": "stdout",
     "output_type": "stream",
     "text": [
      "this : 1\n",
      "this : 1\n",
      "is : 1\n",
      "this : 1\n",
      "is : 1\n",
      "a : 1\n",
      "this : 1\n",
      "is : 1\n",
      "a : 1\n",
      "simple : 1\n",
      "this : 1\n",
      "is : 1\n",
      "a : 1\n",
      "simple : 1\n",
      "text : 1\n",
      "this : 2\n",
      "is : 1\n",
      "a : 1\n",
      "simple : 1\n",
      "text : 2\n",
      "will : 1\n",
      "this : 2\n",
      "is : 1\n",
      "a : 1\n",
      "simple : 1\n",
      "text : 2\n",
      "will : 1\n",
      "be : 1\n",
      "this : 2\n",
      "is : 1\n",
      "a : 1\n",
      "simple : 1\n",
      "text : 2\n",
      "will : 1\n",
      "be : 1\n",
      "used : 1\n",
      "this : 2\n",
      "is : 1\n",
      "a : 1\n",
      "simple : 1\n",
      "text : 2\n",
      "will : 1\n",
      "be : 1\n",
      "used : 1\n",
      "to : 1\n",
      "this : 2\n",
      "is : 1\n",
      "a : 1\n",
      "simple : 1\n",
      "text : 2\n",
      "will : 1\n",
      "be : 1\n",
      "used : 1\n",
      "to : 1\n",
      "demonstrate : 1\n",
      "this : 2\n",
      "is : 1\n",
      "a : 1\n",
      "simple : 1\n",
      "text : 2\n",
      "will : 1\n",
      "be : 1\n",
      "used : 1\n",
      "to : 1\n",
      "demonstrate : 1\n",
      "the : 1\n",
      "this : 2\n",
      "is : 1\n",
      "a : 1\n",
      "simple : 1\n",
      "text : 2\n",
      "will : 1\n",
      "be : 1\n",
      "used : 1\n",
      "to : 1\n",
      "demonstrate : 1\n",
      "the : 1\n",
      "word : 1\n",
      "this : 2\n",
      "is : 1\n",
      "a : 1\n",
      "simple : 1\n",
      "text : 2\n",
      "will : 1\n",
      "be : 1\n",
      "used : 1\n",
      "to : 1\n",
      "demonstrate : 1\n",
      "the : 1\n",
      "word : 1\n",
      "counter : 1\n"
     ]
    }
   ],
   "source": [
    "#Excercise 4\n",
    "import string\n",
    "text = \"This is a simple text. This text will be used to demonstrate the word counter.\"\n",
    "text = text.translate(str.maketrans('','',string.punctuation))\n",
    "words = text.lower().split()\n",
    "word_count = {}\n",
    "for w in words:\n",
    "    if w in word_count:\n",
    "        word_count[w] += 1\n",
    "    else:\n",
    "        word_count[w] = 1\n",
    "        for word,count in word_count.items():\n",
    "            print(word, \":\", word_count[word])"
   ]
  },
  {
   "cell_type": "code",
   "execution_count": 9,
   "id": "e5a2e297-453e-4579-9549-73551d757412",
   "metadata": {},
   "outputs": [],
   "source": [
    "# Function to check if a string is palindrome\n",
    "def is_palindrome(text: str) -> bool:\n",
    "    # convert to lowercase and remove space\n",
    "    cleaned = \"\".join(char.lower() for char in text if char.isalnum())\n",
    "    return cleaned == cleaned[::-1]"
   ]
  },
  {
   "cell_type": "code",
   "execution_count": 10,
   "id": "715ef225-9504-4ff9-8647-f879e2b7bd91",
   "metadata": {},
   "outputs": [
    {
     "name": "stdout",
     "output_type": "stream",
     "text": [
      "True\n",
      "False\n",
      "True\n",
      "True\n"
     ]
    }
   ],
   "source": [
    "print(is_palindrome(\"racecar\")) # true\n",
    "print(is_palindrome(\"hello\"))  # false\n",
    "print(is_palindrome(\"madam\")) # true \n",
    "print(is_palindrome(\"a man a plan a canal panama\")) # true\n",
    "      "
   ]
  },
  {
   "cell_type": "code",
   "execution_count": null,
   "id": "16aca70d-e035-46ec-b8ab-65d5de2cd818",
   "metadata": {},
   "outputs": [],
   "source": []
  }
 ],
 "metadata": {
  "kernelspec": {
   "display_name": "Python [conda env:base] *",
   "language": "python",
   "name": "conda-base-py"
  },
  "language_info": {
   "codemirror_mode": {
    "name": "ipython",
    "version": 3
   },
   "file_extension": ".py",
   "mimetype": "text/x-python",
   "name": "python",
   "nbconvert_exporter": "python",
   "pygments_lexer": "ipython3",
   "version": "3.13.5"
  }
 },
 "nbformat": 4,
 "nbformat_minor": 5
}
