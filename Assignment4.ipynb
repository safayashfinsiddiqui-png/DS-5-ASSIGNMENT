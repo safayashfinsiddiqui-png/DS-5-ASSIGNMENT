{
 "cells": [
  {
   "cell_type": "code",
   "execution_count": 9,
   "id": "aded7fb3-bde0-48d0-aafd-9f45f6d06f61",
   "metadata": {},
   "outputs": [],
   "source": [
    "import numpy as np\n",
    "import pandas as pd"
   ]
  },
  {
   "cell_type": "code",
   "execution_count": 10,
   "id": "3945ce74-0f73-4c5b-b9b3-240faef9a1bc",
   "metadata": {},
   "outputs": [],
   "source": [
    "from scipy.stats import chi2_contingency"
   ]
  },
  {
   "cell_type": "code",
   "execution_count": 11,
   "id": "4d3d8fb0-3fd5-4cd0-9cd2-89a4fbce0459",
   "metadata": {},
   "outputs": [],
   "source": [
    "# contingency table(observed)\n",
    "data = np.array([[50,70],\n",
    "                [80,100],\n",
    "                [60,90],\n",
    "                [30,50],\n",
    "                [20,50]])\n"
   ]
  },
  {
   "cell_type": "code",
   "execution_count": 12,
   "id": "4acc8784-c25c-4d9a-a719-ee1a444d8075",
   "metadata": {},
   "outputs": [
    {
     "name": "stdout",
     "output_type": "stream",
     "text": [
      "observed contingency table:\n",
      "                   smart thermostat  smart light\n",
      "very satisfied                  50           70\n",
      "satisfied                       80          100\n",
      "nautral                         60           90\n",
      "unsatisfied                     30           50\n",
      "very unsatisfied                20           50\n"
     ]
    }
   ],
   "source": [
    "df = pd.DataFrame(data,columns=[\"smart thermostat\", \"smart light\"],\n",
    "                  index = [\"very satisfied\", \"satisfied\",\"nautral\",\"unsatisfied\",\"very unsatisfied\"])\n",
    "print(\"observed contingency table:\\n\",df)"
   ]
  },
  {
   "cell_type": "code",
   "execution_count": 13,
   "id": "ccce06d1-0254-4d68-a6db-47d0a3a455b9",
   "metadata": {},
   "outputs": [
    {
     "name": "stdout",
     "output_type": "stream",
     "text": [
      "\n",
      "Q1:Hypotheses\n",
      "HO: customer satisfaction is independent of device type.\n",
      "H1:customer satisfaction depends on device type.\n"
     ]
    }
   ],
   "source": [
    "# question 1\n",
    "print(\"\\nQ1:Hypotheses\")\n",
    "print(\"HO: customer satisfaction is independent of device type.\")\n",
    "print(\"H1:customer satisfaction depends on device type.\")"
   ]
  },
  {
   "cell_type": "code",
   "execution_count": 14,
   "id": "68f81ce9-d100-4fc7-a3e6-0c266b051ff6",
   "metadata": {},
   "outputs": [
    {
     "name": "stdout",
     "output_type": "stream",
     "text": [
      "\n",
      "Q2: chi-square test results\n",
      "chi-square satisttic = 5.638227513227513\n",
      "degrees of freedom = 4\n",
      "p-value = 0.22784371130697179\n",
      "expected frequencies:\n",
      " [[ 48.  72.]\n",
      " [ 72. 108.]\n",
      " [ 60.  90.]\n",
      " [ 32.  48.]\n",
      " [ 28.  42.]]\n"
     ]
    }
   ],
   "source": [
    "# question2\n",
    "chi2_stat, p_val, dof, expected = chi2_contingency(data)\n",
    "print(\"\\nQ2: chi-square test results\")\n",
    "print(\"chi-square satisttic =\",chi2_stat)\n",
    "print(\"degrees of freedom =\", dof)\n",
    "print(\"p-value =\", p_val)\n",
    "print(\"expected frequencies:\\n\", expected)"
   ]
  },
  {
   "cell_type": "code",
   "execution_count": 15,
   "id": "a4347651-9a25-43c8-9960-4ecfd0ddaf18",
   "metadata": {},
   "outputs": [],
   "source": [
    "from scipy.stats import chi2"
   ]
  },
  {
   "cell_type": "code",
   "execution_count": 16,
   "id": "c6b22f26-e7f8-4301-a511-540c181ba060",
   "metadata": {},
   "outputs": [
    {
     "name": "stdout",
     "output_type": "stream",
     "text": [
      "\n",
      "q3: critical value(alpha=0.05,df=4) = 9.487729036781154\n"
     ]
    }
   ],
   "source": [
    "# question3\n",
    "alpha = 0.05\n",
    "critical_value = chi2.ppf(1 - alpha,dof)\n",
    "print(\"\\nq3: critical value(alpha=0.05,df={}) = {}\".format(dof,critical_value))"
   ]
  },
  {
   "cell_type": "code",
   "execution_count": 17,
   "id": "64eda8f3-a292-415b-a078-71ebeca6c9a7",
   "metadata": {},
   "outputs": [
    {
     "name": "stdout",
     "output_type": "stream",
     "text": [
      "chi-square statistic = 5.638227513227513\n",
      "critical value (alpha=0.05,df=4) = 9.487729036781154\n",
      "p-value = 0.22784371130697179\n",
      "\n"
     ]
    }
   ],
   "source": [
    "# question 4\n",
    "print(\"chi-square statistic =\", chi2_stat)\n",
    "print(\"critical value (alpha=0.05,df={}) = {}\".format(dof,critical_value))\n",
    "print(\"p-value =\", p_val)\n",
    "print()\n",
    "\n"
   ]
  },
  {
   "cell_type": "code",
   "execution_count": 18,
   "id": "bb731ab0-c6c5-47d7-8fb6-36913f85964d",
   "metadata": {},
   "outputs": [
    {
     "name": "stdout",
     "output_type": "stream",
     "text": [
      "decision: Fail to reject HO\n",
      "conclusion: There Is NO significant association between device type and satisfaction (at alpha = 0.05.\n"
     ]
    }
   ],
   "source": [
    "if chi2_stat > critical_value:\n",
    "    print(\"decision: reject HO\")\n",
    "    print(\"conclusion: there IS a significant association between device type and satisfaction.\")\n",
    "else:\n",
    "    print(\"decision: Fail to reject HO\")\n",
    "    print(\"conclusion: There Is NO significant association between device type and satisfaction (at alpha = 0.05.\")"
   ]
  },
  {
   "cell_type": "code",
   "execution_count": 30,
   "id": "6d06899d-2b1e-41e8-ae51-38e96b024a85",
   "metadata": {},
   "outputs": [],
   "source": [
    "import numpy as np\n",
    "import pandas as pd\n",
    "from scipy.stats import chi2_contingency, chi2"
   ]
  },
  {
   "cell_type": "code",
   "execution_count": 31,
   "id": "7e124ebc-9032-4be2-8b99-8d0272719619",
   "metadata": {},
   "outputs": [],
   "source": [
    "data = np.array([[50,70],\n",
    "                [80,100],\n",
    "                [60,90],\n",
    "                [30,50],\n",
    "                [20,50]])"
   ]
  },
  {
   "cell_type": "code",
   "execution_count": 36,
   "id": "b686659f-d449-46fb-a5f1-3e65ef4b5795",
   "metadata": {},
   "outputs": [],
   "source": [
    "df = pd.DataFrame(data)"
   ]
  },
  {
   "cell_type": "code",
   "execution_count": 37,
   "id": "53e208eb-7a81-4773-b377-3568925e7b13",
   "metadata": {},
   "outputs": [
    {
     "name": "stdout",
     "output_type": "stream",
     "text": [
      "observed contingency table:\n",
      "     0    1\n",
      "0  50   70\n",
      "1  80  100\n",
      "2  60   90\n",
      "3  30   50\n",
      "4  20   50\n"
     ]
    }
   ],
   "source": [
    "print(\"observed contingency table:\\n\",df)"
   ]
  },
  {
   "cell_type": "code",
   "execution_count": 38,
   "id": "3e634646-9a61-45e1-925c-73e24206ab32",
   "metadata": {},
   "outputs": [
    {
     "name": "stdout",
     "output_type": "stream",
     "text": [
      "Q2: chi-square teat results\n",
      "chi-square statistic =  5.6382\n",
      "degrees of freedom = 4\n",
      "p-value  0.2278\n",
      "\n",
      "expected frequencies:\n",
      "[[ 48.  72.]\n",
      " [ 72. 108.]\n",
      " [ 60.  90.]\n",
      " [ 32.  48.]\n",
      " [ 28.  42.]]\n",
      "\n",
      "\n"
     ]
    }
   ],
   "source": [
    "chi2_stat, p_value, dof, expected = chi2_contingency(data)\n",
    "print(\"Q2: chi-square teat results\")\n",
    "print(f\"chi-square statistic = {chi2_stat: .4f}\")\n",
    "print(f\"degrees of freedom = {dof}\")\n",
    "print(f\"p-value {p_value: .4f}\")\n",
    "print(\"\\nexpected frequencies:\")\n",
    "print(expected)\n",
    "print(\"\\n\")"
   ]
  },
  {
   "cell_type": "code",
   "execution_count": 39,
   "id": "36b7d8ff-f792-4740-a2f6-97ba3cfbe23e",
   "metadata": {},
   "outputs": [
    {
     "name": "stdout",
     "output_type": "stream",
     "text": [
      "Q3: critical value calculation\n",
      "critical value (alpha=0.05,df=4) =  9.4877\n",
      "\n",
      "\n"
     ]
    }
   ],
   "source": [
    "alpha = 0.05\n",
    "critical_value = chi2.ppf(1 - alpha,dof)\n",
    "print(\"Q3: critical value calculation\")\n",
    "print(f\"critical value (alpha=0.05,df={dof}) = {critical_value: .4f}\")\n",
    "print(\"\\n\")"
   ]
  },
  {
   "cell_type": "code",
   "execution_count": 41,
   "id": "6f80e82c-6f9b-4781-9d4d-232211f3515c",
   "metadata": {},
   "outputs": [
    {
     "name": "stdout",
     "output_type": "stream",
     "text": [
      "Q4: decision making\n",
      "decision:fail to reject the null hypothesis (no sugnificant association).\n",
      "conclusion: since p < 0.05, result is not statistically significant.\n"
     ]
    }
   ],
   "source": [
    "print(\"Q4: decision making\")\n",
    "\n",
    "if chi2_stat > critical_value:\n",
    "    print(\"decision: reject the null hypothesis (significant association).\")\n",
    "else:\n",
    "    print(\"decision:fail to reject the null hypothesis (no sugnificant association).\")\n",
    "    if p_value < alpha:\n",
    "        print(\"conclusion: since p > 0.05, result is statistically significant.\")\n",
    "    else:\n",
    "        print(\"conclusion: since p < 0.05, result is not statistically significant.\")"
   ]
  },
  {
   "cell_type": "code",
   "execution_count": 42,
   "id": "7de9e61f-9a43-4242-bbd3-03991a6bd631",
   "metadata": {},
   "outputs": [],
   "source": [
    "# HYPOTHESIS TESTING"
   ]
  },
  {
   "cell_type": "code",
   "execution_count": 1,
   "id": "163a0eba-4c44-473d-a8db-6974d29417dd",
   "metadata": {},
   "outputs": [],
   "source": [
    "import math\n",
    "from scipy.stats import norm"
   ]
  },
  {
   "cell_type": "code",
   "execution_count": 6,
   "id": "fe6984b4-d40c-4907-9899-f8d33f73f828",
   "metadata": {},
   "outputs": [],
   "source": [
    "# Assignment Data\n",
    "sample_mean = 3050         \n",
    "X = 600                    \n",
    "X_std = 25                 \n",
    "n = 25                     \n",
    "alpha = 0.05               \n"
   ]
  },
  {
   "cell_type": "code",
   "execution_count": 5,
   "id": "0b6273b7-ec6a-4601-9190-8f9e3c93853f",
   "metadata": {},
   "outputs": [
    {
     "name": "stdout",
     "output_type": "stream",
     "text": [
      "1. Hypothesis Statements:\n",
      "   H₀ (Null Hypothesis): μ = 1000 + 5X\n",
      "   H₁ (Alternative Hypothesis): μ > 1000 + 5X\n",
      "   This is a right-tailed test.\n",
      "\n"
     ]
    }
   ],
   "source": [
    "# 1. State the Hypotheses\n",
    "\n",
    "print(\"1. Hypothesis Statements:\")\n",
    "print(\"   H₀ (Null Hypothesis): μ = 1000 + 5X\")\n",
    "print(\"   H₁ (Alternative Hypothesis): μ > 1000 + 5X\")\n",
    "print(\"   This is a right-tailed test.\\n\")\n"
   ]
  },
  {
   "cell_type": "code",
   "execution_count": 9,
   "id": "0a76e958-b668-445a-94aa-3e5a77d7d123",
   "metadata": {},
   "outputs": [
    {
     "name": "stdout",
     "output_type": "stream",
     "text": [
      "2. Calculation of Test Statistic:\n",
      "   Theoretical Mean (μ): Rs. 4000\n",
      "   Sample Mean (x̄): Rs. 3050\n",
      "   Standard Deviation (σ): Rs. 125\n",
      "   Standard Error (SE): Rs. 25.0\n",
      "   Test Statistic (t): -38.00\n",
      "\n"
     ]
    }
   ],
   "source": [
    "\n",
    "\n",
    "# Theoretical mean cost from model\n",
    "mu = 1000 + 5 * X          # Expected (model) mean\n",
    "sigma = 5 * X_std          # Standard deviation of cost\n",
    "SE = sigma / math.sqrt(n)  # Standard error\n",
    "t_stat = (sample_mean - mu) / SE  # Test statistic\n",
    "\n",
    "print(\"2. Calculation of Test Statistic:\")\n",
    "print(f\"   Theoretical Mean (μ): Rs. {mu}\")\n",
    "print(f\"   Sample Mean (x̄): Rs. {sample_mean}\")\n",
    "print(f\"   Standard Deviation (σ): Rs. {sigma}\")\n",
    "print(f\"   Standard Error (SE): Rs. {SE}\")\n",
    "print(f\"   Test Statistic (t): {t_stat:.2f}\\n\")\n"
   ]
  },
  {
   "cell_type": "code",
   "execution_count": 12,
   "id": "1e259aff-5c81-48ef-a55b-d8c212e7b6b3",
   "metadata": {},
   "outputs": [
    {
     "name": "stdout",
     "output_type": "stream",
     "text": [
      "3. Critical Value:\n",
      "   For α = 0.05, Critical Z-value = 1.645\n",
      "\n"
     ]
    }
   ],
   "source": [
    "\n",
    "critical_value = norm.ppf(1 - alpha)  # Z_0.95\n",
    "print(\"3. Critical Value:\")\n",
    "print(f\"   For α = {alpha}, Critical Z-value = {critical_value:.3f}\\n\")\n"
   ]
  },
  {
   "cell_type": "code",
   "execution_count": 14,
   "id": "9d5bf551-2032-41cc-bbe8-6b9208945924",
   "metadata": {},
   "outputs": [
    {
     "name": "stdout",
     "output_type": "stream",
     "text": [
      "4. Hypothesis Test Decision:\n",
      "   Since t = -38.00 ≤ 1.645, we fail to reject the null hypothesis.\n",
      "\n"
     ]
    }
   ],
   "source": [
    "\n",
    "print(\"4. Hypothesis Test Decision:\")\n",
    "if t_stat > critical_value:\n",
    "    print(f\"   Since t = {t_stat:.2f} > {critical_value:.3f}, we reject the null hypothesis.\")\n",
    "    reject = True\n",
    "else:\n",
    "    print(f\"   Since t = {t_stat:.2f} ≤ {critical_value:.3f}, we fail to reject the null hypothesis.\")\n",
    "    reject = False\n",
    "print()\n"
   ]
  },
  {
   "cell_type": "code",
   "execution_count": 15,
   "id": "4256fa8b-6190-4447-b717-2b5e96329d97",
   "metadata": {},
   "outputs": [
    {
     "name": "stdout",
     "output_type": "stream",
     "text": [
      "5. Conclusion:\n",
      "   There is no evidence to support the claim that the weekly operating costs are higher than the model suggests.\n"
     ]
    }
   ],
   "source": [
    "\n",
    "print(\"5. Conclusion:\")\n",
    "if reject:\n",
    "    print(\"   There is strong evidence to support the claim that the weekly operating costs are higher than the model suggests.\")\n",
    "else:\n",
    "    print(\"   There is no evidence to support the claim that the weekly operating costs are higher than the model suggests.\")"
   ]
  }
 ],
 "metadata": {
  "kernelspec": {
   "display_name": "Python [conda env:base] *",
   "language": "python",
   "name": "conda-base-py"
  },
  "language_info": {
   "codemirror_mode": {
    "name": "ipython",
    "version": 3
   },
   "file_extension": ".py",
   "mimetype": "text/x-python",
   "name": "python",
   "nbconvert_exporter": "python",
   "pygments_lexer": "ipython3",
   "version": "3.13.5"
  }
 },
 "nbformat": 4,
 "nbformat_minor": 5
}
